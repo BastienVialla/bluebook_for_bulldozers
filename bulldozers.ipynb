{
 "cells": [
  {
   "cell_type": "markdown",
   "metadata": {},
   "source": [
    "# A blue book for Bulldozers\n",
    "\n",
    "![ ](bulldozer.jpg \" \")\n",
    "\n",
    "## Overview\n",
    "\n",
    "The goal of the contest is to predict the sale price of a particular piece of heavy equiment at auction based on it's usage, equipment type, and configuaration. The data is sourced from auction result postings and includes information on usage and equipment configurations.\n",
    "\n",
    "## Data\n",
    "\n",
    "For this competition, we are predicting the sale price of bulldozers sold at auctions.\n",
    "\n",
    "The data for this competition is split into three parts:\n",
    "\n",
    "* Train.csv is the training set, which contains data through the end of 2011.\n",
    "* Valid.csv is the validation set, which contains data from January 1, 2012 - April 30, 2012 You make predictions on this set throughout the majority of the competition. Your score on this set is used to create the public leaderboard.\n",
    "* Test.csv is the test set, which won't be released until the last week of the competition. It contains data from May 1, 2012 - November 2012. Your score on the test set determines your final rank for the competition.\n",
    "\n",
    "The key fields are in train.csv are:\n",
    "\n",
    "* SalesID: the uniue identifier of the sale\n",
    "* MachineID: the unique identifier of a machine.  A machine can be sold multiple times\n",
    "* saleprice: what the machine sold for at auction (only provided in train.csv)\n",
    "* saledate: the date of the sale\n",
    "\n",
    "There are several fields towards the end of the file on the different options a machine can have. The descriptions all start with \"machine configuration\" in the data dictionary. Some product types do not have a particular option, so all the records for that option variable will be null for that product type. Also, some sources do not provide good option and/or hours data.\n",
    "\n",
    "The machine_appendix.csv file contains the correct year manufactured for a given machine along with the make, model, and product class details. There is one machine id for every machine in all the competition datasets (training, evaluation, etc.).\n"
   ]
  },
  {
   "cell_type": "markdown",
   "metadata": {},
   "source": [
    "# Imports"
   ]
  },
  {
   "cell_type": "code",
   "execution_count": 1,
   "metadata": {
    "collapsed": true
   },
   "outputs": [],
   "source": [
    "%load_ext autoreload\n",
    "%autoreload 2\n",
    "%matplotlib inline"
   ]
  },
  {
   "cell_type": "code",
   "execution_count": 2,
   "metadata": {},
   "outputs": [],
   "source": [
    "import re\n",
    "import os\n",
    "import pandas as pd\n",
    "import numpy as np\n",
    "import sklearn\n",
    "import math\n",
    "import scipy\n",
    "import matplotlib.pyplot as plt\n",
    "import pickle\n",
    "from sklearn.ensemble import RandomForestRegressor, RandomForestClassifier, ExtraTreesRegressor\n",
    "from IPython.display import display\n",
    "from scipy.cluster import hierarchy as hc\n",
    "from pdpbox import pdp\n",
    "from plotnine import *"
   ]
  },
  {
   "cell_type": "code",
   "execution_count": 3,
   "metadata": {},
   "outputs": [
    {
     "name": "stdout",
     "output_type": "stream",
     "text": [
      "Machine_Appendix.csv appendix.frt         df_process_2.frt\r\n",
      "\u001b[31mTrain.csv\u001b[m\u001b[m            df_merge.frt         train.frt\r\n",
      "\u001b[31mValid.csv\u001b[m\u001b[m            df_process.frt       train.ftr\r\n"
     ]
    }
   ],
   "source": [
    "DATA_DIR = \"data/\"\n",
    "!ls {DATA_DIR}"
   ]
  },
  {
   "cell_type": "markdown",
   "metadata": {},
   "source": [
    "# Load data"
   ]
  },
  {
   "cell_type": "code",
   "execution_count": 5,
   "metadata": {},
   "outputs": [
    {
     "name": "stdout",
     "output_type": "stream",
     "text": [
      "CPU times: user 1min 32s, sys: 601 ms, total: 1min 32s\n",
      "Wall time: 1min 32s\n",
      "CPU times: user 1.04 s, sys: 102 ms, total: 1.14 s\n",
      "Wall time: 1.15 s\n"
     ]
    }
   ],
   "source": [
    "# %time df_train_raw = pd.read_csv(f\"{DATA_DIR}Train.csv\", low_memory=False, parse_dates=[\"saledate\"])\n",
    "# %time df_appendix_raw = pd.read_csv(f\"{DATA_DIR}Machine_Appendix.csv\", low_memory=False)"
   ]
  },
  {
   "cell_type": "code",
   "execution_count": 7,
   "metadata": {
    "collapsed": true
   },
   "outputs": [],
   "source": [
    "# df_train_raw.to_feather(f\"{DATA_DIR}Train.frt\")\n",
    "# df_appendix_raw.to_feather(f\"{DATA_DIR}appendix.frt\")"
   ]
  },
  {
   "cell_type": "code",
   "execution_count": 46,
   "metadata": {},
   "outputs": [
    {
     "name": "stdout",
     "output_type": "stream",
     "text": [
      "CPU times: user 647 ms, sys: 259 ms, total: 906 ms\n",
      "Wall time: 905 ms\n",
      "CPU times: user 280 ms, sys: 89.3 ms, total: 370 ms\n",
      "Wall time: 368 ms\n"
     ]
    }
   ],
   "source": [
    "%time df_train_raw = pd.read_feather(f\"{DATA_DIR}Train.frt\")\n",
    "%time df_appendix_raw = pd.read_feather(f\"{DATA_DIR}appendix.frt\")"
   ]
  },
  {
   "cell_type": "code",
   "execution_count": 47,
   "metadata": {},
   "outputs": [
    {
     "name": "stdout",
     "output_type": "stream",
     "text": [
      "Index(['SalesID', 'SalePrice', 'MachineID', 'ModelID', 'datasource',\n",
      "       'auctioneerID', 'YearMade', 'MachineHoursCurrentMeter', 'UsageBand',\n",
      "       'saledate', 'fiModelDesc', 'fiBaseModel', 'fiSecondaryDesc',\n",
      "       'fiModelSeries', 'fiModelDescriptor', 'ProductSize',\n",
      "       'fiProductClassDesc', 'state', 'ProductGroup', 'ProductGroupDesc',\n",
      "       'Drive_System', 'Enclosure', 'Forks', 'Pad_Type', 'Ride_Control',\n",
      "       'Stick', 'Transmission', 'Turbocharged', 'Blade_Extension',\n",
      "       'Blade_Width', 'Enclosure_Type', 'Engine_Horsepower', 'Hydraulics',\n",
      "       'Pushblock', 'Ripper', 'Scarifier', 'Tip_Control', 'Tire_Size',\n",
      "       'Coupler', 'Coupler_System', 'Grouser_Tracks', 'Hydraulics_Flow',\n",
      "       'Track_Type', 'Undercarriage_Pad_Width', 'Stick_Length', 'Thumb',\n",
      "       'Pattern_Changer', 'Grouser_Type', 'Backhoe_Mounting', 'Blade_Type',\n",
      "       'Travel_Controls', 'Differential_Type', 'Steering_Controls'],\n",
      "      dtype='object')\n",
      "Index(['MachineID', 'ModelID', 'fiModelDesc', 'fiBaseModel', 'fiSecondaryDesc',\n",
      "       'fiModelSeries', 'fiModelDescriptor', 'fiProductClassDesc',\n",
      "       'ProductGroup', 'ProductGroupDesc', 'MfgYear', 'fiManufacturerID',\n",
      "       'fiManufacturerDesc', 'PrimarySizeBasis', 'PrimaryLower',\n",
      "       'PrimaryUpper'],\n",
      "      dtype='object')\n"
     ]
    }
   ],
   "source": [
    "# We merge the two dataframes by the MachineID key\n",
    "# df_merge_raw = pd.merge(df_train_raw, df_appendix_raw, on=\"MachineID\", how=\"inner\")\n",
    "print(df_train_raw.columns)\n",
    "print(df_appendix_raw.columns)"
   ]
  },
  {
   "cell_type": "code",
   "execution_count": 48,
   "metadata": {
    "collapsed": true
   },
   "outputs": [],
   "source": [
    "# Merge the two dataframes on the key MachineID, we'll deal after with the duplicate columns fiModelDesc, ...\n",
    "df_merge_raw = pd.merge(df_train_raw, df_appendix_raw, on=\"MachineID\", how=\"inner\")"
   ]
  },
  {
   "cell_type": "code",
   "execution_count": 49,
   "metadata": {
    "collapsed": true
   },
   "outputs": [],
   "source": [
    "df_merge_raw.to_feather(f\"{DATA_DIR}merge_raw.frt\")"
   ]
  },
  {
   "cell_type": "code",
   "execution_count": 50,
   "metadata": {
    "collapsed": true
   },
   "outputs": [],
   "source": [
    "df_merge_raw = pd.read_feather(f\"{DATA_DIR}merge_raw.frt\")"
   ]
  },
  {
   "cell_type": "code",
   "execution_count": 51,
   "metadata": {
    "collapsed": true
   },
   "outputs": [],
   "source": [
    "# Save memory by deleting the two originals dataframes\n",
    "del df_train_raw\n",
    "del df_appendix_raw"
   ]
  },
  {
   "cell_type": "code",
   "execution_count": 52,
   "metadata": {},
   "outputs": [
    {
     "data": {
      "text/plain": [
       "Index(['SalesID', 'SalePrice', 'MachineID', 'ModelID_x', 'datasource',\n",
       "       'auctioneerID', 'YearMade', 'MachineHoursCurrentMeter', 'UsageBand',\n",
       "       'saledate', 'fiModelDesc_x', 'fiBaseModel_x', 'fiSecondaryDesc_x',\n",
       "       'fiModelSeries_x', 'fiModelDescriptor_x', 'ProductSize',\n",
       "       'fiProductClassDesc_x', 'state', 'ProductGroup_x', 'ProductGroupDesc_x',\n",
       "       'Drive_System', 'Enclosure', 'Forks', 'Pad_Type', 'Ride_Control',\n",
       "       'Stick', 'Transmission', 'Turbocharged', 'Blade_Extension',\n",
       "       'Blade_Width', 'Enclosure_Type', 'Engine_Horsepower', 'Hydraulics',\n",
       "       'Pushblock', 'Ripper', 'Scarifier', 'Tip_Control', 'Tire_Size',\n",
       "       'Coupler', 'Coupler_System', 'Grouser_Tracks', 'Hydraulics_Flow',\n",
       "       'Track_Type', 'Undercarriage_Pad_Width', 'Stick_Length', 'Thumb',\n",
       "       'Pattern_Changer', 'Grouser_Type', 'Backhoe_Mounting', 'Blade_Type',\n",
       "       'Travel_Controls', 'Differential_Type', 'Steering_Controls',\n",
       "       'ModelID_y', 'fiModelDesc_y', 'fiBaseModel_y', 'fiSecondaryDesc_y',\n",
       "       'fiModelSeries_y', 'fiModelDescriptor_y', 'fiProductClassDesc_y',\n",
       "       'ProductGroup_y', 'ProductGroupDesc_y', 'MfgYear', 'fiManufacturerID',\n",
       "       'fiManufacturerDesc', 'PrimarySizeBasis', 'PrimaryLower',\n",
       "       'PrimaryUpper'],\n",
       "      dtype='object')"
      ]
     },
     "execution_count": 52,
     "metadata": {},
     "output_type": "execute_result"
    }
   ],
   "source": [
    "# Now let deal with the duplicate columns\n",
    "df_merge_raw.columns"
   ]
  },
  {
   "cell_type": "code",
   "execution_count": 53,
   "metadata": {},
   "outputs": [
    {
     "data": {
      "text/plain": [
       "{'ModelID': True,\n",
       " 'ProductGroup': True,\n",
       " 'ProductGroupDesc': True,\n",
       " 'fiBaseModel': True,\n",
       " 'fiModelDesc': True,\n",
       " 'fiModelDescriptor': False,\n",
       " 'fiModelSeries': False,\n",
       " 'fiProductClassDesc': True,\n",
       " 'fiSecondaryDesc': False}"
      ]
     },
     "execution_count": 53,
     "metadata": {},
     "output_type": "execute_result"
    }
   ],
   "source": [
    "# From the files descriptions we can deduce that the values in the appendix file is more correct.\n",
    "# But let look on the missing values of each duplicate columns.\n",
    "duplicate_columns = [\"fiModelDesc\", \"fiBaseModel\", \"fiSecondaryDesc\", \"fiModelSeries\",\n",
    "                     \"fiModelDescriptor\", \"fiProductClassDesc\", \"ProductGroup\", \"ProductGroupDesc\", \"ModelID\"]\n",
    "temp = {col_name: df_merge_raw[col_name+\"_x\"].isnull().sum() == df_merge_raw[col_name+\"_y\"].isnull().sum() for col_name in duplicate_columns}\n",
    "temp"
   ]
  },
  {
   "cell_type": "code",
   "execution_count": 54,
   "metadata": {},
   "outputs": [
    {
     "data": {
      "text/plain": [
       "{'ModelID': [0, 0],\n",
       " 'ProductGroup': [0, 0],\n",
       " 'ProductGroupDesc': [0, 0],\n",
       " 'fiBaseModel': [0, 0],\n",
       " 'fiModelDesc': [0, 0],\n",
       " 'fiModelDescriptor': [329206, 326906],\n",
       " 'fiModelSeries': [344217, 343515],\n",
       " 'fiProductClassDesc': [0, 0],\n",
       " 'fiSecondaryDesc': [137191, 135593]}"
      ]
     },
     "execution_count": 54,
     "metadata": {},
     "output_type": "execute_result"
    }
   ],
   "source": [
    "ok_columns = [key for key, val in temp.items() if val == True]\n",
    "{col_name: [df_merge_raw[col_name+\"_x\"].isnull().sum(), df_merge_raw[col_name+\"_y\"].isnull().sum()] for col_name in duplicate_columns}"
   ]
  },
  {
   "cell_type": "code",
   "execution_count": 55,
   "metadata": {
    "collapsed": true
   },
   "outputs": [],
   "source": [
    "# We see that their is more missing entries in the columns from the train dataframe than the appendix.\n",
    "# Hence, for each ducplicate columns we can drop the ones that come from the train dataframe.\n",
    "df_merge = df_merge_raw.drop([col_name+\"_x\" for col_name in duplicate_columns], axis=1)"
   ]
  },
  {
   "cell_type": "code",
   "execution_count": 60,
   "metadata": {
    "collapsed": true
   },
   "outputs": [],
   "source": [
    "# For convinience we remove the _y of each duplicate columns\n",
    "for col_name in duplicate_columns:\n",
    "    df_merge[col_name] = df_merge[col_name+\"_y\"]\n",
    "    df_merge.drop(col_name+\"_y\", axis=1, inplace=True)"
   ]
  },
  {
   "cell_type": "code",
   "execution_count": 61,
   "metadata": {
    "collapsed": true
   },
   "outputs": [],
   "source": [
    "# Let save the dataframe\n",
    "df_merge.to_feather(f\"{DATA_DIR}df_merge.frt\")"
   ]
  },
  {
   "cell_type": "code",
   "execution_count": 63,
   "metadata": {
    "collapsed": true
   },
   "outputs": [],
   "source": [
    "del df_merge_raw"
   ]
  },
  {
   "cell_type": "markdown",
   "metadata": {},
   "source": [
    "## Missing values"
   ]
  },
  {
   "cell_type": "code",
   "execution_count": 64,
   "metadata": {
    "collapsed": true
   },
   "outputs": [],
   "source": [
    "df_merge = pd.read_feather(f\"{DATA_DIR}df_merge.frt\")"
   ]
  },
  {
   "cell_type": "code",
   "execution_count": 65,
   "metadata": {
    "collapsed": true
   },
   "outputs": [],
   "source": [
    "def missing_values_stats(df, keep_zeros=False):\n",
    "    res = pd.DataFrame()\n",
    "    res[\"Total\"] = df.isnull().sum().sort_values(ascending=False)\n",
    "    res[\"Percentage\"] = np.round((res[\"Total\"]/len(df))*100, 2)\n",
    "    if not keep_zeros:\n",
    "        res = res.loc[res.Total > 0, [\"Total\", \"Percentage\"]]\n",
    "    return res"
   ]
  },
  {
   "cell_type": "code",
   "execution_count": 66,
   "metadata": {},
   "outputs": [
    {
     "data": {
      "text/html": [
       "<div>\n",
       "<style>\n",
       "    .dataframe thead tr:only-child th {\n",
       "        text-align: right;\n",
       "    }\n",
       "\n",
       "    .dataframe thead th {\n",
       "        text-align: left;\n",
       "    }\n",
       "\n",
       "    .dataframe tbody tr th {\n",
       "        vertical-align: top;\n",
       "    }\n",
       "</style>\n",
       "<table border=\"1\" class=\"dataframe\">\n",
       "  <thead>\n",
       "    <tr style=\"text-align: right;\">\n",
       "      <th></th>\n",
       "      <th>Total</th>\n",
       "      <th>Percentage</th>\n",
       "    </tr>\n",
       "  </thead>\n",
       "  <tbody>\n",
       "    <tr>\n",
       "      <th>Pushblock</th>\n",
       "      <td>375906</td>\n",
       "      <td>93.71</td>\n",
       "    </tr>\n",
       "    <tr>\n",
       "      <th>Tip_Control</th>\n",
       "      <td>375906</td>\n",
       "      <td>93.71</td>\n",
       "    </tr>\n",
       "    <tr>\n",
       "      <th>Engine_Horsepower</th>\n",
       "      <td>375906</td>\n",
       "      <td>93.71</td>\n",
       "    </tr>\n",
       "    <tr>\n",
       "      <th>Blade_Extension</th>\n",
       "      <td>375906</td>\n",
       "      <td>93.71</td>\n",
       "    </tr>\n",
       "    <tr>\n",
       "      <th>Blade_Width</th>\n",
       "      <td>375906</td>\n",
       "      <td>93.71</td>\n",
       "    </tr>\n",
       "    <tr>\n",
       "      <th>Enclosure_Type</th>\n",
       "      <td>375906</td>\n",
       "      <td>93.71</td>\n",
       "    </tr>\n",
       "    <tr>\n",
       "      <th>Scarifier</th>\n",
       "      <td>375895</td>\n",
       "      <td>93.71</td>\n",
       "    </tr>\n",
       "    <tr>\n",
       "      <th>Hydraulics_Flow</th>\n",
       "      <td>357763</td>\n",
       "      <td>89.19</td>\n",
       "    </tr>\n",
       "    <tr>\n",
       "      <th>Grouser_Tracks</th>\n",
       "      <td>357763</td>\n",
       "      <td>89.19</td>\n",
       "    </tr>\n",
       "    <tr>\n",
       "      <th>Coupler_System</th>\n",
       "      <td>357667</td>\n",
       "      <td>89.17</td>\n",
       "    </tr>\n",
       "    <tr>\n",
       "      <th>fiModelSeries</th>\n",
       "      <td>343515</td>\n",
       "      <td>85.64</td>\n",
       "    </tr>\n",
       "    <tr>\n",
       "      <th>Steering_Controls</th>\n",
       "      <td>331756</td>\n",
       "      <td>82.71</td>\n",
       "    </tr>\n",
       "    <tr>\n",
       "      <th>Differential_Type</th>\n",
       "      <td>331714</td>\n",
       "      <td>82.70</td>\n",
       "    </tr>\n",
       "    <tr>\n",
       "      <th>UsageBand</th>\n",
       "      <td>331486</td>\n",
       "      <td>82.64</td>\n",
       "    </tr>\n",
       "    <tr>\n",
       "      <th>fiModelDescriptor</th>\n",
       "      <td>326906</td>\n",
       "      <td>81.50</td>\n",
       "    </tr>\n",
       "    <tr>\n",
       "      <th>Backhoe_Mounting</th>\n",
       "      <td>322453</td>\n",
       "      <td>80.39</td>\n",
       "    </tr>\n",
       "    <tr>\n",
       "      <th>Stick</th>\n",
       "      <td>321991</td>\n",
       "      <td>80.27</td>\n",
       "    </tr>\n",
       "    <tr>\n",
       "      <th>Pad_Type</th>\n",
       "      <td>321991</td>\n",
       "      <td>80.27</td>\n",
       "    </tr>\n",
       "    <tr>\n",
       "      <th>Turbocharged</th>\n",
       "      <td>321991</td>\n",
       "      <td>80.27</td>\n",
       "    </tr>\n",
       "    <tr>\n",
       "      <th>Blade_Type</th>\n",
       "      <td>321292</td>\n",
       "      <td>80.10</td>\n",
       "    </tr>\n",
       "    <tr>\n",
       "      <th>Travel_Controls</th>\n",
       "      <td>321291</td>\n",
       "      <td>80.10</td>\n",
       "    </tr>\n",
       "    <tr>\n",
       "      <th>Tire_Size</th>\n",
       "      <td>306407</td>\n",
       "      <td>76.39</td>\n",
       "    </tr>\n",
       "    <tr>\n",
       "      <th>Track_Type</th>\n",
       "      <td>301972</td>\n",
       "      <td>75.28</td>\n",
       "    </tr>\n",
       "    <tr>\n",
       "      <th>Grouser_Type</th>\n",
       "      <td>301972</td>\n",
       "      <td>75.28</td>\n",
       "    </tr>\n",
       "    <tr>\n",
       "      <th>Pattern_Changer</th>\n",
       "      <td>301907</td>\n",
       "      <td>75.27</td>\n",
       "    </tr>\n",
       "    <tr>\n",
       "      <th>Stick_Length</th>\n",
       "      <td>301907</td>\n",
       "      <td>75.27</td>\n",
       "    </tr>\n",
       "    <tr>\n",
       "      <th>Thumb</th>\n",
       "      <td>301837</td>\n",
       "      <td>75.25</td>\n",
       "    </tr>\n",
       "    <tr>\n",
       "      <th>Undercarriage_Pad_Width</th>\n",
       "      <td>301253</td>\n",
       "      <td>75.10</td>\n",
       "    </tr>\n",
       "    <tr>\n",
       "      <th>Ripper</th>\n",
       "      <td>296988</td>\n",
       "      <td>74.04</td>\n",
       "    </tr>\n",
       "    <tr>\n",
       "      <th>Drive_System</th>\n",
       "      <td>296764</td>\n",
       "      <td>73.98</td>\n",
       "    </tr>\n",
       "    <tr>\n",
       "      <th>MachineHoursCurrentMeter</th>\n",
       "      <td>258360</td>\n",
       "      <td>64.41</td>\n",
       "    </tr>\n",
       "    <tr>\n",
       "      <th>Ride_Control</th>\n",
       "      <td>252519</td>\n",
       "      <td>62.95</td>\n",
       "    </tr>\n",
       "    <tr>\n",
       "      <th>Transmission</th>\n",
       "      <td>217895</td>\n",
       "      <td>54.32</td>\n",
       "    </tr>\n",
       "    <tr>\n",
       "      <th>ProductSize</th>\n",
       "      <td>210775</td>\n",
       "      <td>52.55</td>\n",
       "    </tr>\n",
       "    <tr>\n",
       "      <th>Forks</th>\n",
       "      <td>209048</td>\n",
       "      <td>52.12</td>\n",
       "    </tr>\n",
       "    <tr>\n",
       "      <th>Coupler</th>\n",
       "      <td>187173</td>\n",
       "      <td>46.66</td>\n",
       "    </tr>\n",
       "    <tr>\n",
       "      <th>fiSecondaryDesc</th>\n",
       "      <td>135593</td>\n",
       "      <td>33.80</td>\n",
       "    </tr>\n",
       "    <tr>\n",
       "      <th>Hydraulics</th>\n",
       "      <td>80555</td>\n",
       "      <td>20.08</td>\n",
       "    </tr>\n",
       "    <tr>\n",
       "      <th>auctioneerID</th>\n",
       "      <td>20136</td>\n",
       "      <td>5.02</td>\n",
       "    </tr>\n",
       "    <tr>\n",
       "      <th>PrimarySizeBasis</th>\n",
       "      <td>5148</td>\n",
       "      <td>1.28</td>\n",
       "    </tr>\n",
       "    <tr>\n",
       "      <th>PrimaryLower</th>\n",
       "      <td>5148</td>\n",
       "      <td>1.28</td>\n",
       "    </tr>\n",
       "    <tr>\n",
       "      <th>PrimaryUpper</th>\n",
       "      <td>5148</td>\n",
       "      <td>1.28</td>\n",
       "    </tr>\n",
       "    <tr>\n",
       "      <th>Enclosure</th>\n",
       "      <td>325</td>\n",
       "      <td>0.08</td>\n",
       "    </tr>\n",
       "    <tr>\n",
       "      <th>MfgYear</th>\n",
       "      <td>256</td>\n",
       "      <td>0.06</td>\n",
       "    </tr>\n",
       "  </tbody>\n",
       "</table>\n",
       "</div>"
      ],
      "text/plain": [
       "                           Total  Percentage\n",
       "Pushblock                 375906       93.71\n",
       "Tip_Control               375906       93.71\n",
       "Engine_Horsepower         375906       93.71\n",
       "Blade_Extension           375906       93.71\n",
       "Blade_Width               375906       93.71\n",
       "Enclosure_Type            375906       93.71\n",
       "Scarifier                 375895       93.71\n",
       "Hydraulics_Flow           357763       89.19\n",
       "Grouser_Tracks            357763       89.19\n",
       "Coupler_System            357667       89.17\n",
       "fiModelSeries             343515       85.64\n",
       "Steering_Controls         331756       82.71\n",
       "Differential_Type         331714       82.70\n",
       "UsageBand                 331486       82.64\n",
       "fiModelDescriptor         326906       81.50\n",
       "Backhoe_Mounting          322453       80.39\n",
       "Stick                     321991       80.27\n",
       "Pad_Type                  321991       80.27\n",
       "Turbocharged              321991       80.27\n",
       "Blade_Type                321292       80.10\n",
       "Travel_Controls           321291       80.10\n",
       "Tire_Size                 306407       76.39\n",
       "Track_Type                301972       75.28\n",
       "Grouser_Type              301972       75.28\n",
       "Pattern_Changer           301907       75.27\n",
       "Stick_Length              301907       75.27\n",
       "Thumb                     301837       75.25\n",
       "Undercarriage_Pad_Width   301253       75.10\n",
       "Ripper                    296988       74.04\n",
       "Drive_System              296764       73.98\n",
       "MachineHoursCurrentMeter  258360       64.41\n",
       "Ride_Control              252519       62.95\n",
       "Transmission              217895       54.32\n",
       "ProductSize               210775       52.55\n",
       "Forks                     209048       52.12\n",
       "Coupler                   187173       46.66\n",
       "fiSecondaryDesc           135593       33.80\n",
       "Hydraulics                 80555       20.08\n",
       "auctioneerID               20136        5.02\n",
       "PrimarySizeBasis            5148        1.28\n",
       "PrimaryLower                5148        1.28\n",
       "PrimaryUpper                5148        1.28\n",
       "Enclosure                    325        0.08\n",
       "MfgYear                      256        0.06"
      ]
     },
     "execution_count": 66,
     "metadata": {},
     "output_type": "execute_result"
    }
   ],
   "source": [
    "missing_values_stats(df_merge)"
   ]
  },
  {
   "cell_type": "markdown",
   "metadata": {},
   "source": [
    "### Years"
   ]
  },
  {
   "cell_type": "code",
   "execution_count": 69,
   "metadata": {},
   "outputs": [
    {
     "data": {
      "text/plain": [
       "33864"
      ]
     },
     "execution_count": 69,
     "metadata": {},
     "output_type": "execute_result"
    }
   ],
   "source": [
    "# From description MfgYear should be the correct version of YearMade. Let have a look at what their differs.\n",
    "(df_merge[\"YearMade\"] != df_merge[\"MfgYear\"]).sum()"
   ]
  },
  {
   "cell_type": "code",
   "execution_count": 75,
   "metadata": {},
   "outputs": [
    {
     "data": {
      "image/png": "[encoded data removed]",
      "text/plain": [
       "<matplotlib.figure.Figure at 0x1a9125c710>"
      ]
     },
     "metadata": {},
     "output_type": "display_data"
    },
    {
     "data": {
      "image/png": "[encoded data removed]",
      "text/plain": [
       "<matplotlib.figure.Figure at 0x1ad91d2518>"
      ]
     },
     "metadata": {},
     "output_type": "display_data"
    }
   ],
   "source": [
    "# The two columns have 33864 different entries.\n",
    "# Before dropping YearMade, let see if some weird values from MfgYear can be correct using YearMade.\n",
    "plt.hist(df_merge[\"YearMade\"], bins=50)\n",
    "plt.title(\"Bulldozers YearMade\")\n",
    "plt.show()\n",
    "plt.hist(df_merge[\"MfgYear\"].dropna(), bins=50)\n",
    "plt.title(\"Bulldozers MfgYear\")\n",
    "plt.show()"
   ]
  },
  {
   "cell_type": "code",
   "execution_count": 76,
   "metadata": {},
   "outputs": [
    {
     "data": {
      "text/html": [
       "<div>\n",
       "<style>\n",
       "    .dataframe thead tr:only-child th {\n",
       "        text-align: right;\n",
       "    }\n",
       "\n",
       "    .dataframe thead th {\n",
       "        text-align: left;\n",
       "    }\n",
       "\n",
       "    .dataframe tbody tr th {\n",
       "        vertical-align: top;\n",
       "    }\n",
       "</style>\n",
       "<table border=\"1\" class=\"dataframe\">\n",
       "  <thead>\n",
       "    <tr style=\"text-align: right;\">\n",
       "      <th></th>\n",
       "      <th>SalesID</th>\n",
       "      <th>SalePrice</th>\n",
       "      <th>MachineID</th>\n",
       "      <th>datasource</th>\n",
       "      <th>auctioneerID</th>\n",
       "      <th>YearMade</th>\n",
       "      <th>MachineHoursCurrentMeter</th>\n",
       "      <th>UsageBand</th>\n",
       "      <th>saledate</th>\n",
       "      <th>ProductSize</th>\n",
       "      <th>...</th>\n",
       "      <th>PrimaryUpper</th>\n",
       "      <th>fiModelDesc</th>\n",
       "      <th>fiBaseModel</th>\n",
       "      <th>fiSecondaryDesc</th>\n",
       "      <th>fiModelSeries</th>\n",
       "      <th>fiModelDescriptor</th>\n",
       "      <th>fiProductClassDesc</th>\n",
       "      <th>ProductGroup</th>\n",
       "      <th>ProductGroupDesc</th>\n",
       "      <th>ModelID</th>\n",
       "    </tr>\n",
       "  </thead>\n",
       "  <tbody>\n",
       "    <tr>\n",
       "      <th>168998</th>\n",
       "      <td>1579170</td>\n",
       "      <td>20500</td>\n",
       "      <td>884218</td>\n",
       "      <td>132</td>\n",
       "      <td>22.0</td>\n",
       "      <td>1996</td>\n",
       "      <td>NaN</td>\n",
       "      <td>None</td>\n",
       "      <td>2009-11-21</td>\n",
       "      <td>Compact</td>\n",
       "      <td>...</td>\n",
       "      <td>1000000.0</td>\n",
       "      <td>848G</td>\n",
       "      <td>848</td>\n",
       "      <td>G</td>\n",
       "      <td>None</td>\n",
       "      <td>None</td>\n",
       "      <td>Skidder, Wheel - 161.0 + Horsepower</td>\n",
       "      <td>SKID</td>\n",
       "      <td>Skidders</td>\n",
       "      <td>4839</td>\n",
       "    </tr>\n",
       "  </tbody>\n",
       "</table>\n",
       "<p>1 rows × 59 columns</p>\n",
       "</div>"
      ],
      "text/plain": [
       "        SalesID  SalePrice  MachineID  datasource  auctioneerID  YearMade  \\\n",
       "168998  1579170      20500     884218         132          22.0      1996   \n",
       "\n",
       "        MachineHoursCurrentMeter UsageBand   saledate ProductSize   ...    \\\n",
       "168998                       NaN      None 2009-11-21     Compact   ...     \n",
       "\n",
       "       PrimaryUpper fiModelDesc fiBaseModel fiSecondaryDesc fiModelSeries  \\\n",
       "168998    1000000.0        848G         848               G          None   \n",
       "\n",
       "       fiModelDescriptor                   fiProductClassDesc ProductGroup  \\\n",
       "168998              None  Skidder, Wheel - 161.0 + Horsepower         SKID   \n",
       "\n",
       "       ProductGroupDesc ModelID  \n",
       "168998         Skidders    4839  \n",
       "\n",
       "[1 rows x 59 columns]"
      ]
     },
     "execution_count": 76,
     "metadata": {},
     "output_type": "execute_result"
    }
   ],
   "source": [
    "# Clearly their are some weird values: \n",
    "#  - In MfgYear there are some values in the 10000's, we should replace them with the values in YearMade\n",
    "#  - In both features there are some bulldozers build in the 1000's which is obviously wrong, let see if there are the same in each columns\n",
    "df_merge[df_merge.MfgYear > 2012]"
   ]
  },
  {
   "cell_type": "code",
   "execution_count": 77,
   "metadata": {
    "collapsed": true
   },
   "outputs": [],
   "source": [
    "df_merge.loc[df_merge.MfgYear > 2012, \"MfgYear\"] = 1996"
   ]
  },
  {
   "cell_type": "code",
   "execution_count": 78,
   "metadata": {},
   "outputs": [
    {
     "data": {
      "image/png": "[encoded data removed]",
      "text/plain": [
       "<matplotlib.figure.Figure at 0x10804e5f8>"
      ]
     },
     "metadata": {},
     "output_type": "display_data"
    },
    {
     "data": {
      "image/png": "[encoded data removed]",
      "text/plain": [
       "<matplotlib.figure.Figure at 0x1ad926e630>"
      ]
     },
     "metadata": {},
     "output_type": "display_data"
    }
   ],
   "source": [
    "plt.hist(df_merge[\"YearMade\"], bins=50)\n",
    "plt.title(\"Bulldozers YearMade\")\n",
    "plt.show()\n",
    "plt.hist(df_merge[\"MfgYear\"].dropna(), bins=50)\n",
    "plt.title(\"Bulldozers MfgYear\")\n",
    "plt.show()"
   ]
  },
  {
   "cell_type": "code",
   "execution_count": 79,
   "metadata": {},
   "outputs": [
    {
     "name": "stdout",
     "output_type": "stream",
     "text": [
      "YearMade < 1900:  38185\n",
      "MfgYear < 1900:  22554\n"
     ]
    }
   ],
   "source": [
    "print(\"YearMade < 1900: \", len(df_merge[df_merge.YearMade < 1900]))\n",
    "print(\"MfgYear < 1900: \", len(df_merge[df_merge.MfgYear < 1900]))"
   ]
  },
  {
   "cell_type": "code",
   "execution_count": 83,
   "metadata": {},
   "outputs": [
    {
     "data": {
      "text/plain": [
       "[]"
      ]
     },
     "execution_count": 83,
     "metadata": {},
     "output_type": "execute_result"
    }
   ],
   "source": [
    "MfgYear_idx = df_merge[df_merge.MfgYear < 1900].index\n",
    "YearMade_idx = df_merge[df_merge.YearMade < 1900].index\n",
    "[e for e in MfgYear_idx if e not in YearMade_idx]"
   ]
  },
  {
   "cell_type": "code",
   "execution_count": 87,
   "metadata": {},
   "outputs": [
    {
     "data": {
      "image/png": "[encoded data removed]",
      "text/plain": [
       "<matplotlib.figure.Figure at 0x1ad9292c18>"
      ]
     },
     "metadata": {},
     "output_type": "display_data"
    },
    {
     "data": {
      "text/plain": [
       "<matplotlib.axes._subplots.AxesSubplot at 0x1a8cc4bb70>"
      ]
     },
     "execution_count": 87,
     "metadata": {},
     "output_type": "execute_result"
    },
    {
     "data": {
      "image/png": "[encoded data removed]",
      "text/plain": [
       "<matplotlib.figure.Figure at 0x1055dd668>"
      ]
     },
     "metadata": {},
     "output_type": "display_data"
    }
   ],
   "source": [
    "df_merge[df_merge.YearMade >= 1900].plot(\"YearMade\", \"SalePrice\", \"scatter\")\n",
    "plt.show()\n",
    "df_merge[df_merge.MfgYear >= 1900].plot(\"MfgYear\", \"SalePrice\", \"scatter\")"
   ]
  },
  {
   "cell_type": "code",
   "execution_count": 93,
   "metadata": {},
   "outputs": [
    {
     "data": {
      "text/plain": [
       "<matplotlib.axes._subplots.AxesSubplot at 0x1a2508ae10>"
      ]
     },
     "execution_count": 93,
     "metadata": {},
     "output_type": "execute_result"
    },
    {
     "data": {
      "image/png": "[encoded data removed]",
      "text/plain": [
       "<matplotlib.figure.Figure at 0x1a3af034e0>"
      ]
     },
     "metadata": {},
     "output_type": "display_data"
    }
   ],
   "source": [
    "df_merge.iloc[df_merge[df_merge.MfgYear == 1900].index].plot(\"YearMade\", \"SalePrice\", \"scatter\")"
   ]
  },
  {
   "cell_type": "code",
   "execution_count": 98,
   "metadata": {
    "collapsed": true
   },
   "outputs": [],
   "source": [
    "df_merge[\"MfgYear_correct\"] = df_merge[\"MfgYear\"]"
   ]
  },
  {
   "cell_type": "code",
   "execution_count": 117,
   "metadata": {
    "collapsed": true
   },
   "outputs": [],
   "source": [
    "df_merge.loc[df_merge.MfgYear == 1900, \"MfgYear_correct\"] = df_merge[df_merge.MfgYear == 1900][\"YearMade\"]"
   ]
  },
  {
   "cell_type": "code",
   "execution_count": 130,
   "metadata": {},
   "outputs": [
    {
     "name": "stdout",
     "output_type": "stream",
     "text": [
      "values <= 1920: 22695    0.057 %\n"
     ]
    }
   ],
   "source": [
    "print(\"values <= 1920:\", len(df_merge[df_merge.MfgYear_correct <=1920]), \"  \", np.round(len(df_merge[df_merge.MfgYear_correct <=1920])/len(df_merge), 3), \"%\")"
   ]
  },
  {
   "cell_type": "code",
   "execution_count": 131,
   "metadata": {
    "collapsed": true
   },
   "outputs": [],
   "source": [
    "dropped_columns = pd.DataFrame()\n",
    "dropped_columns[\"YearMade\"] = df_merge[\"YearMade\"]\n",
    "dropped_columns[\"MfgYear\"] = df_merge[\"MfgYear\"]"
   ]
  },
  {
   "cell_type": "code",
   "execution_count": 132,
   "metadata": {
    "collapsed": true
   },
   "outputs": [],
   "source": [
    "df_merge.drop([\"YearMade\", \"MfgYear\"], axis=1, inplace=True)"
   ]
  },
  {
   "cell_type": "code",
   "execution_count": 133,
   "metadata": {
    "collapsed": true
   },
   "outputs": [],
   "source": [
    "df_merge.drop(df_merge[df_merge.MfgYear_correct <= 1920].index, axis=0, inplace=True)"
   ]
  },
  {
   "cell_type": "code",
   "execution_count": 134,
   "metadata": {
    "collapsed": true
   },
   "outputs": [],
   "source": [
    "df_merge[\"MfgYear_correct\"].dropna(inplace=True)"
   ]
  },
  {
   "cell_type": "code",
   "execution_count": 135,
   "metadata": {},
   "outputs": [
    {
     "data": {
      "text/plain": [
       "<matplotlib.axes._subplots.AxesSubplot at 0x1ab5d23c18>"
      ]
     },
     "execution_count": 135,
     "metadata": {},
     "output_type": "execute_result"
    },
    {
     "data": {
      "image/png": "[encoded data removed]",
      "text/plain": [
       "<matplotlib.figure.Figure at 0x1ab5cf5c18>"
      ]
     },
     "metadata": {},
     "output_type": "display_data"
    }
   ],
   "source": [
    "df_merge.plot(\"MfgYear_correct\", \"SalePrice\", \"scatter\")"
   ]
  },
  {
   "cell_type": "code",
   "execution_count": 140,
   "metadata": {
    "collapsed": true
   },
   "outputs": [],
   "source": [
    "# reset index\n",
    "df_merge = df_merge.reset_index(drop=True)"
   ]
  },
  {
   "cell_type": "code",
   "execution_count": 143,
   "metadata": {
    "collapsed": true
   },
   "outputs": [],
   "source": [
    "df_merge.to_feather(f\"{DATA_DIR}df_merge_2.frt\")\n",
    "dropped_columns.to_feather(f\"{DATA_DIR}dropped_cols.frt\")"
   ]
  },
  {
   "cell_type": "code",
   "execution_count": 145,
   "metadata": {
    "collapsed": true
   },
   "outputs": [],
   "source": [
    "df_merge = pd.read_feather(f\"{DATA_DIR}df_merge_2.frt\")"
   ]
  },
  {
   "cell_type": "markdown",
   "metadata": {},
   "source": [
    "### Dates"
   ]
  },
  {
   "cell_type": "code",
   "execution_count": 146,
   "metadata": {
    "collapsed": true
   },
   "outputs": [],
   "source": [
    "def date_infos(df_in, col_name, drop=True, inplace=False):\n",
    "    df = pd.DataFrame()\n",
    "    if inplace:\n",
    "        df = df_in\n",
    "    else:\n",
    "        df = df_in.copy()\n",
    "    # Convert the date column to right dtype if needed\n",
    "    if not np.issubdtype(df[col_name].dtype, np.datetime64):\n",
    "        df[col_name] = pd.to_datetime(df[col_name], infer_datetime_format=True)\n",
    "    new_idx_prefix = re.sub('[Dd]ate$', '', col_name)\n",
    "    for c in ('Year', 'Month', 'Week', 'Day', 'Dayofweek', 'Dayofyear', 'Is_month_end',\n",
    "              'Is_month_start', 'Is_quarter_end', 'Is_quarter_start', 'Is_year_end', 'Is_year_start'):\n",
    "        df[new_idx_prefix+\"_\"+c] = getattr(df[col_name].dt, c.lower())\n",
    "    df[new_idx_prefix+'_Elapsed'] = df[col_name].astype(np.int64) // 10**9\n",
    "    if drop:\n",
    "        df.drop(col_name, axis=1, inplace=True)\n",
    "    return df"
   ]
  },
  {
   "cell_type": "code",
   "execution_count": 148,
   "metadata": {
    "collapsed": true
   },
   "outputs": [],
   "source": [
    "# Extract all infos from the columns date\n",
    "df_merge = date_infos(df_merge, \"saledate\")"
   ]
  },
  {
   "cell_type": "code",
   "execution_count": 149,
   "metadata": {},
   "outputs": [
    {
     "data": {
      "text/html": [
       "<div>\n",
       "<style>\n",
       "    .dataframe thead tr:only-child th {\n",
       "        text-align: right;\n",
       "    }\n",
       "\n",
       "    .dataframe thead th {\n",
       "        text-align: left;\n",
       "    }\n",
       "\n",
       "    .dataframe tbody tr th {\n",
       "        vertical-align: top;\n",
       "    }\n",
       "</style>\n",
       "<table border=\"1\" class=\"dataframe\">\n",
       "  <thead>\n",
       "    <tr style=\"text-align: right;\">\n",
       "      <th></th>\n",
       "      <th>SalesID</th>\n",
       "      <th>SalePrice</th>\n",
       "      <th>MachineID</th>\n",
       "      <th>datasource</th>\n",
       "      <th>auctioneerID</th>\n",
       "      <th>MachineHoursCurrentMeter</th>\n",
       "      <th>UsageBand</th>\n",
       "      <th>ProductSize</th>\n",
       "      <th>state</th>\n",
       "      <th>Drive_System</th>\n",
       "      <th>...</th>\n",
       "      <th>sale_Day</th>\n",
       "      <th>sale_Dayofweek</th>\n",
       "      <th>sale_Dayofyear</th>\n",
       "      <th>sale_Is_month_end</th>\n",
       "      <th>sale_Is_month_start</th>\n",
       "      <th>sale_Is_quarter_end</th>\n",
       "      <th>sale_Is_quarter_start</th>\n",
       "      <th>sale_Is_year_end</th>\n",
       "      <th>sale_Is_year_start</th>\n",
       "      <th>sale_Elapsed</th>\n",
       "    </tr>\n",
       "  </thead>\n",
       "  <tbody>\n",
       "    <tr>\n",
       "      <th>0</th>\n",
       "      <td>1139246</td>\n",
       "      <td>66000</td>\n",
       "      <td>999089</td>\n",
       "      <td>121</td>\n",
       "      <td>3.0</td>\n",
       "      <td>68.0</td>\n",
       "      <td>Low</td>\n",
       "      <td>None</td>\n",
       "      <td>Alabama</td>\n",
       "      <td>None</td>\n",
       "      <td>...</td>\n",
       "      <td>16</td>\n",
       "      <td>3</td>\n",
       "      <td>320</td>\n",
       "      <td>False</td>\n",
       "      <td>False</td>\n",
       "      <td>False</td>\n",
       "      <td>False</td>\n",
       "      <td>False</td>\n",
       "      <td>False</td>\n",
       "      <td>1163635200</td>\n",
       "    </tr>\n",
       "    <tr>\n",
       "      <th>1</th>\n",
       "      <td>1139248</td>\n",
       "      <td>57000</td>\n",
       "      <td>117657</td>\n",
       "      <td>121</td>\n",
       "      <td>3.0</td>\n",
       "      <td>4640.0</td>\n",
       "      <td>Low</td>\n",
       "      <td>Medium</td>\n",
       "      <td>North Carolina</td>\n",
       "      <td>None</td>\n",
       "      <td>...</td>\n",
       "      <td>26</td>\n",
       "      <td>4</td>\n",
       "      <td>86</td>\n",
       "      <td>False</td>\n",
       "      <td>False</td>\n",
       "      <td>False</td>\n",
       "      <td>False</td>\n",
       "      <td>False</td>\n",
       "      <td>False</td>\n",
       "      <td>1080259200</td>\n",
       "    </tr>\n",
       "    <tr>\n",
       "      <th>2</th>\n",
       "      <td>1139249</td>\n",
       "      <td>10000</td>\n",
       "      <td>434808</td>\n",
       "      <td>121</td>\n",
       "      <td>3.0</td>\n",
       "      <td>2838.0</td>\n",
       "      <td>High</td>\n",
       "      <td>None</td>\n",
       "      <td>New York</td>\n",
       "      <td>None</td>\n",
       "      <td>...</td>\n",
       "      <td>26</td>\n",
       "      <td>3</td>\n",
       "      <td>57</td>\n",
       "      <td>False</td>\n",
       "      <td>False</td>\n",
       "      <td>False</td>\n",
       "      <td>False</td>\n",
       "      <td>False</td>\n",
       "      <td>False</td>\n",
       "      <td>1077753600</td>\n",
       "    </tr>\n",
       "    <tr>\n",
       "      <th>3</th>\n",
       "      <td>1398858</td>\n",
       "      <td>12000</td>\n",
       "      <td>434808</td>\n",
       "      <td>132</td>\n",
       "      <td>2.0</td>\n",
       "      <td>NaN</td>\n",
       "      <td>None</td>\n",
       "      <td>None</td>\n",
       "      <td>Kentucky</td>\n",
       "      <td>None</td>\n",
       "      <td>...</td>\n",
       "      <td>23</td>\n",
       "      <td>4</td>\n",
       "      <td>114</td>\n",
       "      <td>False</td>\n",
       "      <td>False</td>\n",
       "      <td>False</td>\n",
       "      <td>False</td>\n",
       "      <td>False</td>\n",
       "      <td>False</td>\n",
       "      <td>1082678400</td>\n",
       "    </tr>\n",
       "    <tr>\n",
       "      <th>4</th>\n",
       "      <td>1398859</td>\n",
       "      <td>12500</td>\n",
       "      <td>434808</td>\n",
       "      <td>132</td>\n",
       "      <td>2.0</td>\n",
       "      <td>NaN</td>\n",
       "      <td>None</td>\n",
       "      <td>None</td>\n",
       "      <td>Texas</td>\n",
       "      <td>None</td>\n",
       "      <td>...</td>\n",
       "      <td>17</td>\n",
       "      <td>2</td>\n",
       "      <td>77</td>\n",
       "      <td>False</td>\n",
       "      <td>False</td>\n",
       "      <td>False</td>\n",
       "      <td>False</td>\n",
       "      <td>False</td>\n",
       "      <td>False</td>\n",
       "      <td>1079481600</td>\n",
       "    </tr>\n",
       "  </tbody>\n",
       "</table>\n",
       "<p>5 rows × 70 columns</p>\n",
       "</div>"
      ],
      "text/plain": [
       "   SalesID  SalePrice  MachineID  datasource  auctioneerID  \\\n",
       "0  1139246      66000     999089         121           3.0   \n",
       "1  1139248      57000     117657         121           3.0   \n",
       "2  1139249      10000     434808         121           3.0   \n",
       "3  1398858      12000     434808         132           2.0   \n",
       "4  1398859      12500     434808         132           2.0   \n",
       "\n",
       "   MachineHoursCurrentMeter UsageBand ProductSize           state  \\\n",
       "0                      68.0       Low        None         Alabama   \n",
       "1                    4640.0       Low      Medium  North Carolina   \n",
       "2                    2838.0      High        None        New York   \n",
       "3                       NaN      None        None        Kentucky   \n",
       "4                       NaN      None        None           Texas   \n",
       "\n",
       "  Drive_System     ...      sale_Day sale_Dayofweek sale_Dayofyear  \\\n",
       "0         None     ...            16              3            320   \n",
       "1         None     ...            26              4             86   \n",
       "2         None     ...            26              3             57   \n",
       "3         None     ...            23              4            114   \n",
       "4         None     ...            17              2             77   \n",
       "\n",
       "  sale_Is_month_end sale_Is_month_start sale_Is_quarter_end  \\\n",
       "0             False               False               False   \n",
       "1             False               False               False   \n",
       "2             False               False               False   \n",
       "3             False               False               False   \n",
       "4             False               False               False   \n",
       "\n",
       "  sale_Is_quarter_start sale_Is_year_end sale_Is_year_start sale_Elapsed  \n",
       "0                 False            False              False   1163635200  \n",
       "1                 False            False              False   1080259200  \n",
       "2                 False            False              False   1077753600  \n",
       "3                 False            False              False   1082678400  \n",
       "4                 False            False              False   1079481600  \n",
       "\n",
       "[5 rows x 70 columns]"
      ]
     },
     "execution_count": 149,
     "metadata": {},
     "output_type": "execute_result"
    }
   ],
   "source": [
    "df_merge.head()"
   ]
  },
  {
   "cell_type": "markdown",
   "metadata": {},
   "source": [
    "### Missing continues values"
   ]
  },
  {
   "cell_type": "code",
   "execution_count": 150,
   "metadata": {
    "collapsed": true
   },
   "outputs": [],
   "source": [
    "def fix_numerical_missing_values(df_in, inplace=False):\n",
    "    df = pd.DataFrame()\n",
    "    if inplace:\n",
    "        df = df_in\n",
    "    else:\n",
    "        df = df_in.copy()\n",
    "    for col_name, col in df.items():\n",
    "        if pd.api.types.is_numeric_dtype(col):\n",
    "            if col.isnull().sum():\n",
    "                df[col_name+\"_na\"] = col.isnull()\n",
    "                df[col_name] = col.fillna(col.dropna().median())\n",
    "    return df"
   ]
  },
  {
   "cell_type": "code",
   "execution_count": 200,
   "metadata": {
    "collapsed": true
   },
   "outputs": [],
   "source": [
    "numerical_features = [col_name for col_name in df_merge.columns if not (pd.api.types.is_object_dtype(df_merge[col_name].dtype) or pd.api.types.is_categorical_dtype(df_merge[col_name].dtype))]\n",
    "categorical_features = [col_name for col_name in df_merge.columns if pd.api.types.is_object_dtype(df_merge[col_name].dtype) or pd.api.types.is_categorical_dtype(df_merge[col_name].dtype)]"
   ]
  },
  {
   "cell_type": "code",
   "execution_count": 201,
   "metadata": {},
   "outputs": [
    {
     "data": {
      "text/plain": [
       "['SalesID',\n",
       " 'SalePrice',\n",
       " 'datasource',\n",
       " 'auctioneerID',\n",
       " 'MachineHoursCurrentMeter',\n",
       " 'fiManufacturerID',\n",
       " 'PrimaryLower',\n",
       " 'PrimaryUpper',\n",
       " 'MfgYear_correct',\n",
       " 'sale_Year',\n",
       " 'sale_Month',\n",
       " 'sale_Week',\n",
       " 'sale_Day',\n",
       " 'sale_Dayofweek',\n",
       " 'sale_Dayofyear',\n",
       " 'sale_Is_month_end',\n",
       " 'sale_Is_month_start',\n",
       " 'sale_Is_quarter_end',\n",
       " 'sale_Is_quarter_start',\n",
       " 'sale_Is_year_end',\n",
       " 'sale_Is_year_start',\n",
       " 'sale_Elapsed']"
      ]
     },
     "execution_count": 201,
     "metadata": {},
     "output_type": "execute_result"
    }
   ],
   "source": [
    "numerical_features"
   ]
  },
  {
   "cell_type": "code",
   "execution_count": 202,
   "metadata": {},
   "outputs": [
    {
     "data": {
      "text/plain": [
       "{'MachineHoursCurrentMeter': 14939,\n",
       " 'MfgYear_correct': 69,\n",
       " 'PrimaryLower': 74,\n",
       " 'PrimaryUpper': 71,\n",
       " 'SalePrice': 882,\n",
       " 'SalesID': 378430,\n",
       " 'auctioneerID': 31,\n",
       " 'datasource': 5,\n",
       " 'fiManufacturerID': 101,\n",
       " 'sale_Day': 31,\n",
       " 'sale_Dayofweek': 7,\n",
       " 'sale_Dayofyear': 360,\n",
       " 'sale_Elapsed': 3895,\n",
       " 'sale_Is_month_end': 2,\n",
       " 'sale_Is_month_start': 2,\n",
       " 'sale_Is_quarter_end': 2,\n",
       " 'sale_Is_quarter_start': 2,\n",
       " 'sale_Is_year_end': 2,\n",
       " 'sale_Is_year_start': 1,\n",
       " 'sale_Month': 12,\n",
       " 'sale_Week': 53,\n",
       " 'sale_Year': 23}"
      ]
     },
     "execution_count": 202,
     "metadata": {},
     "output_type": "execute_result"
    }
   ],
   "source": [
    "{feat: len(df_merge[feat].unique()) for feat in numerical_features}"
   ]
  },
  {
   "cell_type": "code",
   "execution_count": 203,
   "metadata": {
    "collapsed": true
   },
   "outputs": [],
   "source": [
    "# Features with ID should be categorical\n",
    "categorical_features.extend([\"MachineID\", \"ModelID\", \"SalesID\", \"auctioneerID\", \"datasource\", \"fiManufacturerID\"])"
   ]
  },
  {
   "cell_type": "code",
   "execution_count": 204,
   "metadata": {
    "collapsed": true
   },
   "outputs": [],
   "source": [
    "for feat in categorical_features:\n",
    "    df_merge[feat] = df_merge[feat].astype(\"category\")"
   ]
  },
  {
   "cell_type": "code",
   "execution_count": 209,
   "metadata": {
    "collapsed": true
   },
   "outputs": [],
   "source": [
    "df_merge = fix_numerical_missing_values(df_merge)"
   ]
  },
  {
   "cell_type": "markdown",
   "metadata": {},
   "source": [
    "### missing categorical values"
   ]
  },
  {
   "cell_type": "code",
   "execution_count": 210,
   "metadata": {},
   "outputs": [
    {
     "data": {
      "text/plain": [
       "{'Backhoe_Mounting': 3,\n",
       " 'Blade_Extension': 3,\n",
       " 'Blade_Type': 11,\n",
       " 'Blade_Width': 7,\n",
       " 'Coupler': 4,\n",
       " 'Coupler_System': 3,\n",
       " 'Differential_Type': 5,\n",
       " 'Drive_System': 5,\n",
       " 'Enclosure': 7,\n",
       " 'Enclosure_Type': 4,\n",
       " 'Engine_Horsepower': 3,\n",
       " 'Forks': 3,\n",
       " 'Grouser_Tracks': 3,\n",
       " 'Grouser_Type': 4,\n",
       " 'Hydraulics': 13,\n",
       " 'Hydraulics_Flow': 4,\n",
       " 'MachineID': 319737,\n",
       " 'ModelID': 5382,\n",
       " 'Pad_Type': 5,\n",
       " 'Pattern_Changer': 4,\n",
       " 'PrimarySizeBasis': 9,\n",
       " 'ProductGroup': 39,\n",
       " 'ProductGroupDesc': 39,\n",
       " 'ProductSize': 7,\n",
       " 'Pushblock': 3,\n",
       " 'Ride_Control': 4,\n",
       " 'Ripper': 5,\n",
       " 'SalesID': 378430,\n",
       " 'Scarifier': 3,\n",
       " 'Steering_Controls': 6,\n",
       " 'Stick': 3,\n",
       " 'Stick_Length': 29,\n",
       " 'Thumb': 4,\n",
       " 'Tip_Control': 4,\n",
       " 'Tire_Size': 18,\n",
       " 'Track_Type': 3,\n",
       " 'Transmission': 9,\n",
       " 'Travel_Controls': 8,\n",
       " 'Turbocharged': 3,\n",
       " 'Undercarriage_Pad_Width': 20,\n",
       " 'UsageBand': 4,\n",
       " 'auctioneerID': 31,\n",
       " 'datasource': 5,\n",
       " 'fiBaseModel': 1992,\n",
       " 'fiManufacturerDesc': 101,\n",
       " 'fiManufacturerID': 101,\n",
       " 'fiModelDesc': 5150,\n",
       " 'fiModelDescriptor': 153,\n",
       " 'fiModelSeries': 144,\n",
       " 'fiProductClassDesc': 156,\n",
       " 'fiSecondaryDesc': 184,\n",
       " 'state': 53}"
      ]
     },
     "execution_count": 210,
     "metadata": {},
     "output_type": "execute_result"
    }
   ],
   "source": [
    "{feat: len(df_merge[feat].unique()) for feat in df_merge.columns if pd.api.types.is_categorical(df_merge[feat])}"
   ]
  },
  {
   "cell_type": "code",
   "execution_count": 240,
   "metadata": {
    "collapsed": true
   },
   "outputs": [],
   "source": [
    "# For each categorical features, if a \"None or Unspecified\" category exist we replace evry missing values by it\n",
    "for col_name in df_merge.columns:\n",
    "    if pd.api.types.is_categorical_dtype(df_merge[col_name]):\n",
    "        if df_merge[col_name].isnull().sum() > 0 and \"None or Unspecified\" in df_merge[col_name].unique():\n",
    "            df_merge[col_name] = df_merge[col_name].fillna(\"None or Unspecified\")            "
   ]
  },
  {
   "cell_type": "code",
   "execution_count": 245,
   "metadata": {
    "collapsed": true
   },
   "outputs": [],
   "source": [
    "# Convert categorical features into numericals values\n",
    "category_mapper = {col_name: {code: idx for code, idx in enumerate(col.cat.categories)} for col_name, col in df_merge.items() if pd.api.types.is_categorical_dtype(col)}"
   ]
  },
  {
   "cell_type": "code",
   "execution_count": 248,
   "metadata": {
    "collapsed": true
   },
   "outputs": [],
   "source": [
    "def numericalize(df_in, inplace=False):\n",
    "    df = pd.DataFrame()\n",
    "    if inplace:\n",
    "        df = df_in\n",
    "    else:\n",
    "        df = df_in.copy()\n",
    "    for col_name, col in df.items():\n",
    "        if pd.api.types.is_categorical_dtype(col):\n",
    "            df[col_name] = col.cat.codes + 1\n",
    "    return df\n"
   ]
  },
  {
   "cell_type": "code",
   "execution_count": 249,
   "metadata": {},
   "outputs": [
    {
     "data": {
      "text/html": [
       "<div>\n",
       "<style>\n",
       "    .dataframe thead tr:only-child th {\n",
       "        text-align: right;\n",
       "    }\n",
       "\n",
       "    .dataframe thead th {\n",
       "        text-align: left;\n",
       "    }\n",
       "\n",
       "    .dataframe tbody tr th {\n",
       "        vertical-align: top;\n",
       "    }\n",
       "</style>\n",
       "<table border=\"1\" class=\"dataframe\">\n",
       "  <thead>\n",
       "    <tr style=\"text-align: right;\">\n",
       "      <th></th>\n",
       "      <th>SalesID</th>\n",
       "      <th>SalePrice</th>\n",
       "      <th>MachineID</th>\n",
       "      <th>datasource</th>\n",
       "      <th>auctioneerID</th>\n",
       "      <th>MachineHoursCurrentMeter</th>\n",
       "      <th>UsageBand</th>\n",
       "      <th>ProductSize</th>\n",
       "      <th>state</th>\n",
       "      <th>Drive_System</th>\n",
       "      <th>...</th>\n",
       "      <th>sale_Is_month_start</th>\n",
       "      <th>sale_Is_quarter_end</th>\n",
       "      <th>sale_Is_quarter_start</th>\n",
       "      <th>sale_Is_year_end</th>\n",
       "      <th>sale_Is_year_start</th>\n",
       "      <th>sale_Elapsed</th>\n",
       "      <th>MachineHoursCurrentMeter_na</th>\n",
       "      <th>PrimaryLower_na</th>\n",
       "      <th>PrimaryUpper_na</th>\n",
       "      <th>MfgYear_correct_na</th>\n",
       "    </tr>\n",
       "  </thead>\n",
       "  <tbody>\n",
       "    <tr>\n",
       "      <th>0</th>\n",
       "      <td>1</td>\n",
       "      <td>66000</td>\n",
       "      <td>60614</td>\n",
       "      <td>1</td>\n",
       "      <td>4</td>\n",
       "      <td>68.0</td>\n",
       "      <td>2</td>\n",
       "      <td>0</td>\n",
       "      <td>1</td>\n",
       "      <td>0</td>\n",
       "      <td>...</td>\n",
       "      <td>False</td>\n",
       "      <td>False</td>\n",
       "      <td>False</td>\n",
       "      <td>False</td>\n",
       "      <td>False</td>\n",
       "      <td>1163635200</td>\n",
       "      <td>False</td>\n",
       "      <td>False</td>\n",
       "      <td>False</td>\n",
       "      <td>False</td>\n",
       "    </tr>\n",
       "    <tr>\n",
       "      <th>1</th>\n",
       "      <td>2</td>\n",
       "      <td>57000</td>\n",
       "      <td>9310</td>\n",
       "      <td>1</td>\n",
       "      <td>4</td>\n",
       "      <td>4640.0</td>\n",
       "      <td>2</td>\n",
       "      <td>4</td>\n",
       "      <td>33</td>\n",
       "      <td>0</td>\n",
       "      <td>...</td>\n",
       "      <td>False</td>\n",
       "      <td>False</td>\n",
       "      <td>False</td>\n",
       "      <td>False</td>\n",
       "      <td>False</td>\n",
       "      <td>1080259200</td>\n",
       "      <td>False</td>\n",
       "      <td>False</td>\n",
       "      <td>False</td>\n",
       "      <td>False</td>\n",
       "    </tr>\n",
       "    <tr>\n",
       "      <th>2</th>\n",
       "      <td>3</td>\n",
       "      <td>10000</td>\n",
       "      <td>27946</td>\n",
       "      <td>1</td>\n",
       "      <td>4</td>\n",
       "      <td>2838.0</td>\n",
       "      <td>1</td>\n",
       "      <td>0</td>\n",
       "      <td>32</td>\n",
       "      <td>0</td>\n",
       "      <td>...</td>\n",
       "      <td>False</td>\n",
       "      <td>False</td>\n",
       "      <td>False</td>\n",
       "      <td>False</td>\n",
       "      <td>False</td>\n",
       "      <td>1077753600</td>\n",
       "      <td>False</td>\n",
       "      <td>False</td>\n",
       "      <td>False</td>\n",
       "      <td>False</td>\n",
       "    </tr>\n",
       "    <tr>\n",
       "      <th>3</th>\n",
       "      <td>87598</td>\n",
       "      <td>12000</td>\n",
       "      <td>27946</td>\n",
       "      <td>2</td>\n",
       "      <td>3</td>\n",
       "      <td>0.0</td>\n",
       "      <td>0</td>\n",
       "      <td>0</td>\n",
       "      <td>17</td>\n",
       "      <td>0</td>\n",
       "      <td>...</td>\n",
       "      <td>False</td>\n",
       "      <td>False</td>\n",
       "      <td>False</td>\n",
       "      <td>False</td>\n",
       "      <td>False</td>\n",
       "      <td>1082678400</td>\n",
       "      <td>True</td>\n",
       "      <td>False</td>\n",
       "      <td>False</td>\n",
       "      <td>False</td>\n",
       "    </tr>\n",
       "    <tr>\n",
       "      <th>4</th>\n",
       "      <td>87599</td>\n",
       "      <td>12500</td>\n",
       "      <td>27946</td>\n",
       "      <td>2</td>\n",
       "      <td>3</td>\n",
       "      <td>0.0</td>\n",
       "      <td>0</td>\n",
       "      <td>0</td>\n",
       "      <td>44</td>\n",
       "      <td>0</td>\n",
       "      <td>...</td>\n",
       "      <td>False</td>\n",
       "      <td>False</td>\n",
       "      <td>False</td>\n",
       "      <td>False</td>\n",
       "      <td>False</td>\n",
       "      <td>1079481600</td>\n",
       "      <td>True</td>\n",
       "      <td>False</td>\n",
       "      <td>False</td>\n",
       "      <td>False</td>\n",
       "    </tr>\n",
       "    <tr>\n",
       "      <th>5</th>\n",
       "      <td>4</td>\n",
       "      <td>38500</td>\n",
       "      <td>66648</td>\n",
       "      <td>1</td>\n",
       "      <td>4</td>\n",
       "      <td>3486.0</td>\n",
       "      <td>1</td>\n",
       "      <td>6</td>\n",
       "      <td>44</td>\n",
       "      <td>0</td>\n",
       "      <td>...</td>\n",
       "      <td>False</td>\n",
       "      <td>False</td>\n",
       "      <td>False</td>\n",
       "      <td>False</td>\n",
       "      <td>False</td>\n",
       "      <td>1305763200</td>\n",
       "      <td>False</td>\n",
       "      <td>False</td>\n",
       "      <td>False</td>\n",
       "      <td>False</td>\n",
       "    </tr>\n",
       "    <tr>\n",
       "      <th>6</th>\n",
       "      <td>5</td>\n",
       "      <td>11000</td>\n",
       "      <td>73365</td>\n",
       "      <td>1</td>\n",
       "      <td>4</td>\n",
       "      <td>722.0</td>\n",
       "      <td>3</td>\n",
       "      <td>0</td>\n",
       "      <td>32</td>\n",
       "      <td>0</td>\n",
       "      <td>...</td>\n",
       "      <td>False</td>\n",
       "      <td>False</td>\n",
       "      <td>False</td>\n",
       "      <td>False</td>\n",
       "      <td>False</td>\n",
       "      <td>1248307200</td>\n",
       "      <td>False</td>\n",
       "      <td>False</td>\n",
       "      <td>False</td>\n",
       "      <td>False</td>\n",
       "    </tr>\n",
       "    <tr>\n",
       "      <th>7</th>\n",
       "      <td>6</td>\n",
       "      <td>26500</td>\n",
       "      <td>61097</td>\n",
       "      <td>1</td>\n",
       "      <td>4</td>\n",
       "      <td>508.0</td>\n",
       "      <td>2</td>\n",
       "      <td>0</td>\n",
       "      <td>3</td>\n",
       "      <td>2</td>\n",
       "      <td>...</td>\n",
       "      <td>False</td>\n",
       "      <td>False</td>\n",
       "      <td>False</td>\n",
       "      <td>False</td>\n",
       "      <td>False</td>\n",
       "      <td>1229558400</td>\n",
       "      <td>False</td>\n",
       "      <td>False</td>\n",
       "      <td>False</td>\n",
       "      <td>False</td>\n",
       "    </tr>\n",
       "    <tr>\n",
       "      <th>8</th>\n",
       "      <td>7</td>\n",
       "      <td>21000</td>\n",
       "      <td>47327</td>\n",
       "      <td>1</td>\n",
       "      <td>4</td>\n",
       "      <td>11540.0</td>\n",
       "      <td>1</td>\n",
       "      <td>3</td>\n",
       "      <td>9</td>\n",
       "      <td>0</td>\n",
       "      <td>...</td>\n",
       "      <td>False</td>\n",
       "      <td>False</td>\n",
       "      <td>False</td>\n",
       "      <td>False</td>\n",
       "      <td>False</td>\n",
       "      <td>1093478400</td>\n",
       "      <td>False</td>\n",
       "      <td>False</td>\n",
       "      <td>False</td>\n",
       "      <td>False</td>\n",
       "    </tr>\n",
       "    <tr>\n",
       "      <th>9</th>\n",
       "      <td>10733</td>\n",
       "      <td>29500</td>\n",
       "      <td>47327</td>\n",
       "      <td>1</td>\n",
       "      <td>4</td>\n",
       "      <td>1080.0</td>\n",
       "      <td>2</td>\n",
       "      <td>5</td>\n",
       "      <td>44</td>\n",
       "      <td>0</td>\n",
       "      <td>...</td>\n",
       "      <td>False</td>\n",
       "      <td>False</td>\n",
       "      <td>False</td>\n",
       "      <td>False</td>\n",
       "      <td>False</td>\n",
       "      <td>1156377600</td>\n",
       "      <td>False</td>\n",
       "      <td>False</td>\n",
       "      <td>False</td>\n",
       "      <td>False</td>\n",
       "    </tr>\n",
       "    <tr>\n",
       "      <th>10</th>\n",
       "      <td>8</td>\n",
       "      <td>27000</td>\n",
       "      <td>57482</td>\n",
       "      <td>1</td>\n",
       "      <td>4</td>\n",
       "      <td>4883.0</td>\n",
       "      <td>1</td>\n",
       "      <td>0</td>\n",
       "      <td>13</td>\n",
       "      <td>2</td>\n",
       "      <td>...</td>\n",
       "      <td>False</td>\n",
       "      <td>False</td>\n",
       "      <td>False</td>\n",
       "      <td>False</td>\n",
       "      <td>False</td>\n",
       "      <td>1132185600</td>\n",
       "      <td>False</td>\n",
       "      <td>False</td>\n",
       "      <td>False</td>\n",
       "      <td>False</td>\n",
       "    </tr>\n",
       "    <tr>\n",
       "      <th>11</th>\n",
       "      <td>9</td>\n",
       "      <td>21500</td>\n",
       "      <td>68746</td>\n",
       "      <td>1</td>\n",
       "      <td>4</td>\n",
       "      <td>302.0</td>\n",
       "      <td>2</td>\n",
       "      <td>5</td>\n",
       "      <td>44</td>\n",
       "      <td>0</td>\n",
       "      <td>...</td>\n",
       "      <td>False</td>\n",
       "      <td>False</td>\n",
       "      <td>False</td>\n",
       "      <td>False</td>\n",
       "      <td>False</td>\n",
       "      <td>1251331200</td>\n",
       "      <td>False</td>\n",
       "      <td>False</td>\n",
       "      <td>False</td>\n",
       "      <td>False</td>\n",
       "    </tr>\n",
       "    <tr>\n",
       "      <th>12</th>\n",
       "      <td>10</td>\n",
       "      <td>65000</td>\n",
       "      <td>64456</td>\n",
       "      <td>1</td>\n",
       "      <td>4</td>\n",
       "      <td>20700.0</td>\n",
       "      <td>3</td>\n",
       "      <td>2</td>\n",
       "      <td>9</td>\n",
       "      <td>0</td>\n",
       "      <td>...</td>\n",
       "      <td>False</td>\n",
       "      <td>False</td>\n",
       "      <td>False</td>\n",
       "      <td>False</td>\n",
       "      <td>False</td>\n",
       "      <td>1186617600</td>\n",
       "      <td>False</td>\n",
       "      <td>False</td>\n",
       "      <td>False</td>\n",
       "      <td>False</td>\n",
       "    </tr>\n",
       "    <tr>\n",
       "      <th>13</th>\n",
       "      <td>11</td>\n",
       "      <td>24000</td>\n",
       "      <td>66337</td>\n",
       "      <td>1</td>\n",
       "      <td>4</td>\n",
       "      <td>1414.0</td>\n",
       "      <td>3</td>\n",
       "      <td>0</td>\n",
       "      <td>37</td>\n",
       "      <td>2</td>\n",
       "      <td>...</td>\n",
       "      <td>False</td>\n",
       "      <td>False</td>\n",
       "      <td>False</td>\n",
       "      <td>False</td>\n",
       "      <td>False</td>\n",
       "      <td>1219276800</td>\n",
       "      <td>False</td>\n",
       "      <td>False</td>\n",
       "      <td>False</td>\n",
       "      <td>False</td>\n",
       "    </tr>\n",
       "    <tr>\n",
       "      <th>14</th>\n",
       "      <td>12</td>\n",
       "      <td>22500</td>\n",
       "      <td>22366</td>\n",
       "      <td>1</td>\n",
       "      <td>4</td>\n",
       "      <td>2764.0</td>\n",
       "      <td>2</td>\n",
       "      <td>0</td>\n",
       "      <td>35</td>\n",
       "      <td>0</td>\n",
       "      <td>...</td>\n",
       "      <td>False</td>\n",
       "      <td>False</td>\n",
       "      <td>False</td>\n",
       "      <td>False</td>\n",
       "      <td>False</td>\n",
       "      <td>1156377600</td>\n",
       "      <td>False</td>\n",
       "      <td>False</td>\n",
       "      <td>False</td>\n",
       "      <td>False</td>\n",
       "    </tr>\n",
       "    <tr>\n",
       "      <th>15</th>\n",
       "      <td>13523</td>\n",
       "      <td>8000</td>\n",
       "      <td>22366</td>\n",
       "      <td>1</td>\n",
       "      <td>4</td>\n",
       "      <td>7369.0</td>\n",
       "      <td>3</td>\n",
       "      <td>6</td>\n",
       "      <td>51</td>\n",
       "      <td>0</td>\n",
       "      <td>...</td>\n",
       "      <td>False</td>\n",
       "      <td>False</td>\n",
       "      <td>False</td>\n",
       "      <td>False</td>\n",
       "      <td>False</td>\n",
       "      <td>1228348800</td>\n",
       "      <td>False</td>\n",
       "      <td>False</td>\n",
       "      <td>False</td>\n",
       "      <td>False</td>\n",
       "    </tr>\n",
       "    <tr>\n",
       "      <th>16</th>\n",
       "      <td>13</td>\n",
       "      <td>36000</td>\n",
       "      <td>72244</td>\n",
       "      <td>1</td>\n",
       "      <td>4</td>\n",
       "      <td>0.0</td>\n",
       "      <td>0</td>\n",
       "      <td>3</td>\n",
       "      <td>35</td>\n",
       "      <td>0</td>\n",
       "      <td>...</td>\n",
       "      <td>False</td>\n",
       "      <td>False</td>\n",
       "      <td>False</td>\n",
       "      <td>False</td>\n",
       "      <td>False</td>\n",
       "      <td>1129766400</td>\n",
       "      <td>False</td>\n",
       "      <td>False</td>\n",
       "      <td>False</td>\n",
       "      <td>False</td>\n",
       "    </tr>\n",
       "    <tr>\n",
       "      <th>17</th>\n",
       "      <td>240595</td>\n",
       "      <td>50000</td>\n",
       "      <td>72244</td>\n",
       "      <td>2</td>\n",
       "      <td>4</td>\n",
       "      <td>0.0</td>\n",
       "      <td>0</td>\n",
       "      <td>3</td>\n",
       "      <td>45</td>\n",
       "      <td>0</td>\n",
       "      <td>...</td>\n",
       "      <td>False</td>\n",
       "      <td>False</td>\n",
       "      <td>False</td>\n",
       "      <td>False</td>\n",
       "      <td>False</td>\n",
       "      <td>1127347200</td>\n",
       "      <td>True</td>\n",
       "      <td>False</td>\n",
       "      <td>False</td>\n",
       "      <td>False</td>\n",
       "    </tr>\n",
       "    <tr>\n",
       "      <th>18</th>\n",
       "      <td>366278</td>\n",
       "      <td>45000</td>\n",
       "      <td>72244</td>\n",
       "      <td>5</td>\n",
       "      <td>2</td>\n",
       "      <td>13186.0</td>\n",
       "      <td>1</td>\n",
       "      <td>3</td>\n",
       "      <td>49</td>\n",
       "      <td>0</td>\n",
       "      <td>...</td>\n",
       "      <td>False</td>\n",
       "      <td>False</td>\n",
       "      <td>False</td>\n",
       "      <td>False</td>\n",
       "      <td>False</td>\n",
       "      <td>1274918400</td>\n",
       "      <td>False</td>\n",
       "      <td>False</td>\n",
       "      <td>False</td>\n",
       "      <td>False</td>\n",
       "    </tr>\n",
       "    <tr>\n",
       "      <th>19</th>\n",
       "      <td>14</td>\n",
       "      <td>30500</td>\n",
       "      <td>75666</td>\n",
       "      <td>1</td>\n",
       "      <td>4</td>\n",
       "      <td>1921.0</td>\n",
       "      <td>3</td>\n",
       "      <td>0</td>\n",
       "      <td>44</td>\n",
       "      <td>2</td>\n",
       "      <td>...</td>\n",
       "      <td>False</td>\n",
       "      <td>False</td>\n",
       "      <td>False</td>\n",
       "      <td>False</td>\n",
       "      <td>False</td>\n",
       "      <td>1138233600</td>\n",
       "      <td>False</td>\n",
       "      <td>False</td>\n",
       "      <td>False</td>\n",
       "      <td>False</td>\n",
       "    </tr>\n",
       "    <tr>\n",
       "      <th>20</th>\n",
       "      <td>15</td>\n",
       "      <td>28000</td>\n",
       "      <td>73562</td>\n",
       "      <td>1</td>\n",
       "      <td>4</td>\n",
       "      <td>320.0</td>\n",
       "      <td>2</td>\n",
       "      <td>0</td>\n",
       "      <td>33</td>\n",
       "      <td>2</td>\n",
       "      <td>...</td>\n",
       "      <td>False</td>\n",
       "      <td>False</td>\n",
       "      <td>False</td>\n",
       "      <td>False</td>\n",
       "      <td>False</td>\n",
       "      <td>1136246400</td>\n",
       "      <td>False</td>\n",
       "      <td>False</td>\n",
       "      <td>False</td>\n",
       "      <td>False</td>\n",
       "    </tr>\n",
       "    <tr>\n",
       "      <th>21</th>\n",
       "      <td>16</td>\n",
       "      <td>19000</td>\n",
       "      <td>61873</td>\n",
       "      <td>1</td>\n",
       "      <td>4</td>\n",
       "      <td>2450.0</td>\n",
       "      <td>3</td>\n",
       "      <td>0</td>\n",
       "      <td>4</td>\n",
       "      <td>4</td>\n",
       "      <td>...</td>\n",
       "      <td>False</td>\n",
       "      <td>False</td>\n",
       "      <td>False</td>\n",
       "      <td>False</td>\n",
       "      <td>False</td>\n",
       "      <td>1163635200</td>\n",
       "      <td>False</td>\n",
       "      <td>False</td>\n",
       "      <td>False</td>\n",
       "      <td>False</td>\n",
       "    </tr>\n",
       "    <tr>\n",
       "      <th>22</th>\n",
       "      <td>17</td>\n",
       "      <td>13500</td>\n",
       "      <td>66749</td>\n",
       "      <td>1</td>\n",
       "      <td>4</td>\n",
       "      <td>1972.0</td>\n",
       "      <td>2</td>\n",
       "      <td>5</td>\n",
       "      <td>9</td>\n",
       "      <td>0</td>\n",
       "      <td>...</td>\n",
       "      <td>False</td>\n",
       "      <td>False</td>\n",
       "      <td>False</td>\n",
       "      <td>False</td>\n",
       "      <td>False</td>\n",
       "      <td>1181779200</td>\n",
       "      <td>False</td>\n",
       "      <td>False</td>\n",
       "      <td>False</td>\n",
       "      <td>False</td>\n",
       "    </tr>\n",
       "    <tr>\n",
       "      <th>23</th>\n",
       "      <td>18</td>\n",
       "      <td>9500</td>\n",
       "      <td>61406</td>\n",
       "      <td>1</td>\n",
       "      <td>4</td>\n",
       "      <td>0.0</td>\n",
       "      <td>0</td>\n",
       "      <td>5</td>\n",
       "      <td>52</td>\n",
       "      <td>0</td>\n",
       "      <td>...</td>\n",
       "      <td>False</td>\n",
       "      <td>False</td>\n",
       "      <td>False</td>\n",
       "      <td>False</td>\n",
       "      <td>False</td>\n",
       "      <td>1264636800</td>\n",
       "      <td>False</td>\n",
       "      <td>False</td>\n",
       "      <td>False</td>\n",
       "      <td>False</td>\n",
       "    </tr>\n",
       "    <tr>\n",
       "      <th>24</th>\n",
       "      <td>19</td>\n",
       "      <td>12500</td>\n",
       "      <td>10062</td>\n",
       "      <td>1</td>\n",
       "      <td>4</td>\n",
       "      <td>994.0</td>\n",
       "      <td>2</td>\n",
       "      <td>5</td>\n",
       "      <td>33</td>\n",
       "      <td>0</td>\n",
       "      <td>...</td>\n",
       "      <td>False</td>\n",
       "      <td>False</td>\n",
       "      <td>False</td>\n",
       "      <td>False</td>\n",
       "      <td>False</td>\n",
       "      <td>1141862400</td>\n",
       "      <td>False</td>\n",
       "      <td>False</td>\n",
       "      <td>False</td>\n",
       "      <td>False</td>\n",
       "    </tr>\n",
       "    <tr>\n",
       "      <th>25</th>\n",
       "      <td>20</td>\n",
       "      <td>11500</td>\n",
       "      <td>63472</td>\n",
       "      <td>1</td>\n",
       "      <td>4</td>\n",
       "      <td>8005.0</td>\n",
       "      <td>3</td>\n",
       "      <td>0</td>\n",
       "      <td>13</td>\n",
       "      <td>4</td>\n",
       "      <td>...</td>\n",
       "      <td>False</td>\n",
       "      <td>False</td>\n",
       "      <td>False</td>\n",
       "      <td>False</td>\n",
       "      <td>False</td>\n",
       "      <td>1132185600</td>\n",
       "      <td>False</td>\n",
       "      <td>False</td>\n",
       "      <td>False</td>\n",
       "      <td>False</td>\n",
       "    </tr>\n",
       "    <tr>\n",
       "      <th>26</th>\n",
       "      <td>21</td>\n",
       "      <td>41000</td>\n",
       "      <td>63936</td>\n",
       "      <td>1</td>\n",
       "      <td>4</td>\n",
       "      <td>3259.0</td>\n",
       "      <td>3</td>\n",
       "      <td>3</td>\n",
       "      <td>16</td>\n",
       "      <td>0</td>\n",
       "      <td>...</td>\n",
       "      <td>False</td>\n",
       "      <td>False</td>\n",
       "      <td>False</td>\n",
       "      <td>False</td>\n",
       "      <td>False</td>\n",
       "      <td>1147910400</td>\n",
       "      <td>False</td>\n",
       "      <td>False</td>\n",
       "      <td>False</td>\n",
       "      <td>False</td>\n",
       "    </tr>\n",
       "    <tr>\n",
       "      <th>27</th>\n",
       "      <td>22</td>\n",
       "      <td>34500</td>\n",
       "      <td>60636</td>\n",
       "      <td>1</td>\n",
       "      <td>4</td>\n",
       "      <td>16328.0</td>\n",
       "      <td>3</td>\n",
       "      <td>0</td>\n",
       "      <td>28</td>\n",
       "      <td>3</td>\n",
       "      <td>...</td>\n",
       "      <td>False</td>\n",
       "      <td>False</td>\n",
       "      <td>False</td>\n",
       "      <td>False</td>\n",
       "      <td>False</td>\n",
       "      <td>1161216000</td>\n",
       "      <td>False</td>\n",
       "      <td>False</td>\n",
       "      <td>False</td>\n",
       "      <td>False</td>\n",
       "    </tr>\n",
       "    <tr>\n",
       "      <th>28</th>\n",
       "      <td>23</td>\n",
       "      <td>26000</td>\n",
       "      <td>70569</td>\n",
       "      <td>1</td>\n",
       "      <td>4</td>\n",
       "      <td>109.0</td>\n",
       "      <td>2</td>\n",
       "      <td>5</td>\n",
       "      <td>15</td>\n",
       "      <td>0</td>\n",
       "      <td>...</td>\n",
       "      <td>False</td>\n",
       "      <td>False</td>\n",
       "      <td>False</td>\n",
       "      <td>False</td>\n",
       "      <td>False</td>\n",
       "      <td>1193270400</td>\n",
       "      <td>False</td>\n",
       "      <td>False</td>\n",
       "      <td>False</td>\n",
       "      <td>False</td>\n",
       "    </tr>\n",
       "    <tr>\n",
       "      <th>29</th>\n",
       "      <td>24</td>\n",
       "      <td>73000</td>\n",
       "      <td>51419</td>\n",
       "      <td>1</td>\n",
       "      <td>4</td>\n",
       "      <td>17033.0</td>\n",
       "      <td>1</td>\n",
       "      <td>4</td>\n",
       "      <td>19</td>\n",
       "      <td>0</td>\n",
       "      <td>...</td>\n",
       "      <td>False</td>\n",
       "      <td>False</td>\n",
       "      <td>False</td>\n",
       "      <td>False</td>\n",
       "      <td>False</td>\n",
       "      <td>1161216000</td>\n",
       "      <td>False</td>\n",
       "      <td>False</td>\n",
       "      <td>False</td>\n",
       "      <td>False</td>\n",
       "    </tr>\n",
       "    <tr>\n",
       "      <th>...</th>\n",
       "      <td>...</td>\n",
       "      <td>...</td>\n",
       "      <td>...</td>\n",
       "      <td>...</td>\n",
       "      <td>...</td>\n",
       "      <td>...</td>\n",
       "      <td>...</td>\n",
       "      <td>...</td>\n",
       "      <td>...</td>\n",
       "      <td>...</td>\n",
       "      <td>...</td>\n",
       "      <td>...</td>\n",
       "      <td>...</td>\n",
       "      <td>...</td>\n",
       "      <td>...</td>\n",
       "      <td>...</td>\n",
       "      <td>...</td>\n",
       "      <td>...</td>\n",
       "      <td>...</td>\n",
       "      <td>...</td>\n",
       "      <td>...</td>\n",
       "    </tr>\n",
       "    <tr>\n",
       "      <th>378400</th>\n",
       "      <td>378401</td>\n",
       "      <td>10500</td>\n",
       "      <td>309064</td>\n",
       "      <td>4</td>\n",
       "      <td>2</td>\n",
       "      <td>0.0</td>\n",
       "      <td>0</td>\n",
       "      <td>5</td>\n",
       "      <td>33</td>\n",
       "      <td>0</td>\n",
       "      <td>...</td>\n",
       "      <td>False</td>\n",
       "      <td>False</td>\n",
       "      <td>False</td>\n",
       "      <td>False</td>\n",
       "      <td>False</td>\n",
       "      <td>1323820800</td>\n",
       "      <td>True</td>\n",
       "      <td>False</td>\n",
       "      <td>False</td>\n",
       "      <td>False</td>\n",
       "    </tr>\n",
       "    <tr>\n",
       "      <th>378401</th>\n",
       "      <td>378402</td>\n",
       "      <td>10000</td>\n",
       "      <td>304938</td>\n",
       "      <td>4</td>\n",
       "      <td>3</td>\n",
       "      <td>0.0</td>\n",
       "      <td>0</td>\n",
       "      <td>5</td>\n",
       "      <td>10</td>\n",
       "      <td>0</td>\n",
       "      <td>...</td>\n",
       "      <td>False</td>\n",
       "      <td>False</td>\n",
       "      <td>False</td>\n",
       "      <td>False</td>\n",
       "      <td>False</td>\n",
       "      <td>1316044800</td>\n",
       "      <td>True</td>\n",
       "      <td>False</td>\n",
       "      <td>False</td>\n",
       "      <td>False</td>\n",
       "    </tr>\n",
       "    <tr>\n",
       "      <th>378402</th>\n",
       "      <td>378403</td>\n",
       "      <td>8500</td>\n",
       "      <td>306937</td>\n",
       "      <td>4</td>\n",
       "      <td>2</td>\n",
       "      <td>0.0</td>\n",
       "      <td>0</td>\n",
       "      <td>5</td>\n",
       "      <td>9</td>\n",
       "      <td>0</td>\n",
       "      <td>...</td>\n",
       "      <td>False</td>\n",
       "      <td>False</td>\n",
       "      <td>False</td>\n",
       "      <td>False</td>\n",
       "      <td>False</td>\n",
       "      <td>1319760000</td>\n",
       "      <td>True</td>\n",
       "      <td>False</td>\n",
       "      <td>False</td>\n",
       "      <td>False</td>\n",
       "    </tr>\n",
       "    <tr>\n",
       "      <th>378403</th>\n",
       "      <td>378404</td>\n",
       "      <td>10500</td>\n",
       "      <td>303108</td>\n",
       "      <td>4</td>\n",
       "      <td>3</td>\n",
       "      <td>0.0</td>\n",
       "      <td>0</td>\n",
       "      <td>5</td>\n",
       "      <td>9</td>\n",
       "      <td>0</td>\n",
       "      <td>...</td>\n",
       "      <td>False</td>\n",
       "      <td>False</td>\n",
       "      <td>False</td>\n",
       "      <td>False</td>\n",
       "      <td>False</td>\n",
       "      <td>1313452800</td>\n",
       "      <td>True</td>\n",
       "      <td>False</td>\n",
       "      <td>False</td>\n",
       "      <td>False</td>\n",
       "    </tr>\n",
       "    <tr>\n",
       "      <th>378404</th>\n",
       "      <td>378405</td>\n",
       "      <td>11000</td>\n",
       "      <td>306161</td>\n",
       "      <td>4</td>\n",
       "      <td>2</td>\n",
       "      <td>0.0</td>\n",
       "      <td>0</td>\n",
       "      <td>5</td>\n",
       "      <td>33</td>\n",
       "      <td>0</td>\n",
       "      <td>...</td>\n",
       "      <td>False</td>\n",
       "      <td>False</td>\n",
       "      <td>False</td>\n",
       "      <td>False</td>\n",
       "      <td>False</td>\n",
       "      <td>1323820800</td>\n",
       "      <td>True</td>\n",
       "      <td>False</td>\n",
       "      <td>False</td>\n",
       "      <td>False</td>\n",
       "    </tr>\n",
       "    <tr>\n",
       "      <th>378405</th>\n",
       "      <td>378406</td>\n",
       "      <td>10500</td>\n",
       "      <td>303110</td>\n",
       "      <td>4</td>\n",
       "      <td>3</td>\n",
       "      <td>0.0</td>\n",
       "      <td>0</td>\n",
       "      <td>5</td>\n",
       "      <td>9</td>\n",
       "      <td>0</td>\n",
       "      <td>...</td>\n",
       "      <td>False</td>\n",
       "      <td>False</td>\n",
       "      <td>False</td>\n",
       "      <td>False</td>\n",
       "      <td>False</td>\n",
       "      <td>1313452800</td>\n",
       "      <td>True</td>\n",
       "      <td>False</td>\n",
       "      <td>False</td>\n",
       "      <td>False</td>\n",
       "    </tr>\n",
       "    <tr>\n",
       "      <th>378406</th>\n",
       "      <td>378407</td>\n",
       "      <td>10000</td>\n",
       "      <td>303678</td>\n",
       "      <td>4</td>\n",
       "      <td>2</td>\n",
       "      <td>0.0</td>\n",
       "      <td>0</td>\n",
       "      <td>5</td>\n",
       "      <td>33</td>\n",
       "      <td>0</td>\n",
       "      <td>...</td>\n",
       "      <td>False</td>\n",
       "      <td>False</td>\n",
       "      <td>False</td>\n",
       "      <td>False</td>\n",
       "      <td>False</td>\n",
       "      <td>1323820800</td>\n",
       "      <td>True</td>\n",
       "      <td>False</td>\n",
       "      <td>False</td>\n",
       "      <td>False</td>\n",
       "    </tr>\n",
       "    <tr>\n",
       "      <th>378407</th>\n",
       "      <td>378408</td>\n",
       "      <td>10500</td>\n",
       "      <td>312969</td>\n",
       "      <td>4</td>\n",
       "      <td>3</td>\n",
       "      <td>0.0</td>\n",
       "      <td>0</td>\n",
       "      <td>5</td>\n",
       "      <td>9</td>\n",
       "      <td>0</td>\n",
       "      <td>...</td>\n",
       "      <td>False</td>\n",
       "      <td>False</td>\n",
       "      <td>False</td>\n",
       "      <td>False</td>\n",
       "      <td>False</td>\n",
       "      <td>1313452800</td>\n",
       "      <td>True</td>\n",
       "      <td>False</td>\n",
       "      <td>False</td>\n",
       "      <td>False</td>\n",
       "    </tr>\n",
       "    <tr>\n",
       "      <th>378408</th>\n",
       "      <td>378409</td>\n",
       "      <td>12500</td>\n",
       "      <td>303010</td>\n",
       "      <td>4</td>\n",
       "      <td>3</td>\n",
       "      <td>0.0</td>\n",
       "      <td>0</td>\n",
       "      <td>5</td>\n",
       "      <td>10</td>\n",
       "      <td>0</td>\n",
       "      <td>...</td>\n",
       "      <td>False</td>\n",
       "      <td>False</td>\n",
       "      <td>False</td>\n",
       "      <td>False</td>\n",
       "      <td>False</td>\n",
       "      <td>1316044800</td>\n",
       "      <td>True</td>\n",
       "      <td>False</td>\n",
       "      <td>False</td>\n",
       "      <td>False</td>\n",
       "    </tr>\n",
       "    <tr>\n",
       "      <th>378409</th>\n",
       "      <td>378410</td>\n",
       "      <td>10500</td>\n",
       "      <td>312768</td>\n",
       "      <td>4</td>\n",
       "      <td>3</td>\n",
       "      <td>0.0</td>\n",
       "      <td>0</td>\n",
       "      <td>5</td>\n",
       "      <td>9</td>\n",
       "      <td>0</td>\n",
       "      <td>...</td>\n",
       "      <td>False</td>\n",
       "      <td>False</td>\n",
       "      <td>False</td>\n",
       "      <td>False</td>\n",
       "      <td>False</td>\n",
       "      <td>1313452800</td>\n",
       "      <td>True</td>\n",
       "      <td>False</td>\n",
       "      <td>False</td>\n",
       "      <td>False</td>\n",
       "    </tr>\n",
       "    <tr>\n",
       "      <th>378410</th>\n",
       "      <td>378411</td>\n",
       "      <td>10000</td>\n",
       "      <td>306313</td>\n",
       "      <td>4</td>\n",
       "      <td>3</td>\n",
       "      <td>0.0</td>\n",
       "      <td>0</td>\n",
       "      <td>5</td>\n",
       "      <td>9</td>\n",
       "      <td>0</td>\n",
       "      <td>...</td>\n",
       "      <td>False</td>\n",
       "      <td>False</td>\n",
       "      <td>False</td>\n",
       "      <td>False</td>\n",
       "      <td>False</td>\n",
       "      <td>1319500800</td>\n",
       "      <td>True</td>\n",
       "      <td>False</td>\n",
       "      <td>False</td>\n",
       "      <td>False</td>\n",
       "    </tr>\n",
       "    <tr>\n",
       "      <th>378411</th>\n",
       "      <td>378412</td>\n",
       "      <td>10500</td>\n",
       "      <td>314186</td>\n",
       "      <td>4</td>\n",
       "      <td>3</td>\n",
       "      <td>0.0</td>\n",
       "      <td>0</td>\n",
       "      <td>5</td>\n",
       "      <td>9</td>\n",
       "      <td>0</td>\n",
       "      <td>...</td>\n",
       "      <td>False</td>\n",
       "      <td>False</td>\n",
       "      <td>False</td>\n",
       "      <td>False</td>\n",
       "      <td>False</td>\n",
       "      <td>1313452800</td>\n",
       "      <td>True</td>\n",
       "      <td>False</td>\n",
       "      <td>False</td>\n",
       "      <td>False</td>\n",
       "    </tr>\n",
       "    <tr>\n",
       "      <th>378412</th>\n",
       "      <td>378413</td>\n",
       "      <td>12500</td>\n",
       "      <td>308580</td>\n",
       "      <td>4</td>\n",
       "      <td>3</td>\n",
       "      <td>0.0</td>\n",
       "      <td>0</td>\n",
       "      <td>5</td>\n",
       "      <td>10</td>\n",
       "      <td>0</td>\n",
       "      <td>...</td>\n",
       "      <td>False</td>\n",
       "      <td>False</td>\n",
       "      <td>False</td>\n",
       "      <td>False</td>\n",
       "      <td>False</td>\n",
       "      <td>1316044800</td>\n",
       "      <td>True</td>\n",
       "      <td>False</td>\n",
       "      <td>False</td>\n",
       "      <td>False</td>\n",
       "    </tr>\n",
       "    <tr>\n",
       "      <th>378413</th>\n",
       "      <td>378414</td>\n",
       "      <td>10500</td>\n",
       "      <td>307509</td>\n",
       "      <td>4</td>\n",
       "      <td>3</td>\n",
       "      <td>0.0</td>\n",
       "      <td>0</td>\n",
       "      <td>5</td>\n",
       "      <td>9</td>\n",
       "      <td>0</td>\n",
       "      <td>...</td>\n",
       "      <td>False</td>\n",
       "      <td>False</td>\n",
       "      <td>False</td>\n",
       "      <td>False</td>\n",
       "      <td>False</td>\n",
       "      <td>1313452800</td>\n",
       "      <td>True</td>\n",
       "      <td>False</td>\n",
       "      <td>False</td>\n",
       "      <td>False</td>\n",
       "    </tr>\n",
       "    <tr>\n",
       "      <th>378414</th>\n",
       "      <td>378415</td>\n",
       "      <td>10500</td>\n",
       "      <td>303655</td>\n",
       "      <td>4</td>\n",
       "      <td>3</td>\n",
       "      <td>0.0</td>\n",
       "      <td>0</td>\n",
       "      <td>5</td>\n",
       "      <td>9</td>\n",
       "      <td>0</td>\n",
       "      <td>...</td>\n",
       "      <td>False</td>\n",
       "      <td>False</td>\n",
       "      <td>False</td>\n",
       "      <td>False</td>\n",
       "      <td>False</td>\n",
       "      <td>1313452800</td>\n",
       "      <td>True</td>\n",
       "      <td>False</td>\n",
       "      <td>False</td>\n",
       "      <td>False</td>\n",
       "    </tr>\n",
       "    <tr>\n",
       "      <th>378415</th>\n",
       "      <td>378416</td>\n",
       "      <td>10500</td>\n",
       "      <td>309518</td>\n",
       "      <td>4</td>\n",
       "      <td>3</td>\n",
       "      <td>0.0</td>\n",
       "      <td>0</td>\n",
       "      <td>5</td>\n",
       "      <td>10</td>\n",
       "      <td>0</td>\n",
       "      <td>...</td>\n",
       "      <td>False</td>\n",
       "      <td>False</td>\n",
       "      <td>False</td>\n",
       "      <td>False</td>\n",
       "      <td>False</td>\n",
       "      <td>1316044800</td>\n",
       "      <td>True</td>\n",
       "      <td>False</td>\n",
       "      <td>False</td>\n",
       "      <td>False</td>\n",
       "    </tr>\n",
       "    <tr>\n",
       "      <th>378416</th>\n",
       "      <td>378417</td>\n",
       "      <td>10000</td>\n",
       "      <td>309182</td>\n",
       "      <td>4</td>\n",
       "      <td>3</td>\n",
       "      <td>0.0</td>\n",
       "      <td>0</td>\n",
       "      <td>5</td>\n",
       "      <td>9</td>\n",
       "      <td>0</td>\n",
       "      <td>...</td>\n",
       "      <td>False</td>\n",
       "      <td>False</td>\n",
       "      <td>False</td>\n",
       "      <td>False</td>\n",
       "      <td>False</td>\n",
       "      <td>1319500800</td>\n",
       "      <td>True</td>\n",
       "      <td>False</td>\n",
       "      <td>False</td>\n",
       "      <td>False</td>\n",
       "    </tr>\n",
       "    <tr>\n",
       "      <th>378417</th>\n",
       "      <td>378418</td>\n",
       "      <td>10500</td>\n",
       "      <td>310125</td>\n",
       "      <td>4</td>\n",
       "      <td>3</td>\n",
       "      <td>0.0</td>\n",
       "      <td>0</td>\n",
       "      <td>5</td>\n",
       "      <td>9</td>\n",
       "      <td>0</td>\n",
       "      <td>...</td>\n",
       "      <td>False</td>\n",
       "      <td>False</td>\n",
       "      <td>False</td>\n",
       "      <td>False</td>\n",
       "      <td>False</td>\n",
       "      <td>1319500800</td>\n",
       "      <td>True</td>\n",
       "      <td>False</td>\n",
       "      <td>False</td>\n",
       "      <td>False</td>\n",
       "    </tr>\n",
       "    <tr>\n",
       "      <th>378418</th>\n",
       "      <td>378419</td>\n",
       "      <td>10500</td>\n",
       "      <td>305011</td>\n",
       "      <td>4</td>\n",
       "      <td>3</td>\n",
       "      <td>0.0</td>\n",
       "      <td>0</td>\n",
       "      <td>5</td>\n",
       "      <td>9</td>\n",
       "      <td>0</td>\n",
       "      <td>...</td>\n",
       "      <td>False</td>\n",
       "      <td>False</td>\n",
       "      <td>False</td>\n",
       "      <td>False</td>\n",
       "      <td>False</td>\n",
       "      <td>1319500800</td>\n",
       "      <td>True</td>\n",
       "      <td>False</td>\n",
       "      <td>False</td>\n",
       "      <td>False</td>\n",
       "    </tr>\n",
       "    <tr>\n",
       "      <th>378419</th>\n",
       "      <td>378420</td>\n",
       "      <td>12500</td>\n",
       "      <td>312308</td>\n",
       "      <td>4</td>\n",
       "      <td>3</td>\n",
       "      <td>0.0</td>\n",
       "      <td>0</td>\n",
       "      <td>5</td>\n",
       "      <td>44</td>\n",
       "      <td>0</td>\n",
       "      <td>...</td>\n",
       "      <td>False</td>\n",
       "      <td>False</td>\n",
       "      <td>False</td>\n",
       "      <td>False</td>\n",
       "      <td>False</td>\n",
       "      <td>1321315200</td>\n",
       "      <td>True</td>\n",
       "      <td>False</td>\n",
       "      <td>False</td>\n",
       "      <td>False</td>\n",
       "    </tr>\n",
       "    <tr>\n",
       "      <th>378420</th>\n",
       "      <td>378421</td>\n",
       "      <td>10000</td>\n",
       "      <td>306898</td>\n",
       "      <td>4</td>\n",
       "      <td>3</td>\n",
       "      <td>0.0</td>\n",
       "      <td>0</td>\n",
       "      <td>5</td>\n",
       "      <td>9</td>\n",
       "      <td>0</td>\n",
       "      <td>...</td>\n",
       "      <td>False</td>\n",
       "      <td>False</td>\n",
       "      <td>False</td>\n",
       "      <td>False</td>\n",
       "      <td>False</td>\n",
       "      <td>1319500800</td>\n",
       "      <td>True</td>\n",
       "      <td>False</td>\n",
       "      <td>False</td>\n",
       "      <td>False</td>\n",
       "    </tr>\n",
       "    <tr>\n",
       "      <th>378421</th>\n",
       "      <td>378422</td>\n",
       "      <td>8500</td>\n",
       "      <td>305589</td>\n",
       "      <td>4</td>\n",
       "      <td>3</td>\n",
       "      <td>0.0</td>\n",
       "      <td>0</td>\n",
       "      <td>5</td>\n",
       "      <td>9</td>\n",
       "      <td>0</td>\n",
       "      <td>...</td>\n",
       "      <td>False</td>\n",
       "      <td>False</td>\n",
       "      <td>False</td>\n",
       "      <td>False</td>\n",
       "      <td>False</td>\n",
       "      <td>1319500800</td>\n",
       "      <td>True</td>\n",
       "      <td>False</td>\n",
       "      <td>False</td>\n",
       "      <td>False</td>\n",
       "    </tr>\n",
       "    <tr>\n",
       "      <th>378422</th>\n",
       "      <td>378423</td>\n",
       "      <td>10000</td>\n",
       "      <td>305326</td>\n",
       "      <td>4</td>\n",
       "      <td>3</td>\n",
       "      <td>0.0</td>\n",
       "      <td>0</td>\n",
       "      <td>5</td>\n",
       "      <td>9</td>\n",
       "      <td>0</td>\n",
       "      <td>...</td>\n",
       "      <td>False</td>\n",
       "      <td>False</td>\n",
       "      <td>False</td>\n",
       "      <td>False</td>\n",
       "      <td>False</td>\n",
       "      <td>1319500800</td>\n",
       "      <td>True</td>\n",
       "      <td>False</td>\n",
       "      <td>False</td>\n",
       "      <td>False</td>\n",
       "    </tr>\n",
       "    <tr>\n",
       "      <th>378423</th>\n",
       "      <td>378424</td>\n",
       "      <td>9500</td>\n",
       "      <td>305837</td>\n",
       "      <td>4</td>\n",
       "      <td>3</td>\n",
       "      <td>0.0</td>\n",
       "      <td>0</td>\n",
       "      <td>5</td>\n",
       "      <td>9</td>\n",
       "      <td>0</td>\n",
       "      <td>...</td>\n",
       "      <td>False</td>\n",
       "      <td>False</td>\n",
       "      <td>False</td>\n",
       "      <td>False</td>\n",
       "      <td>False</td>\n",
       "      <td>1319500800</td>\n",
       "      <td>True</td>\n",
       "      <td>False</td>\n",
       "      <td>False</td>\n",
       "      <td>False</td>\n",
       "    </tr>\n",
       "    <tr>\n",
       "      <th>378424</th>\n",
       "      <td>378425</td>\n",
       "      <td>8500</td>\n",
       "      <td>303603</td>\n",
       "      <td>4</td>\n",
       "      <td>3</td>\n",
       "      <td>0.0</td>\n",
       "      <td>0</td>\n",
       "      <td>5</td>\n",
       "      <td>9</td>\n",
       "      <td>0</td>\n",
       "      <td>...</td>\n",
       "      <td>False</td>\n",
       "      <td>False</td>\n",
       "      <td>False</td>\n",
       "      <td>False</td>\n",
       "      <td>False</td>\n",
       "      <td>1319500800</td>\n",
       "      <td>True</td>\n",
       "      <td>False</td>\n",
       "      <td>False</td>\n",
       "      <td>False</td>\n",
       "    </tr>\n",
       "    <tr>\n",
       "      <th>378425</th>\n",
       "      <td>378426</td>\n",
       "      <td>10500</td>\n",
       "      <td>306712</td>\n",
       "      <td>4</td>\n",
       "      <td>2</td>\n",
       "      <td>0.0</td>\n",
       "      <td>0</td>\n",
       "      <td>5</td>\n",
       "      <td>20</td>\n",
       "      <td>0</td>\n",
       "      <td>...</td>\n",
       "      <td>False</td>\n",
       "      <td>False</td>\n",
       "      <td>False</td>\n",
       "      <td>False</td>\n",
       "      <td>False</td>\n",
       "      <td>1320192000</td>\n",
       "      <td>True</td>\n",
       "      <td>False</td>\n",
       "      <td>False</td>\n",
       "      <td>False</td>\n",
       "    </tr>\n",
       "    <tr>\n",
       "      <th>378426</th>\n",
       "      <td>378427</td>\n",
       "      <td>11000</td>\n",
       "      <td>305966</td>\n",
       "      <td>4</td>\n",
       "      <td>2</td>\n",
       "      <td>0.0</td>\n",
       "      <td>0</td>\n",
       "      <td>5</td>\n",
       "      <td>20</td>\n",
       "      <td>0</td>\n",
       "      <td>...</td>\n",
       "      <td>False</td>\n",
       "      <td>False</td>\n",
       "      <td>False</td>\n",
       "      <td>False</td>\n",
       "      <td>False</td>\n",
       "      <td>1320192000</td>\n",
       "      <td>True</td>\n",
       "      <td>False</td>\n",
       "      <td>False</td>\n",
       "      <td>False</td>\n",
       "    </tr>\n",
       "    <tr>\n",
       "      <th>378427</th>\n",
       "      <td>378428</td>\n",
       "      <td>11500</td>\n",
       "      <td>310126</td>\n",
       "      <td>4</td>\n",
       "      <td>2</td>\n",
       "      <td>0.0</td>\n",
       "      <td>0</td>\n",
       "      <td>5</td>\n",
       "      <td>20</td>\n",
       "      <td>0</td>\n",
       "      <td>...</td>\n",
       "      <td>False</td>\n",
       "      <td>False</td>\n",
       "      <td>False</td>\n",
       "      <td>False</td>\n",
       "      <td>False</td>\n",
       "      <td>1320192000</td>\n",
       "      <td>True</td>\n",
       "      <td>False</td>\n",
       "      <td>False</td>\n",
       "      <td>False</td>\n",
       "    </tr>\n",
       "    <tr>\n",
       "      <th>378428</th>\n",
       "      <td>378429</td>\n",
       "      <td>9000</td>\n",
       "      <td>311301</td>\n",
       "      <td>4</td>\n",
       "      <td>3</td>\n",
       "      <td>0.0</td>\n",
       "      <td>0</td>\n",
       "      <td>5</td>\n",
       "      <td>9</td>\n",
       "      <td>0</td>\n",
       "      <td>...</td>\n",
       "      <td>False</td>\n",
       "      <td>False</td>\n",
       "      <td>False</td>\n",
       "      <td>False</td>\n",
       "      <td>False</td>\n",
       "      <td>1319500800</td>\n",
       "      <td>True</td>\n",
       "      <td>False</td>\n",
       "      <td>False</td>\n",
       "      <td>False</td>\n",
       "    </tr>\n",
       "    <tr>\n",
       "      <th>378429</th>\n",
       "      <td>378430</td>\n",
       "      <td>7750</td>\n",
       "      <td>312957</td>\n",
       "      <td>4</td>\n",
       "      <td>3</td>\n",
       "      <td>0.0</td>\n",
       "      <td>0</td>\n",
       "      <td>5</td>\n",
       "      <td>9</td>\n",
       "      <td>0</td>\n",
       "      <td>...</td>\n",
       "      <td>False</td>\n",
       "      <td>False</td>\n",
       "      <td>False</td>\n",
       "      <td>False</td>\n",
       "      <td>False</td>\n",
       "      <td>1319500800</td>\n",
       "      <td>True</td>\n",
       "      <td>False</td>\n",
       "      <td>False</td>\n",
       "      <td>False</td>\n",
       "    </tr>\n",
       "  </tbody>\n",
       "</table>\n",
       "<p>378430 rows × 74 columns</p>\n",
       "</div>"
      ],
      "text/plain": [
       "        SalesID  SalePrice  MachineID  datasource  auctioneerID  \\\n",
       "0             1      66000      60614           1             4   \n",
       "1             2      57000       9310           1             4   \n",
       "2             3      10000      27946           1             4   \n",
       "3         87598      12000      27946           2             3   \n",
       "4         87599      12500      27946           2             3   \n",
       "5             4      38500      66648           1             4   \n",
       "6             5      11000      73365           1             4   \n",
       "7             6      26500      61097           1             4   \n",
       "8             7      21000      47327           1             4   \n",
       "9         10733      29500      47327           1             4   \n",
       "10            8      27000      57482           1             4   \n",
       "11            9      21500      68746           1             4   \n",
       "12           10      65000      64456           1             4   \n",
       "13           11      24000      66337           1             4   \n",
       "14           12      22500      22366           1             4   \n",
       "15        13523       8000      22366           1             4   \n",
       "16           13      36000      72244           1             4   \n",
       "17       240595      50000      72244           2             4   \n",
       "18       366278      45000      72244           5             2   \n",
       "19           14      30500      75666           1             4   \n",
       "20           15      28000      73562           1             4   \n",
       "21           16      19000      61873           1             4   \n",
       "22           17      13500      66749           1             4   \n",
       "23           18       9500      61406           1             4   \n",
       "24           19      12500      10062           1             4   \n",
       "25           20      11500      63472           1             4   \n",
       "26           21      41000      63936           1             4   \n",
       "27           22      34500      60636           1             4   \n",
       "28           23      26000      70569           1             4   \n",
       "29           24      73000      51419           1             4   \n",
       "...         ...        ...        ...         ...           ...   \n",
       "378400   378401      10500     309064           4             2   \n",
       "378401   378402      10000     304938           4             3   \n",
       "378402   378403       8500     306937           4             2   \n",
       "378403   378404      10500     303108           4             3   \n",
       "378404   378405      11000     306161           4             2   \n",
       "378405   378406      10500     303110           4             3   \n",
       "378406   378407      10000     303678           4             2   \n",
       "378407   378408      10500     312969           4             3   \n",
       "378408   378409      12500     303010           4             3   \n",
       "378409   378410      10500     312768           4             3   \n",
       "378410   378411      10000     306313           4             3   \n",
       "378411   378412      10500     314186           4             3   \n",
       "378412   378413      12500     308580           4             3   \n",
       "378413   378414      10500     307509           4             3   \n",
       "378414   378415      10500     303655           4             3   \n",
       "378415   378416      10500     309518           4             3   \n",
       "378416   378417      10000     309182           4             3   \n",
       "378417   378418      10500     310125           4             3   \n",
       "378418   378419      10500     305011           4             3   \n",
       "378419   378420      12500     312308           4             3   \n",
       "378420   378421      10000     306898           4             3   \n",
       "378421   378422       8500     305589           4             3   \n",
       "378422   378423      10000     305326           4             3   \n",
       "378423   378424       9500     305837           4             3   \n",
       "378424   378425       8500     303603           4             3   \n",
       "378425   378426      10500     306712           4             2   \n",
       "378426   378427      11000     305966           4             2   \n",
       "378427   378428      11500     310126           4             2   \n",
       "378428   378429       9000     311301           4             3   \n",
       "378429   378430       7750     312957           4             3   \n",
       "\n",
       "        MachineHoursCurrentMeter  UsageBand  ProductSize  state  Drive_System  \\\n",
       "0                           68.0          2            0      1             0   \n",
       "1                         4640.0          2            4     33             0   \n",
       "2                         2838.0          1            0     32             0   \n",
       "3                            0.0          0            0     17             0   \n",
       "4                            0.0          0            0     44             0   \n",
       "5                         3486.0          1            6     44             0   \n",
       "6                          722.0          3            0     32             0   \n",
       "7                          508.0          2            0      3             2   \n",
       "8                        11540.0          1            3      9             0   \n",
       "9                         1080.0          2            5     44             0   \n",
       "10                        4883.0          1            0     13             2   \n",
       "11                         302.0          2            5     44             0   \n",
       "12                       20700.0          3            2      9             0   \n",
       "13                        1414.0          3            0     37             2   \n",
       "14                        2764.0          2            0     35             0   \n",
       "15                        7369.0          3            6     51             0   \n",
       "16                           0.0          0            3     35             0   \n",
       "17                           0.0          0            3     45             0   \n",
       "18                       13186.0          1            3     49             0   \n",
       "19                        1921.0          3            0     44             2   \n",
       "20                         320.0          2            0     33             2   \n",
       "21                        2450.0          3            0      4             4   \n",
       "22                        1972.0          2            5      9             0   \n",
       "23                           0.0          0            5     52             0   \n",
       "24                         994.0          2            5     33             0   \n",
       "25                        8005.0          3            0     13             4   \n",
       "26                        3259.0          3            3     16             0   \n",
       "27                       16328.0          3            0     28             3   \n",
       "28                         109.0          2            5     15             0   \n",
       "29                       17033.0          1            4     19             0   \n",
       "...                          ...        ...          ...    ...           ...   \n",
       "378400                       0.0          0            5     33             0   \n",
       "378401                       0.0          0            5     10             0   \n",
       "378402                       0.0          0            5      9             0   \n",
       "378403                       0.0          0            5      9             0   \n",
       "378404                       0.0          0            5     33             0   \n",
       "378405                       0.0          0            5      9             0   \n",
       "378406                       0.0          0            5     33             0   \n",
       "378407                       0.0          0            5      9             0   \n",
       "378408                       0.0          0            5     10             0   \n",
       "378409                       0.0          0            5      9             0   \n",
       "378410                       0.0          0            5      9             0   \n",
       "378411                       0.0          0            5      9             0   \n",
       "378412                       0.0          0            5     10             0   \n",
       "378413                       0.0          0            5      9             0   \n",
       "378414                       0.0          0            5      9             0   \n",
       "378415                       0.0          0            5     10             0   \n",
       "378416                       0.0          0            5      9             0   \n",
       "378417                       0.0          0            5      9             0   \n",
       "378418                       0.0          0            5      9             0   \n",
       "378419                       0.0          0            5     44             0   \n",
       "378420                       0.0          0            5      9             0   \n",
       "378421                       0.0          0            5      9             0   \n",
       "378422                       0.0          0            5      9             0   \n",
       "378423                       0.0          0            5      9             0   \n",
       "378424                       0.0          0            5      9             0   \n",
       "378425                       0.0          0            5     20             0   \n",
       "378426                       0.0          0            5     20             0   \n",
       "378427                       0.0          0            5     20             0   \n",
       "378428                       0.0          0            5      9             0   \n",
       "378429                       0.0          0            5      9             0   \n",
       "\n",
       "               ...          sale_Is_month_start  sale_Is_quarter_end  \\\n",
       "0              ...                        False                False   \n",
       "1              ...                        False                False   \n",
       "2              ...                        False                False   \n",
       "3              ...                        False                False   \n",
       "4              ...                        False                False   \n",
       "5              ...                        False                False   \n",
       "6              ...                        False                False   \n",
       "7              ...                        False                False   \n",
       "8              ...                        False                False   \n",
       "9              ...                        False                False   \n",
       "10             ...                        False                False   \n",
       "11             ...                        False                False   \n",
       "12             ...                        False                False   \n",
       "13             ...                        False                False   \n",
       "14             ...                        False                False   \n",
       "15             ...                        False                False   \n",
       "16             ...                        False                False   \n",
       "17             ...                        False                False   \n",
       "18             ...                        False                False   \n",
       "19             ...                        False                False   \n",
       "20             ...                        False                False   \n",
       "21             ...                        False                False   \n",
       "22             ...                        False                False   \n",
       "23             ...                        False                False   \n",
       "24             ...                        False                False   \n",
       "25             ...                        False                False   \n",
       "26             ...                        False                False   \n",
       "27             ...                        False                False   \n",
       "28             ...                        False                False   \n",
       "29             ...                        False                False   \n",
       "...            ...                          ...                  ...   \n",
       "378400         ...                        False                False   \n",
       "378401         ...                        False                False   \n",
       "378402         ...                        False                False   \n",
       "378403         ...                        False                False   \n",
       "378404         ...                        False                False   \n",
       "378405         ...                        False                False   \n",
       "378406         ...                        False                False   \n",
       "378407         ...                        False                False   \n",
       "378408         ...                        False                False   \n",
       "378409         ...                        False                False   \n",
       "378410         ...                        False                False   \n",
       "378411         ...                        False                False   \n",
       "378412         ...                        False                False   \n",
       "378413         ...                        False                False   \n",
       "378414         ...                        False                False   \n",
       "378415         ...                        False                False   \n",
       "378416         ...                        False                False   \n",
       "378417         ...                        False                False   \n",
       "378418         ...                        False                False   \n",
       "378419         ...                        False                False   \n",
       "378420         ...                        False                False   \n",
       "378421         ...                        False                False   \n",
       "378422         ...                        False                False   \n",
       "378423         ...                        False                False   \n",
       "378424         ...                        False                False   \n",
       "378425         ...                        False                False   \n",
       "378426         ...                        False                False   \n",
       "378427         ...                        False                False   \n",
       "378428         ...                        False                False   \n",
       "378429         ...                        False                False   \n",
       "\n",
       "        sale_Is_quarter_start  sale_Is_year_end  sale_Is_year_start  \\\n",
       "0                       False             False               False   \n",
       "1                       False             False               False   \n",
       "2                       False             False               False   \n",
       "3                       False             False               False   \n",
       "4                       False             False               False   \n",
       "5                       False             False               False   \n",
       "6                       False             False               False   \n",
       "7                       False             False               False   \n",
       "8                       False             False               False   \n",
       "9                       False             False               False   \n",
       "10                      False             False               False   \n",
       "11                      False             False               False   \n",
       "12                      False             False               False   \n",
       "13                      False             False               False   \n",
       "14                      False             False               False   \n",
       "15                      False             False               False   \n",
       "16                      False             False               False   \n",
       "17                      False             False               False   \n",
       "18                      False             False               False   \n",
       "19                      False             False               False   \n",
       "20                      False             False               False   \n",
       "21                      False             False               False   \n",
       "22                      False             False               False   \n",
       "23                      False             False               False   \n",
       "24                      False             False               False   \n",
       "25                      False             False               False   \n",
       "26                      False             False               False   \n",
       "27                      False             False               False   \n",
       "28                      False             False               False   \n",
       "29                      False             False               False   \n",
       "...                       ...               ...                 ...   \n",
       "378400                  False             False               False   \n",
       "378401                  False             False               False   \n",
       "378402                  False             False               False   \n",
       "378403                  False             False               False   \n",
       "378404                  False             False               False   \n",
       "378405                  False             False               False   \n",
       "378406                  False             False               False   \n",
       "378407                  False             False               False   \n",
       "378408                  False             False               False   \n",
       "378409                  False             False               False   \n",
       "378410                  False             False               False   \n",
       "378411                  False             False               False   \n",
       "378412                  False             False               False   \n",
       "378413                  False             False               False   \n",
       "378414                  False             False               False   \n",
       "378415                  False             False               False   \n",
       "378416                  False             False               False   \n",
       "378417                  False             False               False   \n",
       "378418                  False             False               False   \n",
       "378419                  False             False               False   \n",
       "378420                  False             False               False   \n",
       "378421                  False             False               False   \n",
       "378422                  False             False               False   \n",
       "378423                  False             False               False   \n",
       "378424                  False             False               False   \n",
       "378425                  False             False               False   \n",
       "378426                  False             False               False   \n",
       "378427                  False             False               False   \n",
       "378428                  False             False               False   \n",
       "378429                  False             False               False   \n",
       "\n",
       "        sale_Elapsed  MachineHoursCurrentMeter_na  PrimaryLower_na  \\\n",
       "0         1163635200                        False            False   \n",
       "1         1080259200                        False            False   \n",
       "2         1077753600                        False            False   \n",
       "3         1082678400                         True            False   \n",
       "4         1079481600                         True            False   \n",
       "5         1305763200                        False            False   \n",
       "6         1248307200                        False            False   \n",
       "7         1229558400                        False            False   \n",
       "8         1093478400                        False            False   \n",
       "9         1156377600                        False            False   \n",
       "10        1132185600                        False            False   \n",
       "11        1251331200                        False            False   \n",
       "12        1186617600                        False            False   \n",
       "13        1219276800                        False            False   \n",
       "14        1156377600                        False            False   \n",
       "15        1228348800                        False            False   \n",
       "16        1129766400                        False            False   \n",
       "17        1127347200                         True            False   \n",
       "18        1274918400                        False            False   \n",
       "19        1138233600                        False            False   \n",
       "20        1136246400                        False            False   \n",
       "21        1163635200                        False            False   \n",
       "22        1181779200                        False            False   \n",
       "23        1264636800                        False            False   \n",
       "24        1141862400                        False            False   \n",
       "25        1132185600                        False            False   \n",
       "26        1147910400                        False            False   \n",
       "27        1161216000                        False            False   \n",
       "28        1193270400                        False            False   \n",
       "29        1161216000                        False            False   \n",
       "...              ...                          ...              ...   \n",
       "378400    1323820800                         True            False   \n",
       "378401    1316044800                         True            False   \n",
       "378402    1319760000                         True            False   \n",
       "378403    1313452800                         True            False   \n",
       "378404    1323820800                         True            False   \n",
       "378405    1313452800                         True            False   \n",
       "378406    1323820800                         True            False   \n",
       "378407    1313452800                         True            False   \n",
       "378408    1316044800                         True            False   \n",
       "378409    1313452800                         True            False   \n",
       "378410    1319500800                         True            False   \n",
       "378411    1313452800                         True            False   \n",
       "378412    1316044800                         True            False   \n",
       "378413    1313452800                         True            False   \n",
       "378414    1313452800                         True            False   \n",
       "378415    1316044800                         True            False   \n",
       "378416    1319500800                         True            False   \n",
       "378417    1319500800                         True            False   \n",
       "378418    1319500800                         True            False   \n",
       "378419    1321315200                         True            False   \n",
       "378420    1319500800                         True            False   \n",
       "378421    1319500800                         True            False   \n",
       "378422    1319500800                         True            False   \n",
       "378423    1319500800                         True            False   \n",
       "378424    1319500800                         True            False   \n",
       "378425    1320192000                         True            False   \n",
       "378426    1320192000                         True            False   \n",
       "378427    1320192000                         True            False   \n",
       "378428    1319500800                         True            False   \n",
       "378429    1319500800                         True            False   \n",
       "\n",
       "        PrimaryUpper_na  MfgYear_correct_na  \n",
       "0                 False               False  \n",
       "1                 False               False  \n",
       "2                 False               False  \n",
       "3                 False               False  \n",
       "4                 False               False  \n",
       "5                 False               False  \n",
       "6                 False               False  \n",
       "7                 False               False  \n",
       "8                 False               False  \n",
       "9                 False               False  \n",
       "10                False               False  \n",
       "11                False               False  \n",
       "12                False               False  \n",
       "13                False               False  \n",
       "14                False               False  \n",
       "15                False               False  \n",
       "16                False               False  \n",
       "17                False               False  \n",
       "18                False               False  \n",
       "19                False               False  \n",
       "20                False               False  \n",
       "21                False               False  \n",
       "22                False               False  \n",
       "23                False               False  \n",
       "24                False               False  \n",
       "25                False               False  \n",
       "26                False               False  \n",
       "27                False               False  \n",
       "28                False               False  \n",
       "29                False               False  \n",
       "...                 ...                 ...  \n",
       "378400            False               False  \n",
       "378401            False               False  \n",
       "378402            False               False  \n",
       "378403            False               False  \n",
       "378404            False               False  \n",
       "378405            False               False  \n",
       "378406            False               False  \n",
       "378407            False               False  \n",
       "378408            False               False  \n",
       "378409            False               False  \n",
       "378410            False               False  \n",
       "378411            False               False  \n",
       "378412            False               False  \n",
       "378413            False               False  \n",
       "378414            False               False  \n",
       "378415            False               False  \n",
       "378416            False               False  \n",
       "378417            False               False  \n",
       "378418            False               False  \n",
       "378419            False               False  \n",
       "378420            False               False  \n",
       "378421            False               False  \n",
       "378422            False               False  \n",
       "378423            False               False  \n",
       "378424            False               False  \n",
       "378425            False               False  \n",
       "378426            False               False  \n",
       "378427            False               False  \n",
       "378428            False               False  \n",
       "378429            False               False  \n",
       "\n",
       "[378430 rows x 74 columns]"
      ]
     },
     "execution_count": 249,
     "metadata": {},
     "output_type": "execute_result"
    }
   ],
   "source": [
    "numericalize(df_merge, inplace=True)"
   ]
  },
  {
   "cell_type": "code",
   "execution_count": 254,
   "metadata": {
    "collapsed": true
   },
   "outputs": [],
   "source": [
    "df_merge.to_feather(f\"{DATA_DIR}df_merge_3.frt\")\n",
    "\n",
    "with open(f\"{DATA_DIR}category_mapper\", \"wb\") as handle:\n",
    "    pickle.dump(category_mapper, handle, protocol=pickle.HIGHEST_PROTOCOL)"
   ]
  },
  {
   "cell_type": "markdown",
   "metadata": {},
   "source": [
    "## Model baseline random forest"
   ]
  },
  {
   "cell_type": "code",
   "execution_count": 439,
   "metadata": {
    "collapsed": true
   },
   "outputs": [],
   "source": [
    "df_merge = pd.read_feather(f\"{DATA_DIR}df_merge_3.frt\")"
   ]
  },
  {
   "cell_type": "code",
   "execution_count": 440,
   "metadata": {
    "collapsed": true
   },
   "outputs": [],
   "source": [
    "# We sort the dateframe by saleElapse because sale are time dependant and validation set is the last 2 monts sales\n",
    "# df_merge = df_merge.sort_values(\"sale_Elapsed\", ascending=False)"
   ]
  },
  {
   "cell_type": "code",
   "execution_count": 441,
   "metadata": {
    "collapsed": true
   },
   "outputs": [],
   "source": [
    "sale_price = np.log(df_merge[\"SalePrice\"])"
   ]
  },
  {
   "cell_type": "code",
   "execution_count": 442,
   "metadata": {
    "collapsed": true
   },
   "outputs": [],
   "source": [
    "df_merge.drop(\"SalePrice\", axis=1, inplace=True)"
   ]
  },
  {
   "cell_type": "code",
   "execution_count": 332,
   "metadata": {},
   "outputs": [
    {
     "data": {
      "text/plain": [
       "((366430, 73), (366430,), (12000, 73))"
      ]
     },
     "execution_count": 332,
     "metadata": {},
     "output_type": "execute_result"
    }
   ],
   "source": [
    "def split_vals(a, n):\n",
    "    return a[:n].copy(), a[n:].copy()\n",
    "\n",
    "n_valid = 12000  # same as Kaggle's test set size\n",
    "n_trn = len(df_merge)-n_valid\n",
    "raw_train, raw_valid = split_vals(df_merge, n_trn)\n",
    "x_train, x_valid = split_vals(df_merge, n_trn)\n",
    "y_train, y_valid = split_vals(sale_price, n_trn)\n",
    "\n",
    "x_train.shape, y_train.shape, x_valid.shape"
   ]
  },
  {
   "cell_type": "code",
   "execution_count": 333,
   "metadata": {},
   "outputs": [
    {
     "name": "stdout",
     "output_type": "stream",
     "text": [
      "CPU times: user 8min 16s, sys: 3.82 s, total: 8min 20s\n",
      "Wall time: 1min 15s\n"
     ]
    },
    {
     "data": {
      "text/plain": [
       "RandomForestRegressor(bootstrap=True, criterion='mse', max_depth=None,\n",
       "           max_features='auto', max_leaf_nodes=None,\n",
       "           min_impurity_decrease=0.0, min_impurity_split=None,\n",
       "           min_samples_leaf=1, min_samples_split=2,\n",
       "           min_weight_fraction_leaf=0.0, n_estimators=50, n_jobs=-1,\n",
       "           oob_score=True, random_state=None, verbose=0, warm_start=False)"
      ]
     },
     "execution_count": 333,
     "metadata": {},
     "output_type": "execute_result"
    }
   ],
   "source": [
    "random_forest = RandomForestRegressor(n_estimators=50, n_jobs=-1, oob_score=True)\n",
    "\n",
    "%time random_forest.fit(df_merge, sale_price)"
   ]
  },
  {
   "cell_type": "code",
   "execution_count": 411,
   "metadata": {
    "collapsed": true
   },
   "outputs": [],
   "source": [
    "def rmse(x, y):\n",
    "    return math.sqrt(((x-y)**2).mean())\n",
    "\n",
    "def print_score(rf):\n",
    "    score = {\"RMSE train\": rmse(rf.predict(x_train), y_train), \"RMSE valid\": rmse(rf.predict(x_valid), y_valid),\n",
    "             \"RF score train\": rf.score(x_train, y_train), \"RF score valid\": rf.score(x_valid, y_valid)}\n",
    "    if hasattr(rf, \"oob_score_\"):\n",
    "        score.update({\"RF oob\": rf.oob_score_})\n",
    "    for n, s in score.items():\n",
    "        print(n+\": \", s)\n",
    "    return score"
   ]
  },
  {
   "cell_type": "code",
   "execution_count": 335,
   "metadata": {},
   "outputs": [
    {
     "name": "stdout",
     "output_type": "stream",
     "text": [
      "RMSE train:  0.07855785473719652\n",
      "RMSE valid:  0.07980394085239252\n",
      "RF score train:  0.986958122116\n",
      "RF score valid:  0.988677126431\n",
      "RF oob:  0.906875293893\n"
     ]
    }
   ],
   "source": [
    "scores = pd.DataFrame({\"baseline\": print_score(random_forest)})"
   ]
  },
  {
   "cell_type": "code",
   "execution_count": null,
   "metadata": {
    "collapsed": true
   },
   "outputs": [],
   "source": []
  },
  {
   "cell_type": "markdown",
   "metadata": {},
   "source": [
    "## Features importances"
   ]
  },
  {
   "cell_type": "code",
   "execution_count": 336,
   "metadata": {
    "collapsed": true
   },
   "outputs": [],
   "source": [
    "feat_importance = pd.DataFrame({\"cols\": df_merge.columns, \"imp\": random_forest.feature_importances_}).sort_values(\"imp\", ascending=False)"
   ]
  },
  {
   "cell_type": "code",
   "execution_count": 337,
   "metadata": {},
   "outputs": [
    {
     "data": {
      "text/plain": [
       "<matplotlib.axes._subplots.AxesSubplot at 0x1a3cbe1a20>"
      ]
     },
     "execution_count": 337,
     "metadata": {},
     "output_type": "execute_result"
    },
    {
     "data": {
      "image/png": "[encoded data removed]",
      "text/plain": [
       "<matplotlib.figure.Figure at 0x1a3cbd9278>"
      ]
     },
     "metadata": {},
     "output_type": "display_data"
    }
   ],
   "source": [
    "feat_importance.plot(\"cols\", \"imp\", title=\"Features importance\", figsize=(12,7))"
   ]
  },
  {
   "cell_type": "code",
   "execution_count": 338,
   "metadata": {
    "collapsed": true
   },
   "outputs": [],
   "source": [
    "def plot_feat_importance(fi):\n",
    "    fi.plot('cols', 'imp', 'barh', figsize=(12,7))"
   ]
  },
  {
   "cell_type": "code",
   "execution_count": 339,
   "metadata": {},
   "outputs": [
    {
     "data": {
      "image/png": "[encoded data removed]",
      "text/plain": [
       "<matplotlib.figure.Figure at 0x1a3cbd9cc0>"
      ]
     },
     "metadata": {},
     "output_type": "display_data"
    }
   ],
   "source": [
    "plot_feat_importance(feat_importance[:30])"
   ]
  },
  {
   "cell_type": "code",
   "execution_count": 340,
   "metadata": {},
   "outputs": [
    {
     "data": {
      "text/plain": [
       "20"
      ]
     },
     "execution_count": 340,
     "metadata": {},
     "output_type": "execute_result"
    }
   ],
   "source": [
    "feat_importance = feat_importance[feat_importance.imp > .005]\n",
    "len(feat_importance)"
   ]
  },
  {
   "cell_type": "code",
   "execution_count": 341,
   "metadata": {
    "collapsed": true
   },
   "outputs": [],
   "source": [
    "with open(f\"{DATA_DIR}keep_cols\", \"wb\") as handle:\n",
    "    pickle.dump(feat_importance, handle, protocol=pickle.HIGHEST_PROTOCOL)"
   ]
  },
  {
   "cell_type": "code",
   "execution_count": 443,
   "metadata": {
    "collapsed": true
   },
   "outputs": [],
   "source": [
    "df_keep = df_merge[feat_importance.cols]"
   ]
  },
  {
   "cell_type": "code",
   "execution_count": 343,
   "metadata": {},
   "outputs": [
    {
     "data": {
      "text/plain": [
       "((366430, 20), (366430,), (12000, 20))"
      ]
     },
     "execution_count": 343,
     "metadata": {},
     "output_type": "execute_result"
    }
   ],
   "source": [
    "raw_train, raw_valid = split_vals(df_keep, n_trn)\n",
    "x_train, x_valid = split_vals(df_keep, n_trn)\n",
    "y_train, y_valid = split_vals(sale_price, n_trn)\n",
    "\n",
    "x_train.shape, y_train.shape, x_valid.shape"
   ]
  },
  {
   "cell_type": "code",
   "execution_count": 344,
   "metadata": {},
   "outputs": [
    {
     "name": "stdout",
     "output_type": "stream",
     "text": [
      "CPU times: user 4min 35s, sys: 3.16 s, total: 4min 38s\n",
      "Wall time: 43.2 s\n"
     ]
    },
    {
     "data": {
      "text/plain": [
       "RandomForestRegressor(bootstrap=True, criterion='mse', max_depth=None,\n",
       "           max_features='auto', max_leaf_nodes=None,\n",
       "           min_impurity_decrease=0.0, min_impurity_split=None,\n",
       "           min_samples_leaf=1, min_samples_split=2,\n",
       "           min_weight_fraction_leaf=0.0, n_estimators=50, n_jobs=-1,\n",
       "           oob_score=True, random_state=None, verbose=0, warm_start=False)"
      ]
     },
     "execution_count": 344,
     "metadata": {},
     "output_type": "execute_result"
    }
   ],
   "source": [
    "random_forest = RandomForestRegressor(n_estimators=50, n_jobs=-1, oob_score=True)\n",
    "%time random_forest.fit(x_train, y_train)"
   ]
  },
  {
   "cell_type": "code",
   "execution_count": 345,
   "metadata": {},
   "outputs": [
    {
     "name": "stdout",
     "output_type": "stream",
     "text": [
      "RMSE train:  0.080524984835808\n",
      "RMSE valid:  0.2443356266120051\n",
      "RF score train:  0.986296793498\n",
      "RF score valid:  0.89385939125\n",
      "RF oob:  0.902184081223\n"
     ]
    }
   ],
   "source": [
    "scores = scores.join(pd.DataFrame({\"feat_importance\": print_score(random_forest)}))"
   ]
  },
  {
   "cell_type": "code",
   "execution_count": 346,
   "metadata": {},
   "outputs": [
    {
     "data": {
      "text/html": [
       "<div>\n",
       "<style>\n",
       "    .dataframe thead tr:only-child th {\n",
       "        text-align: right;\n",
       "    }\n",
       "\n",
       "    .dataframe thead th {\n",
       "        text-align: left;\n",
       "    }\n",
       "\n",
       "    .dataframe tbody tr th {\n",
       "        vertical-align: top;\n",
       "    }\n",
       "</style>\n",
       "<table border=\"1\" class=\"dataframe\">\n",
       "  <thead>\n",
       "    <tr style=\"text-align: right;\">\n",
       "      <th></th>\n",
       "      <th>baseline</th>\n",
       "      <th>feat_importance</th>\n",
       "    </tr>\n",
       "  </thead>\n",
       "  <tbody>\n",
       "    <tr>\n",
       "      <th>RF oob</th>\n",
       "      <td>0.906875</td>\n",
       "      <td>0.902184</td>\n",
       "    </tr>\n",
       "    <tr>\n",
       "      <th>RF score train</th>\n",
       "      <td>0.986958</td>\n",
       "      <td>0.986297</td>\n",
       "    </tr>\n",
       "    <tr>\n",
       "      <th>RF score valid</th>\n",
       "      <td>0.988677</td>\n",
       "      <td>0.893859</td>\n",
       "    </tr>\n",
       "    <tr>\n",
       "      <th>RMSE train</th>\n",
       "      <td>0.078558</td>\n",
       "      <td>0.080525</td>\n",
       "    </tr>\n",
       "    <tr>\n",
       "      <th>RMSE valid</th>\n",
       "      <td>0.079804</td>\n",
       "      <td>0.244336</td>\n",
       "    </tr>\n",
       "  </tbody>\n",
       "</table>\n",
       "</div>"
      ],
      "text/plain": [
       "                baseline  feat_importance\n",
       "RF oob          0.906875         0.902184\n",
       "RF score train  0.986958         0.986297\n",
       "RF score valid  0.988677         0.893859\n",
       "RMSE train      0.078558         0.080525\n",
       "RMSE valid      0.079804         0.244336"
      ]
     },
     "execution_count": 346,
     "metadata": {},
     "output_type": "execute_result"
    }
   ],
   "source": [
    "scores"
   ]
  },
  {
   "cell_type": "code",
   "execution_count": 347,
   "metadata": {},
   "outputs": [
    {
     "data": {
      "image/png": "[encoded data removed]",
      "text/plain": [
       "<matplotlib.figure.Figure at 0x1a3cbb7550>"
      ]
     },
     "metadata": {},
     "output_type": "display_data"
    }
   ],
   "source": [
    "corr = np.round(scipy.stats.spearmanr(df_keep).correlation, 4)\n",
    "corr_condensed = hc.distance.squareform(1-corr)\n",
    "z = hc.linkage(corr_condensed, method='average')\n",
    "fig = plt.figure(figsize=(16,10))\n",
    "dendrogram = hc.dendrogram(z, labels=df_keep.columns, orientation='left', leaf_font_size=16)\n",
    "plt.show()"
   ]
  },
  {
   "cell_type": "code",
   "execution_count": 348,
   "metadata": {
    "collapsed": true
   },
   "outputs": [],
   "source": [
    "def get_oob(df):\n",
    "    rf = RandomForestRegressor(n_estimators=50, n_jobs=-1, oob_score=True)\n",
    "    x, _ = split_vals(df, n_trn)\n",
    "    rf.fit(x, y_train)\n",
    "    return rf.oob_score_"
   ]
  },
  {
   "cell_type": "code",
   "execution_count": 349,
   "metadata": {},
   "outputs": [
    {
     "data": {
      "text/plain": [
       "0.90239081414759981"
      ]
     },
     "execution_count": 349,
     "metadata": {},
     "output_type": "execute_result"
    }
   ],
   "source": [
    "get_oob(df_keep)"
   ]
  },
  {
   "cell_type": "code",
   "execution_count": 350,
   "metadata": {},
   "outputs": [
    {
     "name": "stdout",
     "output_type": "stream",
     "text": [
      "fiBaseModel:  0.902398247118\n",
      "fiModelDesc:  0.902328223485\n"
     ]
    }
   ],
   "source": [
    "for col_name in [\"fiBaseModel\", \"fiModelDesc\"]:\n",
    "    print(col_name+\": \", get_oob(df_keep.drop(col_name, axis=1)))"
   ]
  },
  {
   "cell_type": "code",
   "execution_count": 444,
   "metadata": {},
   "outputs": [
    {
     "name": "stderr",
     "output_type": "stream",
     "text": [
      "/Users/bastien/anaconda3/lib/python3.6/site-packages/ipykernel_launcher.py:1: SettingWithCopyWarning: \n",
      "A value is trying to be set on a copy of a slice from a DataFrame\n",
      "\n",
      "See the caveats in the documentation: http://pandas.pydata.org/pandas-docs/stable/indexing.html#indexing-view-versus-copy\n",
      "  \"\"\"Entry point for launching an IPython kernel.\n"
     ]
    }
   ],
   "source": [
    "df_keep.drop(\"fiModelDesc\", axis=1, inplace=True)"
   ]
  },
  {
   "cell_type": "code",
   "execution_count": 354,
   "metadata": {},
   "outputs": [
    {
     "data": {
      "text/plain": [
       "((366430, 19), (366430,), (12000, 19))"
      ]
     },
     "execution_count": 354,
     "metadata": {},
     "output_type": "execute_result"
    }
   ],
   "source": [
    "raw_train, raw_valid = split_vals(df_keep, n_trn)\n",
    "x_train, x_valid = split_vals(df_keep, n_trn)\n",
    "y_train, y_valid = split_vals(sale_price, n_trn)\n",
    "\n",
    "x_train.shape, y_train.shape, x_valid.shape"
   ]
  },
  {
   "cell_type": "code",
   "execution_count": 355,
   "metadata": {},
   "outputs": [
    {
     "name": "stdout",
     "output_type": "stream",
     "text": [
      "CPU times: user 4min 13s, sys: 2.51 s, total: 4min 16s\n",
      "Wall time: 40.6 s\n"
     ]
    },
    {
     "data": {
      "text/plain": [
       "RandomForestRegressor(bootstrap=True, criterion='mse', max_depth=None,\n",
       "           max_features='auto', max_leaf_nodes=None,\n",
       "           min_impurity_decrease=0.0, min_impurity_split=None,\n",
       "           min_samples_leaf=1, min_samples_split=2,\n",
       "           min_weight_fraction_leaf=0.0, n_estimators=50, n_jobs=-1,\n",
       "           oob_score=True, random_state=None, verbose=0, warm_start=False)"
      ]
     },
     "execution_count": 355,
     "metadata": {},
     "output_type": "execute_result"
    }
   ],
   "source": [
    "%time random_forest.fit(x_train, y_train)"
   ]
  },
  {
   "cell_type": "code",
   "execution_count": 356,
   "metadata": {},
   "outputs": [
    {
     "name": "stdout",
     "output_type": "stream",
     "text": [
      "RMSE train:  0.08013661243827164\n",
      "RMSE valid:  0.2444317648252595\n",
      "RF score train:  0.986428656007\n",
      "RF score valid:  0.893775848983\n",
      "RF oob:  0.902501105583\n"
     ]
    }
   ],
   "source": [
    "scores = scores.join(pd.DataFrame({\"correlation\": print_score(random_forest)}))"
   ]
  },
  {
   "cell_type": "code",
   "execution_count": 357,
   "metadata": {},
   "outputs": [
    {
     "data": {
      "text/html": [
       "<div>\n",
       "<style>\n",
       "    .dataframe thead tr:only-child th {\n",
       "        text-align: right;\n",
       "    }\n",
       "\n",
       "    .dataframe thead th {\n",
       "        text-align: left;\n",
       "    }\n",
       "\n",
       "    .dataframe tbody tr th {\n",
       "        vertical-align: top;\n",
       "    }\n",
       "</style>\n",
       "<table border=\"1\" class=\"dataframe\">\n",
       "  <thead>\n",
       "    <tr style=\"text-align: right;\">\n",
       "      <th></th>\n",
       "      <th>baseline</th>\n",
       "      <th>feat_importance</th>\n",
       "      <th>correlation</th>\n",
       "    </tr>\n",
       "  </thead>\n",
       "  <tbody>\n",
       "    <tr>\n",
       "      <th>RF oob</th>\n",
       "      <td>0.906875</td>\n",
       "      <td>0.902184</td>\n",
       "      <td>0.902501</td>\n",
       "    </tr>\n",
       "    <tr>\n",
       "      <th>RF score train</th>\n",
       "      <td>0.986958</td>\n",
       "      <td>0.986297</td>\n",
       "      <td>0.986429</td>\n",
       "    </tr>\n",
       "    <tr>\n",
       "      <th>RF score valid</th>\n",
       "      <td>0.988677</td>\n",
       "      <td>0.893859</td>\n",
       "      <td>0.893776</td>\n",
       "    </tr>\n",
       "    <tr>\n",
       "      <th>RMSE train</th>\n",
       "      <td>0.078558</td>\n",
       "      <td>0.080525</td>\n",
       "      <td>0.080137</td>\n",
       "    </tr>\n",
       "    <tr>\n",
       "      <th>RMSE valid</th>\n",
       "      <td>0.079804</td>\n",
       "      <td>0.244336</td>\n",
       "      <td>0.244432</td>\n",
       "    </tr>\n",
       "  </tbody>\n",
       "</table>\n",
       "</div>"
      ],
      "text/plain": [
       "                baseline  feat_importance  correlation\n",
       "RF oob          0.906875         0.902184     0.902501\n",
       "RF score train  0.986958         0.986297     0.986429\n",
       "RF score valid  0.988677         0.893859     0.893776\n",
       "RMSE train      0.078558         0.080525     0.080137\n",
       "RMSE valid      0.079804         0.244336     0.244432"
      ]
     },
     "execution_count": 357,
     "metadata": {},
     "output_type": "execute_result"
    }
   ],
   "source": [
    "scores"
   ]
  },
  {
   "cell_type": "markdown",
   "metadata": {},
   "source": [
    "## Extrapolation"
   ]
  },
  {
   "cell_type": "code",
   "execution_count": 445,
   "metadata": {},
   "outputs": [
    {
     "name": "stderr",
     "output_type": "stream",
     "text": [
      "/Users/bastien/anaconda3/lib/python3.6/site-packages/ipykernel_launcher.py:1: SettingWithCopyWarning: \n",
      "A value is trying to be set on a copy of a slice from a DataFrame.\n",
      "Try using .loc[row_indexer,col_indexer] = value instead\n",
      "\n",
      "See the caveats in the documentation: http://pandas.pydata.org/pandas-docs/stable/indexing.html#indexing-view-versus-copy\n",
      "  \"\"\"Entry point for launching an IPython kernel.\n"
     ]
    }
   ],
   "source": [
    "df_keep[\"age\"] = df_merge.sale_Year-df_merge.MfgYear_correct\n",
    "df_ext = df_keep.copy()\n",
    "df_ext[\"is_valid\"] = 1\n",
    "# df_ext = df_ext.loc[:n_trn, \"is_valid\"] = 0\n",
    "df_ext[\"is_valid\"].values[:n_trn] = 0\n",
    "y = df_ext[\"is_valid\"].values\n",
    "df_ext.drop(\"is_valid\", axis=1, inplace=True)"
   ]
  },
  {
   "cell_type": "code",
   "execution_count": 446,
   "metadata": {},
   "outputs": [
    {
     "data": {
      "text/plain": [
       "0.99671009169463309"
      ]
     },
     "execution_count": 446,
     "metadata": {},
     "output_type": "execute_result"
    }
   ],
   "source": [
    "m = RandomForestClassifier(n_estimators=50, n_jobs=-1, oob_score=True)\n",
    "m.fit(df_ext, y);\n",
    "m.oob_score_"
   ]
  },
  {
   "cell_type": "code",
   "execution_count": 447,
   "metadata": {},
   "outputs": [
    {
     "data": {
      "text/html": [
       "<div>\n",
       "<style>\n",
       "    .dataframe thead tr:only-child th {\n",
       "        text-align: right;\n",
       "    }\n",
       "\n",
       "    .dataframe thead th {\n",
       "        text-align: left;\n",
       "    }\n",
       "\n",
       "    .dataframe tbody tr th {\n",
       "        vertical-align: top;\n",
       "    }\n",
       "</style>\n",
       "<table border=\"1\" class=\"dataframe\">\n",
       "  <thead>\n",
       "    <tr style=\"text-align: right;\">\n",
       "      <th></th>\n",
       "      <th>cols</th>\n",
       "      <th>imp</th>\n",
       "    </tr>\n",
       "  </thead>\n",
       "  <tbody>\n",
       "    <tr>\n",
       "      <th>7</th>\n",
       "      <td>SalesID</td>\n",
       "      <td>0.624775</td>\n",
       "    </tr>\n",
       "    <tr>\n",
       "      <th>3</th>\n",
       "      <td>sale_Elapsed</td>\n",
       "      <td>0.146622</td>\n",
       "    </tr>\n",
       "    <tr>\n",
       "      <th>12</th>\n",
       "      <td>MachineID</td>\n",
       "      <td>0.112270</td>\n",
       "    </tr>\n",
       "    <tr>\n",
       "      <th>4</th>\n",
       "      <td>fiManufacturerID</td>\n",
       "      <td>0.014618</td>\n",
       "    </tr>\n",
       "    <tr>\n",
       "      <th>17</th>\n",
       "      <td>sale_Dayofyear</td>\n",
       "      <td>0.014320</td>\n",
       "    </tr>\n",
       "    <tr>\n",
       "      <th>0</th>\n",
       "      <td>MfgYear_correct</td>\n",
       "      <td>0.012775</td>\n",
       "    </tr>\n",
       "    <tr>\n",
       "      <th>16</th>\n",
       "      <td>fiBaseModel</td>\n",
       "      <td>0.012214</td>\n",
       "    </tr>\n",
       "    <tr>\n",
       "      <th>13</th>\n",
       "      <td>ModelID</td>\n",
       "      <td>0.010155</td>\n",
       "    </tr>\n",
       "    <tr>\n",
       "      <th>19</th>\n",
       "      <td>age</td>\n",
       "      <td>0.007988</td>\n",
       "    </tr>\n",
       "    <tr>\n",
       "      <th>18</th>\n",
       "      <td>fiManufacturerDesc</td>\n",
       "      <td>0.007374</td>\n",
       "    </tr>\n",
       "  </tbody>\n",
       "</table>\n",
       "</div>"
      ],
      "text/plain": [
       "                  cols       imp\n",
       "7              SalesID  0.624775\n",
       "3         sale_Elapsed  0.146622\n",
       "12           MachineID  0.112270\n",
       "4     fiManufacturerID  0.014618\n",
       "17      sale_Dayofyear  0.014320\n",
       "0      MfgYear_correct  0.012775\n",
       "16         fiBaseModel  0.012214\n",
       "13             ModelID  0.010155\n",
       "19                 age  0.007988\n",
       "18  fiManufacturerDesc  0.007374"
      ]
     },
     "execution_count": 447,
     "metadata": {},
     "output_type": "execute_result"
    }
   ],
   "source": [
    "fi = pd.DataFrame({\"cols\": df_ext.columns, \"imp\": m.feature_importances_}).sort_values(\"imp\", ascending=False); fi[:10]"
   ]
  },
  {
   "cell_type": "code",
   "execution_count": 448,
   "metadata": {
    "collapsed": true
   },
   "outputs": [],
   "source": [
    "feats=['SalesID', 'sale_Elapsed', 'MachineID']"
   ]
  },
  {
   "cell_type": "code",
   "execution_count": 449,
   "metadata": {
    "collapsed": true
   },
   "outputs": [],
   "source": [
    "df_ext.drop(feats, axis=1, inplace=True)"
   ]
  },
  {
   "cell_type": "code",
   "execution_count": 450,
   "metadata": {},
   "outputs": [
    {
     "data": {
      "text/plain": [
       "0.97681473456121348"
      ]
     },
     "execution_count": 450,
     "metadata": {},
     "output_type": "execute_result"
    }
   ],
   "source": [
    "m = RandomForestClassifier(n_estimators=50, n_jobs=-1, oob_score=True)\n",
    "m.fit(df_ext, y)\n",
    "m.oob_score_"
   ]
  },
  {
   "cell_type": "code",
   "execution_count": 451,
   "metadata": {},
   "outputs": [
    {
     "data": {
      "text/html": [
       "<div>\n",
       "<style>\n",
       "    .dataframe thead tr:only-child th {\n",
       "        text-align: right;\n",
       "    }\n",
       "\n",
       "    .dataframe thead th {\n",
       "        text-align: left;\n",
       "    }\n",
       "\n",
       "    .dataframe tbody tr th {\n",
       "        vertical-align: top;\n",
       "    }\n",
       "</style>\n",
       "<table border=\"1\" class=\"dataframe\">\n",
       "  <thead>\n",
       "    <tr style=\"text-align: right;\">\n",
       "      <th></th>\n",
       "      <th>cols</th>\n",
       "      <th>imp</th>\n",
       "    </tr>\n",
       "  </thead>\n",
       "  <tbody>\n",
       "    <tr>\n",
       "      <th>14</th>\n",
       "      <td>sale_Dayofyear</td>\n",
       "      <td>0.176891</td>\n",
       "    </tr>\n",
       "    <tr>\n",
       "      <th>16</th>\n",
       "      <td>age</td>\n",
       "      <td>0.158364</td>\n",
       "    </tr>\n",
       "    <tr>\n",
       "      <th>0</th>\n",
       "      <td>MfgYear_correct</td>\n",
       "      <td>0.143998</td>\n",
       "    </tr>\n",
       "    <tr>\n",
       "      <th>12</th>\n",
       "      <td>sale_Day</td>\n",
       "      <td>0.102132</td>\n",
       "    </tr>\n",
       "    <tr>\n",
       "      <th>11</th>\n",
       "      <td>state</td>\n",
       "      <td>0.087619</td>\n",
       "    </tr>\n",
       "    <tr>\n",
       "      <th>10</th>\n",
       "      <td>ModelID</td>\n",
       "      <td>0.067966</td>\n",
       "    </tr>\n",
       "    <tr>\n",
       "      <th>13</th>\n",
       "      <td>fiBaseModel</td>\n",
       "      <td>0.049755</td>\n",
       "    </tr>\n",
       "    <tr>\n",
       "      <th>3</th>\n",
       "      <td>fiManufacturerID</td>\n",
       "      <td>0.032199</td>\n",
       "    </tr>\n",
       "    <tr>\n",
       "      <th>8</th>\n",
       "      <td>fiProductClassDesc</td>\n",
       "      <td>0.030875</td>\n",
       "    </tr>\n",
       "    <tr>\n",
       "      <th>2</th>\n",
       "      <td>PrimaryLower</td>\n",
       "      <td>0.029029</td>\n",
       "    </tr>\n",
       "  </tbody>\n",
       "</table>\n",
       "</div>"
      ],
      "text/plain": [
       "                  cols       imp\n",
       "14      sale_Dayofyear  0.176891\n",
       "16                 age  0.158364\n",
       "0      MfgYear_correct  0.143998\n",
       "12            sale_Day  0.102132\n",
       "11               state  0.087619\n",
       "10             ModelID  0.067966\n",
       "13         fiBaseModel  0.049755\n",
       "3     fiManufacturerID  0.032199\n",
       "8   fiProductClassDesc  0.030875\n",
       "2         PrimaryLower  0.029029"
      ]
     },
     "execution_count": 451,
     "metadata": {},
     "output_type": "execute_result"
    }
   ],
   "source": [
    "fi = pd.DataFrame({\"cols\": df_ext.columns, \"imp\": m.feature_importances_}).sort_values(\"imp\", ascending=False); fi[:10]"
   ]
  },
  {
   "cell_type": "code",
   "execution_count": 452,
   "metadata": {
    "collapsed": true
   },
   "outputs": [],
   "source": [
    "feats=['SalesID', 'sale_Elapsed', 'MachineID', 'age', 'sale_Dayofyear', \"MfgYear_correct\", \"sale_Day\"]"
   ]
  },
  {
   "cell_type": "code",
   "execution_count": 453,
   "metadata": {},
   "outputs": [
    {
     "data": {
      "text/plain": [
       "RandomForestRegressor(bootstrap=True, criterion='mse', max_depth=None,\n",
       "           max_features='auto', max_leaf_nodes=None,\n",
       "           min_impurity_decrease=0.0, min_impurity_split=None,\n",
       "           min_samples_leaf=1, min_samples_split=2,\n",
       "           min_weight_fraction_leaf=0.0, n_estimators=50, n_jobs=-1,\n",
       "           oob_score=True, random_state=None, verbose=0, warm_start=False)"
      ]
     },
     "execution_count": 453,
     "metadata": {},
     "output_type": "execute_result"
    }
   ],
   "source": [
    "x_train, x_valid = split_vals(df_keep, n_trn)\n",
    "y_train, y_valid = split_vals(sale_price, n_trn)\n",
    "m = RandomForestRegressor(n_estimators=50, n_jobs=-1, oob_score=True)\n",
    "m.fit(x_train, y_train)"
   ]
  },
  {
   "cell_type": "code",
   "execution_count": 455,
   "metadata": {},
   "outputs": [
    {
     "name": "stdout",
     "output_type": "stream",
     "text": [
      "RMSE train:  0.08031431532770775\n",
      "RMSE valid:  0.23954527203242812\n",
      "RF score train:  0.986368400378\n",
      "RF score valid:  0.897980500438\n",
      "RF oob:  0.902662644316\n"
     ]
    }
   ],
   "source": [
    "scores_extra = pd.DataFrame({\"baseline\": print_score(m, x_train, y_train, x_valid, y_valid)})"
   ]
  },
  {
   "cell_type": "code",
   "execution_count": 415,
   "metadata": {},
   "outputs": [
    {
     "data": {
      "text/plain": [
       "(378430, 18)"
      ]
     },
     "execution_count": 415,
     "metadata": {},
     "output_type": "execute_result"
    }
   ],
   "source": [
    "df_subs.shape"
   ]
  },
  {
   "cell_type": "code",
   "execution_count": 458,
   "metadata": {},
   "outputs": [
    {
     "name": "stdout",
     "output_type": "stream",
     "text": [
      "RMSE train:  0.08034342185927516\n",
      "RMSE valid:  0.2331989189561514\n",
      "RF score train:  0.986358518193\n",
      "RF score valid:  0.903314566782\n",
      "RF oob:  0.902214898376\n",
      "RMSE train:  0.0820393246289067\n",
      "RMSE valid:  0.2504429808078703\n",
      "RF score train:  0.985776546674\n",
      "RF score valid:  0.888486945937\n",
      "RF oob:  0.898059194537\n",
      "RMSE train:  0.07970799508456117\n",
      "RMSE valid:  0.2392270336306949\n",
      "RF score train:  0.986573442697\n",
      "RF score valid:  0.898251388326\n",
      "RF oob:  0.903554068756\n",
      "RMSE train:  0.08032489592146205\n",
      "RMSE valid:  0.244316859112687\n",
      "RF score train:  0.986364808493\n",
      "RF score valid:  0.893875696013\n",
      "RF oob:  0.902003797468\n",
      "RMSE train:  0.0804902322139591\n",
      "RMSE valid:  0.24008830946031315\n",
      "RF score train:  0.986308618886\n",
      "RF score valid:  0.897517429711\n",
      "RF oob:  0.901729709483\n",
      "RMSE train:  0.08039380777001982\n",
      "RMSE valid:  0.24262608399427008\n",
      "RF score train:  0.986341402815\n",
      "RF score valid:  0.895339462859\n",
      "RF oob:  0.901881602624\n",
      "RMSE train:  0.08003408876707097\n",
      "RMSE valid:  0.24295347264351722\n",
      "RF score train:  0.986463359095\n",
      "RF score valid:  0.89505682392\n",
      "RF oob:  0.902747842677\n"
     ]
    }
   ],
   "source": [
    "def print_score(rf, x_train, y_train, x_valid, y_valid):\n",
    "    score = {\"RMSE train\": rmse(rf.predict(x_train), y_train), \"RMSE valid\": rmse(rf.predict(x_valid), y_valid),\n",
    "             \"RF score train\": rf.score(x_train, y_train), \"RF score valid\": rf.score(x_valid, y_valid)}\n",
    "    if hasattr(rf, \"oob_score_\"):\n",
    "        score.update({\"RF oob\": rf.oob_score_})\n",
    "    for n, s in score.items():\n",
    "        print(n+\": \", s)\n",
    "    return score\n",
    "\n",
    "for f in feats:\n",
    "    df_subs = df_keep.drop(f, axis=1)\n",
    "    x_train, x_valid = split_vals(df_subs, n_trn)\n",
    "    y_train, y_valid = split_vals(sale_price, n_trn)\n",
    "    m = RandomForestRegressor(n_estimators=50, n_jobs=-1, oob_score=True)\n",
    "    m.fit(x_train, y_train)\n",
    "    scores_extra = scores_extra.join(pd.DataFrame({f: print_score(m, x_train, y_train, x_valid, y_valid)}))\n",
    "#    print_score(m, x_train, y_train, x_valid, y_valid)"
   ]
  },
  {
   "cell_type": "code",
   "execution_count": 459,
   "metadata": {},
   "outputs": [
    {
     "data": {
      "text/html": [
       "<div>\n",
       "<style>\n",
       "    .dataframe thead tr:only-child th {\n",
       "        text-align: right;\n",
       "    }\n",
       "\n",
       "    .dataframe thead th {\n",
       "        text-align: left;\n",
       "    }\n",
       "\n",
       "    .dataframe tbody tr th {\n",
       "        vertical-align: top;\n",
       "    }\n",
       "</style>\n",
       "<table border=\"1\" class=\"dataframe\">\n",
       "  <thead>\n",
       "    <tr style=\"text-align: right;\">\n",
       "      <th></th>\n",
       "      <th>baseline</th>\n",
       "      <th>SalesID</th>\n",
       "      <th>sale_Elapsed</th>\n",
       "      <th>MachineID</th>\n",
       "      <th>age</th>\n",
       "      <th>sale_Dayofyear</th>\n",
       "      <th>MfgYear_correct</th>\n",
       "      <th>sale_Day</th>\n",
       "    </tr>\n",
       "  </thead>\n",
       "  <tbody>\n",
       "    <tr>\n",
       "      <th>RF oob</th>\n",
       "      <td>0.902663</td>\n",
       "      <td>0.902215</td>\n",
       "      <td>0.898059</td>\n",
       "      <td>0.903554</td>\n",
       "      <td>0.902004</td>\n",
       "      <td>0.901730</td>\n",
       "      <td>0.901882</td>\n",
       "      <td>0.902748</td>\n",
       "    </tr>\n",
       "    <tr>\n",
       "      <th>RF score train</th>\n",
       "      <td>0.986368</td>\n",
       "      <td>0.986359</td>\n",
       "      <td>0.985777</td>\n",
       "      <td>0.986573</td>\n",
       "      <td>0.986365</td>\n",
       "      <td>0.986309</td>\n",
       "      <td>0.986341</td>\n",
       "      <td>0.986463</td>\n",
       "    </tr>\n",
       "    <tr>\n",
       "      <th>RF score valid</th>\n",
       "      <td>0.897981</td>\n",
       "      <td>0.903315</td>\n",
       "      <td>0.888487</td>\n",
       "      <td>0.898251</td>\n",
       "      <td>0.893876</td>\n",
       "      <td>0.897517</td>\n",
       "      <td>0.895339</td>\n",
       "      <td>0.895057</td>\n",
       "    </tr>\n",
       "    <tr>\n",
       "      <th>RMSE train</th>\n",
       "      <td>0.080314</td>\n",
       "      <td>0.080343</td>\n",
       "      <td>0.082039</td>\n",
       "      <td>0.079708</td>\n",
       "      <td>0.080325</td>\n",
       "      <td>0.080490</td>\n",
       "      <td>0.080394</td>\n",
       "      <td>0.080034</td>\n",
       "    </tr>\n",
       "    <tr>\n",
       "      <th>RMSE valid</th>\n",
       "      <td>0.239545</td>\n",
       "      <td>0.233199</td>\n",
       "      <td>0.250443</td>\n",
       "      <td>0.239227</td>\n",
       "      <td>0.244317</td>\n",
       "      <td>0.240088</td>\n",
       "      <td>0.242626</td>\n",
       "      <td>0.242953</td>\n",
       "    </tr>\n",
       "  </tbody>\n",
       "</table>\n",
       "</div>"
      ],
      "text/plain": [
       "                baseline   SalesID  sale_Elapsed  MachineID       age  \\\n",
       "RF oob          0.902663  0.902215      0.898059   0.903554  0.902004   \n",
       "RF score train  0.986368  0.986359      0.985777   0.986573  0.986365   \n",
       "RF score valid  0.897981  0.903315      0.888487   0.898251  0.893876   \n",
       "RMSE train      0.080314  0.080343      0.082039   0.079708  0.080325   \n",
       "RMSE valid      0.239545  0.233199      0.250443   0.239227  0.244317   \n",
       "\n",
       "                sale_Dayofyear  MfgYear_correct  sale_Day  \n",
       "RF oob                0.901730         0.901882  0.902748  \n",
       "RF score train        0.986309         0.986341  0.986463  \n",
       "RF score valid        0.897517         0.895339  0.895057  \n",
       "RMSE train            0.080490         0.080394  0.080034  \n",
       "RMSE valid            0.240088         0.242626  0.242953  "
      ]
     },
     "execution_count": 459,
     "metadata": {},
     "output_type": "execute_result"
    }
   ],
   "source": [
    "scores_extra"
   ]
  },
  {
   "cell_type": "code",
   "execution_count": 460,
   "metadata": {},
   "outputs": [
    {
     "data": {
      "text/html": [
       "<div>\n",
       "<style>\n",
       "    .dataframe thead tr:only-child th {\n",
       "        text-align: right;\n",
       "    }\n",
       "\n",
       "    .dataframe thead th {\n",
       "        text-align: left;\n",
       "    }\n",
       "\n",
       "    .dataframe tbody tr th {\n",
       "        vertical-align: top;\n",
       "    }\n",
       "</style>\n",
       "<table border=\"1\" class=\"dataframe\">\n",
       "  <thead>\n",
       "    <tr style=\"text-align: right;\">\n",
       "      <th></th>\n",
       "      <th>RF score valid</th>\n",
       "      <th>RMSE valid</th>\n",
       "    </tr>\n",
       "  </thead>\n",
       "  <tbody>\n",
       "    <tr>\n",
       "      <th>SalesID</th>\n",
       "      <td>0.903315</td>\n",
       "      <td>0.233199</td>\n",
       "    </tr>\n",
       "    <tr>\n",
       "      <th>MachineID</th>\n",
       "      <td>0.898251</td>\n",
       "      <td>0.239227</td>\n",
       "    </tr>\n",
       "    <tr>\n",
       "      <th>baseline</th>\n",
       "      <td>0.897981</td>\n",
       "      <td>0.239545</td>\n",
       "    </tr>\n",
       "    <tr>\n",
       "      <th>sale_Dayofyear</th>\n",
       "      <td>0.897517</td>\n",
       "      <td>0.240088</td>\n",
       "    </tr>\n",
       "    <tr>\n",
       "      <th>MfgYear_correct</th>\n",
       "      <td>0.895339</td>\n",
       "      <td>0.242626</td>\n",
       "    </tr>\n",
       "    <tr>\n",
       "      <th>sale_Day</th>\n",
       "      <td>0.895057</td>\n",
       "      <td>0.242953</td>\n",
       "    </tr>\n",
       "    <tr>\n",
       "      <th>age</th>\n",
       "      <td>0.893876</td>\n",
       "      <td>0.244317</td>\n",
       "    </tr>\n",
       "    <tr>\n",
       "      <th>sale_Elapsed</th>\n",
       "      <td>0.888487</td>\n",
       "      <td>0.250443</td>\n",
       "    </tr>\n",
       "  </tbody>\n",
       "</table>\n",
       "</div>"
      ],
      "text/plain": [
       "                 RF score valid  RMSE valid\n",
       "SalesID                0.903315    0.233199\n",
       "MachineID              0.898251    0.239227\n",
       "baseline               0.897981    0.239545\n",
       "sale_Dayofyear         0.897517    0.240088\n",
       "MfgYear_correct        0.895339    0.242626\n",
       "sale_Day               0.895057    0.242953\n",
       "age                    0.893876    0.244317\n",
       "sale_Elapsed           0.888487    0.250443"
      ]
     },
     "execution_count": 460,
     "metadata": {},
     "output_type": "execute_result"
    }
   ],
   "source": [
    "scores_extra.loc[[\"RF score valid\", \"RMSE valid\"]].transpose().sort_values(\"RF score valid\", ascending=False)"
   ]
  },
  {
   "cell_type": "code",
   "execution_count": 461,
   "metadata": {
    "collapsed": true
   },
   "outputs": [],
   "source": [
    "df_final = df_keep.drop([\"SalesID\", \"MachineID\", \"sale_Dayofyear\", \"sale_Day\"], axis=1)"
   ]
  },
  {
   "cell_type": "code",
   "execution_count": 472,
   "metadata": {},
   "outputs": [
    {
     "name": "stdout",
     "output_type": "stream",
     "text": [
      "CPU times: user 2min 40s, sys: 2.71 s, total: 2min 43s\n",
      "Wall time: 27.3 s\n"
     ]
    },
    {
     "data": {
      "text/plain": [
       "RandomForestRegressor(bootstrap=True, criterion='mse', max_depth=None,\n",
       "           max_features='auto', max_leaf_nodes=None,\n",
       "           min_impurity_decrease=0.0, min_impurity_split=None,\n",
       "           min_samples_leaf=1, min_samples_split=2,\n",
       "           min_weight_fraction_leaf=0.0, n_estimators=50, n_jobs=-1,\n",
       "           oob_score=True, random_state=None, verbose=0, warm_start=False)"
      ]
     },
     "execution_count": 472,
     "metadata": {},
     "output_type": "execute_result"
    }
   ],
   "source": [
    "x_train, x_valid = split_vals(df_final, n_trn)\n",
    "y_train, y_valid = split_vals(sale_price, n_trn)\n",
    "m = RandomForestRegressor(n_estimators=50, n_jobs=-1, oob_score=True)\n",
    "%time m.fit(x_train, y_train)"
   ]
  },
  {
   "cell_type": "code",
   "execution_count": 473,
   "metadata": {},
   "outputs": [
    {
     "name": "stdout",
     "output_type": "stream",
     "text": [
      "RMSE train:  0.08561430730649974\n",
      "RMSE valid:  0.22867149598374578\n",
      "RF score train:  0.984509922399\n",
      "RF score valid:  0.907032308343\n",
      "RF oob:  0.903090433084\n"
     ]
    }
   ],
   "source": [
    "# scores.drop(\"extra\", axis=1, inplace=True)\n",
    "scores = scores.join(pd.DataFrame({\"extra\": print_score(m, x_train, y_train, x_valid, y_valid)}))"
   ]
  },
  {
   "cell_type": "code",
   "execution_count": 474,
   "metadata": {},
   "outputs": [
    {
     "data": {
      "text/html": [
       "<div>\n",
       "<style>\n",
       "    .dataframe thead tr:only-child th {\n",
       "        text-align: right;\n",
       "    }\n",
       "\n",
       "    .dataframe thead th {\n",
       "        text-align: left;\n",
       "    }\n",
       "\n",
       "    .dataframe tbody tr th {\n",
       "        vertical-align: top;\n",
       "    }\n",
       "</style>\n",
       "<table border=\"1\" class=\"dataframe\">\n",
       "  <thead>\n",
       "    <tr style=\"text-align: right;\">\n",
       "      <th></th>\n",
       "      <th>baseline</th>\n",
       "      <th>feat_importance</th>\n",
       "      <th>correlation</th>\n",
       "      <th>extra</th>\n",
       "    </tr>\n",
       "  </thead>\n",
       "  <tbody>\n",
       "    <tr>\n",
       "      <th>RF oob</th>\n",
       "      <td>0.906875</td>\n",
       "      <td>0.902184</td>\n",
       "      <td>0.902501</td>\n",
       "      <td>0.903090</td>\n",
       "    </tr>\n",
       "    <tr>\n",
       "      <th>RF score train</th>\n",
       "      <td>0.986958</td>\n",
       "      <td>0.986297</td>\n",
       "      <td>0.986429</td>\n",
       "      <td>0.984510</td>\n",
       "    </tr>\n",
       "    <tr>\n",
       "      <th>RF score valid</th>\n",
       "      <td>0.988677</td>\n",
       "      <td>0.893859</td>\n",
       "      <td>0.893776</td>\n",
       "      <td>0.907032</td>\n",
       "    </tr>\n",
       "    <tr>\n",
       "      <th>RMSE train</th>\n",
       "      <td>0.078558</td>\n",
       "      <td>0.080525</td>\n",
       "      <td>0.080137</td>\n",
       "      <td>0.085614</td>\n",
       "    </tr>\n",
       "    <tr>\n",
       "      <th>RMSE valid</th>\n",
       "      <td>0.079804</td>\n",
       "      <td>0.244336</td>\n",
       "      <td>0.244432</td>\n",
       "      <td>0.228671</td>\n",
       "    </tr>\n",
       "  </tbody>\n",
       "</table>\n",
       "</div>"
      ],
      "text/plain": [
       "                baseline  feat_importance  correlation     extra\n",
       "RF oob          0.906875         0.902184     0.902501  0.903090\n",
       "RF score train  0.986958         0.986297     0.986429  0.984510\n",
       "RF score valid  0.988677         0.893859     0.893776  0.907032\n",
       "RMSE train      0.078558         0.080525     0.080137  0.085614\n",
       "RMSE valid      0.079804         0.244336     0.244432  0.228671"
      ]
     },
     "execution_count": 474,
     "metadata": {},
     "output_type": "execute_result"
    }
   ],
   "source": [
    "scores"
   ]
  },
  {
   "cell_type": "code",
   "execution_count": 475,
   "metadata": {
    "collapsed": true
   },
   "outputs": [],
   "source": [
    "feat_importance = pd.DataFrame({\"cols\": df_final.columns, \"imp\": m.feature_importances_}).sort_values(\"imp\", ascending=False)"
   ]
  },
  {
   "cell_type": "code",
   "execution_count": 476,
   "metadata": {},
   "outputs": [
    {
     "data": {
      "image/png": "[encoded data removed]",
      "text/plain": [
       "<matplotlib.figure.Figure at 0x1a2313da90>"
      ]
     },
     "metadata": {},
     "output_type": "display_data"
    }
   ],
   "source": [
    "plot_feat_importance(feat_importance[:30])"
   ]
  },
  {
   "cell_type": "markdown",
   "metadata": {},
   "source": [
    "## confidence on tree variance"
   ]
  },
  {
   "cell_type": "code",
   "execution_count": 478,
   "metadata": {},
   "outputs": [
    {
     "name": "stdout",
     "output_type": "stream",
     "text": [
      "CPU times: user 212 ms, sys: 26 ms, total: 238 ms\n",
      "Wall time: 237 ms\n"
     ]
    },
    {
     "data": {
      "text/plain": [
       "(10.887254871775234, 0.25594433579748516)"
      ]
     },
     "execution_count": 478,
     "metadata": {},
     "output_type": "execute_result"
    }
   ],
   "source": [
    "%time preds = np.stack([t.predict(x_valid) for t in m.estimators_])\n",
    "np.mean(preds[:,0]), np.std(preds[:,0])"
   ]
  },
  {
   "cell_type": "code",
   "execution_count": null,
   "metadata": {
    "collapsed": true
   },
   "outputs": [],
   "source": []
  },
  {
   "cell_type": "code",
   "execution_count": null,
   "metadata": {
    "collapsed": true
   },
   "outputs": [],
   "source": []
  },
  {
   "cell_type": "markdown",
   "metadata": {},
   "source": [
    "## partial dependance"
   ]
  },
  {
   "cell_type": "code",
   "execution_count": null,
   "metadata": {
    "collapsed": true
   },
   "outputs": [],
   "source": []
  },
  {
   "cell_type": "code",
   "execution_count": null,
   "metadata": {
    "collapsed": true
   },
   "outputs": [],
   "source": []
  },
  {
   "cell_type": "code",
   "execution_count": null,
   "metadata": {
    "collapsed": true
   },
   "outputs": [],
   "source": []
  },
  {
   "cell_type": "markdown",
   "metadata": {},
   "source": [
    "# Features importance"
   ]
  },
  {
   "cell_type": "code",
   "execution_count": 315,
   "metadata": {},
   "outputs": [
    {
     "ename": "ValueError",
     "evalue": "arrays must all be same length",
     "output_type": "error",
     "traceback": [
      "\u001b[0;31m---------------------------------------------------------------------------\u001b[0m",
      "\u001b[0;31mValueError\u001b[0m                                Traceback (most recent call last)",
      "\u001b[0;32m<ipython-input-315-8f994d011919>\u001b[0m in \u001b[0;36m<module>\u001b[0;34m()\u001b[0m\n\u001b[0;32m----> 1\u001b[0;31m \u001b[0mfeat_importance\u001b[0m \u001b[0;34m=\u001b[0m \u001b[0mpd\u001b[0m\u001b[0;34m.\u001b[0m\u001b[0mDataFrame\u001b[0m\u001b[0;34m(\u001b[0m\u001b[0;34m{\u001b[0m\u001b[0;34m\"cols\"\u001b[0m\u001b[0;34m:\u001b[0m \u001b[0mdf_keep\u001b[0m\u001b[0;34m.\u001b[0m\u001b[0mcolumns\u001b[0m\u001b[0;34m,\u001b[0m \u001b[0;34m\"imp\"\u001b[0m\u001b[0;34m:\u001b[0m \u001b[0mrandom_forest\u001b[0m\u001b[0;34m.\u001b[0m\u001b[0mfeature_importances_\u001b[0m\u001b[0;34m}\u001b[0m\u001b[0;34m)\u001b[0m\u001b[0;34m.\u001b[0m\u001b[0msort_values\u001b[0m\u001b[0;34m(\u001b[0m\u001b[0;34m\"imp\"\u001b[0m\u001b[0;34m,\u001b[0m \u001b[0mascending\u001b[0m\u001b[0;34m=\u001b[0m\u001b[0;32mFalse\u001b[0m\u001b[0;34m)\u001b[0m\u001b[0;34m\u001b[0m\u001b[0m\n\u001b[0m",
      "\u001b[0;32m~/anaconda3/lib/python3.6/site-packages/pandas/core/frame.py\u001b[0m in \u001b[0;36m__init__\u001b[0;34m(self, data, index, columns, dtype, copy)\u001b[0m\n\u001b[1;32m    273\u001b[0m                                  dtype=dtype, copy=copy)\n\u001b[1;32m    274\u001b[0m         \u001b[0;32melif\u001b[0m \u001b[0misinstance\u001b[0m\u001b[0;34m(\u001b[0m\u001b[0mdata\u001b[0m\u001b[0;34m,\u001b[0m \u001b[0mdict\u001b[0m\u001b[0;34m)\u001b[0m\u001b[0;34m:\u001b[0m\u001b[0;34m\u001b[0m\u001b[0m\n\u001b[0;32m--> 275\u001b[0;31m             \u001b[0mmgr\u001b[0m \u001b[0;34m=\u001b[0m \u001b[0mself\u001b[0m\u001b[0;34m.\u001b[0m\u001b[0m_init_dict\u001b[0m\u001b[0;34m(\u001b[0m\u001b[0mdata\u001b[0m\u001b[0;34m,\u001b[0m \u001b[0mindex\u001b[0m\u001b[0;34m,\u001b[0m \u001b[0mcolumns\u001b[0m\u001b[0;34m,\u001b[0m \u001b[0mdtype\u001b[0m\u001b[0;34m=\u001b[0m\u001b[0mdtype\u001b[0m\u001b[0;34m)\u001b[0m\u001b[0;34m\u001b[0m\u001b[0m\n\u001b[0m\u001b[1;32m    276\u001b[0m         \u001b[0;32melif\u001b[0m \u001b[0misinstance\u001b[0m\u001b[0;34m(\u001b[0m\u001b[0mdata\u001b[0m\u001b[0;34m,\u001b[0m \u001b[0mma\u001b[0m\u001b[0;34m.\u001b[0m\u001b[0mMaskedArray\u001b[0m\u001b[0;34m)\u001b[0m\u001b[0;34m:\u001b[0m\u001b[0;34m\u001b[0m\u001b[0m\n\u001b[1;32m    277\u001b[0m             \u001b[0;32mimport\u001b[0m \u001b[0mnumpy\u001b[0m\u001b[0;34m.\u001b[0m\u001b[0mma\u001b[0m\u001b[0;34m.\u001b[0m\u001b[0mmrecords\u001b[0m \u001b[0;32mas\u001b[0m \u001b[0mmrecords\u001b[0m\u001b[0;34m\u001b[0m\u001b[0m\n",
      "\u001b[0;32m~/anaconda3/lib/python3.6/site-packages/pandas/core/frame.py\u001b[0m in \u001b[0;36m_init_dict\u001b[0;34m(self, data, index, columns, dtype)\u001b[0m\n\u001b[1;32m    409\u001b[0m             \u001b[0marrays\u001b[0m \u001b[0;34m=\u001b[0m \u001b[0;34m[\u001b[0m\u001b[0mdata\u001b[0m\u001b[0;34m[\u001b[0m\u001b[0mk\u001b[0m\u001b[0;34m]\u001b[0m \u001b[0;32mfor\u001b[0m \u001b[0mk\u001b[0m \u001b[0;32min\u001b[0m \u001b[0mkeys\u001b[0m\u001b[0;34m]\u001b[0m\u001b[0;34m\u001b[0m\u001b[0m\n\u001b[1;32m    410\u001b[0m \u001b[0;34m\u001b[0m\u001b[0m\n\u001b[0;32m--> 411\u001b[0;31m         \u001b[0;32mreturn\u001b[0m \u001b[0m_arrays_to_mgr\u001b[0m\u001b[0;34m(\u001b[0m\u001b[0marrays\u001b[0m\u001b[0;34m,\u001b[0m \u001b[0mdata_names\u001b[0m\u001b[0;34m,\u001b[0m \u001b[0mindex\u001b[0m\u001b[0;34m,\u001b[0m \u001b[0mcolumns\u001b[0m\u001b[0;34m,\u001b[0m \u001b[0mdtype\u001b[0m\u001b[0;34m=\u001b[0m\u001b[0mdtype\u001b[0m\u001b[0;34m)\u001b[0m\u001b[0;34m\u001b[0m\u001b[0m\n\u001b[0m\u001b[1;32m    412\u001b[0m \u001b[0;34m\u001b[0m\u001b[0m\n\u001b[1;32m    413\u001b[0m     \u001b[0;32mdef\u001b[0m \u001b[0m_init_ndarray\u001b[0m\u001b[0;34m(\u001b[0m\u001b[0mself\u001b[0m\u001b[0;34m,\u001b[0m \u001b[0mvalues\u001b[0m\u001b[0;34m,\u001b[0m \u001b[0mindex\u001b[0m\u001b[0;34m,\u001b[0m \u001b[0mcolumns\u001b[0m\u001b[0;34m,\u001b[0m \u001b[0mdtype\u001b[0m\u001b[0;34m=\u001b[0m\u001b[0;32mNone\u001b[0m\u001b[0;34m,\u001b[0m \u001b[0mcopy\u001b[0m\u001b[0;34m=\u001b[0m\u001b[0;32mFalse\u001b[0m\u001b[0;34m)\u001b[0m\u001b[0;34m:\u001b[0m\u001b[0;34m\u001b[0m\u001b[0m\n",
      "\u001b[0;32m~/anaconda3/lib/python3.6/site-packages/pandas/core/frame.py\u001b[0m in \u001b[0;36m_arrays_to_mgr\u001b[0;34m(arrays, arr_names, index, columns, dtype)\u001b[0m\n\u001b[1;32m   5494\u001b[0m     \u001b[0;31m# figure out the index, if necessary\u001b[0m\u001b[0;34m\u001b[0m\u001b[0;34m\u001b[0m\u001b[0m\n\u001b[1;32m   5495\u001b[0m     \u001b[0;32mif\u001b[0m \u001b[0mindex\u001b[0m \u001b[0;32mis\u001b[0m \u001b[0;32mNone\u001b[0m\u001b[0;34m:\u001b[0m\u001b[0;34m\u001b[0m\u001b[0m\n\u001b[0;32m-> 5496\u001b[0;31m         \u001b[0mindex\u001b[0m \u001b[0;34m=\u001b[0m \u001b[0mextract_index\u001b[0m\u001b[0;34m(\u001b[0m\u001b[0marrays\u001b[0m\u001b[0;34m)\u001b[0m\u001b[0;34m\u001b[0m\u001b[0m\n\u001b[0m\u001b[1;32m   5497\u001b[0m     \u001b[0;32melse\u001b[0m\u001b[0;34m:\u001b[0m\u001b[0;34m\u001b[0m\u001b[0m\n\u001b[1;32m   5498\u001b[0m         \u001b[0mindex\u001b[0m \u001b[0;34m=\u001b[0m \u001b[0m_ensure_index\u001b[0m\u001b[0;34m(\u001b[0m\u001b[0mindex\u001b[0m\u001b[0;34m)\u001b[0m\u001b[0;34m\u001b[0m\u001b[0m\n",
      "\u001b[0;32m~/anaconda3/lib/python3.6/site-packages/pandas/core/frame.py\u001b[0m in \u001b[0;36mextract_index\u001b[0;34m(data)\u001b[0m\n\u001b[1;32m   5542\u001b[0m             \u001b[0mlengths\u001b[0m \u001b[0;34m=\u001b[0m \u001b[0mlist\u001b[0m\u001b[0;34m(\u001b[0m\u001b[0mset\u001b[0m\u001b[0;34m(\u001b[0m\u001b[0mraw_lengths\u001b[0m\u001b[0;34m)\u001b[0m\u001b[0;34m)\u001b[0m\u001b[0;34m\u001b[0m\u001b[0m\n\u001b[1;32m   5543\u001b[0m             \u001b[0;32mif\u001b[0m \u001b[0mlen\u001b[0m\u001b[0;34m(\u001b[0m\u001b[0mlengths\u001b[0m\u001b[0;34m)\u001b[0m \u001b[0;34m>\u001b[0m \u001b[0;36m1\u001b[0m\u001b[0;34m:\u001b[0m\u001b[0;34m\u001b[0m\u001b[0m\n\u001b[0;32m-> 5544\u001b[0;31m                 \u001b[0;32mraise\u001b[0m \u001b[0mValueError\u001b[0m\u001b[0;34m(\u001b[0m\u001b[0;34m'arrays must all be same length'\u001b[0m\u001b[0;34m)\u001b[0m\u001b[0;34m\u001b[0m\u001b[0m\n\u001b[0m\u001b[1;32m   5545\u001b[0m \u001b[0;34m\u001b[0m\u001b[0m\n\u001b[1;32m   5546\u001b[0m             \u001b[0;32mif\u001b[0m \u001b[0mhave_dicts\u001b[0m\u001b[0;34m:\u001b[0m\u001b[0;34m\u001b[0m\u001b[0m\n",
      "\u001b[0;31mValueError\u001b[0m: arrays must all be same length"
     ]
    }
   ],
   "source": [
    "feat_importance = pd.DataFrame({\"cols\": df_keep.columns, \"imp\": random_forest.feature_importances_}).sort_values(\"imp\", ascending=False)"
   ]
  },
  {
   "cell_type": "code",
   "execution_count": 166,
   "metadata": {},
   "outputs": [
    {
     "data": {
      "text/plain": [
       "<matplotlib.axes._subplots.AxesSubplot at 0x1a32f1b0b8>"
      ]
     },
     "execution_count": 166,
     "metadata": {},
     "output_type": "execute_result"
    },
    {
     "data": {
      "image/png": "[encoded data removed]",
      "text/plain": [
       "<matplotlib.figure.Figure at 0x1a32f19978>"
      ]
     },
     "metadata": {},
     "output_type": "display_data"
    }
   ],
   "source": [
    "feat_importance.plot(\"cols\", \"imp\", title=\"Feature importance\")"
   ]
  },
  {
   "cell_type": "code",
   "execution_count": 173,
   "metadata": {
    "collapsed": true
   },
   "outputs": [],
   "source": [
    "def plot_feat_importance(fi):\n",
    "    fi.plot('cols', 'imp', 'barh', figsize=(12,7))"
   ]
  },
  {
   "cell_type": "code",
   "execution_count": 174,
   "metadata": {},
   "outputs": [
    {
     "data": {
      "image/png": "[encoded data removed]",
      "text/plain": [
       "<matplotlib.figure.Figure at 0x1a4c692b70>"
      ]
     },
     "metadata": {},
     "output_type": "display_data"
    }
   ],
   "source": [
    "plot_feat_importance(feat_importance[:30])"
   ]
  },
  {
   "cell_type": "code",
   "execution_count": 175,
   "metadata": {
    "collapsed": true
   },
   "outputs": [],
   "source": [
    "feat_importance = feat_importance[feat_importance.imp > .005]"
   ]
  },
  {
   "cell_type": "code",
   "execution_count": 176,
   "metadata": {},
   "outputs": [
    {
     "data": {
      "text/plain": [
       "16"
      ]
     },
     "execution_count": 176,
     "metadata": {},
     "output_type": "execute_result"
    }
   ],
   "source": [
    "len(feat_importance)"
   ]
  },
  {
   "cell_type": "code",
   "execution_count": 181,
   "metadata": {
    "collapsed": true
   },
   "outputs": [],
   "source": [
    "df_keep = df_process[feat_importance.cols.values]"
   ]
  },
  {
   "cell_type": "code",
   "execution_count": 192,
   "metadata": {},
   "outputs": [
    {
     "data": {
      "text/html": [
       "<div>\n",
       "<style>\n",
       "    .dataframe thead tr:only-child th {\n",
       "        text-align: right;\n",
       "    }\n",
       "\n",
       "    .dataframe thead th {\n",
       "        text-align: left;\n",
       "    }\n",
       "\n",
       "    .dataframe tbody tr th {\n",
       "        vertical-align: top;\n",
       "    }\n",
       "</style>\n",
       "<table border=\"1\" class=\"dataframe\">\n",
       "  <thead>\n",
       "    <tr style=\"text-align: right;\">\n",
       "      <th></th>\n",
       "      <th>Coupler_System</th>\n",
       "      <th>YearMade</th>\n",
       "      <th>ProductSize</th>\n",
       "      <th>fiProductClassDesc</th>\n",
       "      <th>ModelID</th>\n",
       "      <th>sale_Elapsed</th>\n",
       "      <th>Enclosure</th>\n",
       "      <th>fiModelDesc</th>\n",
       "      <th>fiSecondaryDesc</th>\n",
       "      <th>SalesID</th>\n",
       "      <th>fiModelDescriptor</th>\n",
       "      <th>fiBaseModel</th>\n",
       "      <th>MachineID</th>\n",
       "      <th>state</th>\n",
       "      <th>sale_Day</th>\n",
       "      <th>sale_Dayofyear</th>\n",
       "    </tr>\n",
       "  </thead>\n",
       "  <tbody>\n",
       "    <tr>\n",
       "      <th>0</th>\n",
       "      <td>0</td>\n",
       "      <td>2004</td>\n",
       "      <td>0</td>\n",
       "      <td>59</td>\n",
       "      <td>3157</td>\n",
       "      <td>1163635200</td>\n",
       "      <td>3</td>\n",
       "      <td>950</td>\n",
       "      <td>41</td>\n",
       "      <td>1139246</td>\n",
       "      <td>0</td>\n",
       "      <td>296</td>\n",
       "      <td>999089</td>\n",
       "      <td>1</td>\n",
       "      <td>16</td>\n",
       "      <td>320</td>\n",
       "    </tr>\n",
       "    <tr>\n",
       "      <th>1</th>\n",
       "      <td>0</td>\n",
       "      <td>1996</td>\n",
       "      <td>4</td>\n",
       "      <td>62</td>\n",
       "      <td>77</td>\n",
       "      <td>1080259200</td>\n",
       "      <td>3</td>\n",
       "      <td>1725</td>\n",
       "      <td>55</td>\n",
       "      <td>1139248</td>\n",
       "      <td>0</td>\n",
       "      <td>527</td>\n",
       "      <td>117657</td>\n",
       "      <td>33</td>\n",
       "      <td>26</td>\n",
       "      <td>86</td>\n",
       "    </tr>\n",
       "    <tr>\n",
       "      <th>2</th>\n",
       "      <td>1</td>\n",
       "      <td>2001</td>\n",
       "      <td>0</td>\n",
       "      <td>39</td>\n",
       "      <td>7009</td>\n",
       "      <td>1077753600</td>\n",
       "      <td>6</td>\n",
       "      <td>331</td>\n",
       "      <td>0</td>\n",
       "      <td>1139249</td>\n",
       "      <td>0</td>\n",
       "      <td>110</td>\n",
       "      <td>434808</td>\n",
       "      <td>32</td>\n",
       "      <td>26</td>\n",
       "      <td>57</td>\n",
       "    </tr>\n",
       "    <tr>\n",
       "      <th>3</th>\n",
       "      <td>0</td>\n",
       "      <td>2001</td>\n",
       "      <td>6</td>\n",
       "      <td>8</td>\n",
       "      <td>332</td>\n",
       "      <td>1305763200</td>\n",
       "      <td>3</td>\n",
       "      <td>3674</td>\n",
       "      <td>0</td>\n",
       "      <td>1139251</td>\n",
       "      <td>0</td>\n",
       "      <td>1375</td>\n",
       "      <td>1026470</td>\n",
       "      <td>44</td>\n",
       "      <td>19</td>\n",
       "      <td>139</td>\n",
       "    </tr>\n",
       "    <tr>\n",
       "      <th>4</th>\n",
       "      <td>1</td>\n",
       "      <td>2007</td>\n",
       "      <td>0</td>\n",
       "      <td>40</td>\n",
       "      <td>17311</td>\n",
       "      <td>1248307200</td>\n",
       "      <td>1</td>\n",
       "      <td>4208</td>\n",
       "      <td>0</td>\n",
       "      <td>1139253</td>\n",
       "      <td>0</td>\n",
       "      <td>1529</td>\n",
       "      <td>1057373</td>\n",
       "      <td>32</td>\n",
       "      <td>23</td>\n",
       "      <td>204</td>\n",
       "    </tr>\n",
       "  </tbody>\n",
       "</table>\n",
       "</div>"
      ],
      "text/plain": [
       "   Coupler_System  YearMade  ProductSize  fiProductClassDesc  ModelID  \\\n",
       "0               0      2004            0                  59     3157   \n",
       "1               0      1996            4                  62       77   \n",
       "2               1      2001            0                  39     7009   \n",
       "3               0      2001            6                   8      332   \n",
       "4               1      2007            0                  40    17311   \n",
       "\n",
       "   sale_Elapsed  Enclosure  fiModelDesc  fiSecondaryDesc  SalesID  \\\n",
       "0    1163635200          3          950               41  1139246   \n",
       "1    1080259200          3         1725               55  1139248   \n",
       "2    1077753600          6          331                0  1139249   \n",
       "3    1305763200          3         3674                0  1139251   \n",
       "4    1248307200          1         4208                0  1139253   \n",
       "\n",
       "   fiModelDescriptor  fiBaseModel  MachineID  state  sale_Day  sale_Dayofyear  \n",
       "0                  0          296     999089      1        16             320  \n",
       "1                  0          527     117657     33        26              86  \n",
       "2                  0          110     434808     32        26              57  \n",
       "3                  0         1375    1026470     44        19             139  \n",
       "4                  0         1529    1057373     32        23             204  "
      ]
     },
     "execution_count": 192,
     "metadata": {},
     "output_type": "execute_result"
    }
   ],
   "source": []
  },
  {
   "cell_type": "code",
   "execution_count": 219,
   "metadata": {},
   "outputs": [
    {
     "data": {
      "text/plain": [
       "((389125, 15), (389125,), (12000, 15))"
      ]
     },
     "execution_count": 219,
     "metadata": {},
     "output_type": "execute_result"
    }
   ],
   "source": [
    "n_valid = 12000  # same as Kaggle's test set size\n",
    "n_trn = len(df_keep)-n_valid\n",
    "raw_train, raw_valid = split_vals(df_keep, n_trn)\n",
    "x_train, x_valid = split_vals(df_keep, n_trn)\n",
    "y_train, y_valid = split_vals(sale_price, n_trn)\n",
    "\n",
    "x_train.shape, y_train.shape, x_valid.shape"
   ]
  },
  {
   "cell_type": "code",
   "execution_count": 220,
   "metadata": {},
   "outputs": [
    {
     "data": {
      "text/plain": [
       "RandomForestRegressor(bootstrap=True, criterion='mse', max_depth=None,\n",
       "           max_features='auto', max_leaf_nodes=None,\n",
       "           min_impurity_decrease=0.0, min_impurity_split=None,\n",
       "           min_samples_leaf=1, min_samples_split=2,\n",
       "           min_weight_fraction_leaf=0.0, n_estimators=50, n_jobs=-1,\n",
       "           oob_score=True, random_state=None, verbose=0, warm_start=False)"
      ]
     },
     "execution_count": 220,
     "metadata": {},
     "output_type": "execute_result"
    }
   ],
   "source": [
    "random_forest = RandomForestRegressor(n_estimators=50, n_jobs=-1, oob_score=True)\n",
    "random_forest.fit(x_train, y_train)"
   ]
  },
  {
   "cell_type": "code",
   "execution_count": 223,
   "metadata": {},
   "outputs": [
    {
     "name": "stdout",
     "output_type": "stream",
     "text": [
      "RMSE train:  0.07908663180979683\n",
      "RMSE valid:  0.2360687745922676\n",
      "RF score train:  0.986928031702\n",
      "RF score valid:  0.900476631858\n",
      "RF oob:  0.906116356966\n"
     ]
    }
   ],
   "source": [
    "scores = scores.join(pd.DataFrame({\"feat_importance\": print_score(random_forest)}))"
   ]
  },
  {
   "cell_type": "code",
   "execution_count": 222,
   "metadata": {
    "collapsed": true
   },
   "outputs": [],
   "source": [
    "scores.drop(\"feat_importance\", axis=1, inplace=True)"
   ]
  },
  {
   "cell_type": "code",
   "execution_count": 206,
   "metadata": {},
   "outputs": [
    {
     "data": {
      "image/png": "[encoded data removed]",
      "text/plain": [
       "<matplotlib.figure.Figure at 0x1a81b85978>"
      ]
     },
     "metadata": {},
     "output_type": "display_data"
    }
   ],
   "source": [
    "corr = np.round(scipy.stats.spearmanr(df_keep).correlation, 4)\n",
    "corr_condensed = hc.distance.squareform(1-corr)\n",
    "z = hc.linkage(corr_condensed, method='average')\n",
    "fig = plt.figure(figsize=(16,10))\n",
    "dendrogram = hc.dendrogram(z, labels=df_keep.columns, orientation='left', leaf_font_size=16)\n",
    "plt.show()"
   ]
  },
  {
   "cell_type": "code",
   "execution_count": 207,
   "metadata": {
    "collapsed": true
   },
   "outputs": [],
   "source": [
    "def get_oob(df):\n",
    "    rf = RandomForestRegressor(n_estimators=50, n_jobs=-1, oob_score=True)\n",
    "    x, _ = split_vals(df, n_trn)\n",
    "    rf.fit(x, y_train)\n",
    "    return rf.oob_score_"
   ]
  },
  {
   "cell_type": "code",
   "execution_count": 208,
   "metadata": {},
   "outputs": [
    {
     "data": {
      "text/plain": [
       "0.90608937954732205"
      ]
     },
     "execution_count": 208,
     "metadata": {},
     "output_type": "execute_result"
    }
   ],
   "source": [
    "get_oob(df_keep)"
   ]
  },
  {
   "cell_type": "code",
   "execution_count": 209,
   "metadata": {},
   "outputs": [
    {
     "name": "stdout",
     "output_type": "stream",
     "text": [
      "fiBaseModel:  0.905880599312\n",
      "fiModelDesc:  0.905719274988\n"
     ]
    }
   ],
   "source": [
    "for col_name in [\"fiBaseModel\", \"fiModelDesc\"]:\n",
    "    print(col_name+\": \", get_oob(df_keep.drop(col_name, axis=1)))"
   ]
  },
  {
   "cell_type": "code",
   "execution_count": 212,
   "metadata": {},
   "outputs": [
    {
     "data": {
      "text/html": [
       "<div>\n",
       "<style>\n",
       "    .dataframe thead tr:only-child th {\n",
       "        text-align: right;\n",
       "    }\n",
       "\n",
       "    .dataframe thead th {\n",
       "        text-align: left;\n",
       "    }\n",
       "\n",
       "    .dataframe tbody tr th {\n",
       "        vertical-align: top;\n",
       "    }\n",
       "</style>\n",
       "<table border=\"1\" class=\"dataframe\">\n",
       "  <thead>\n",
       "    <tr style=\"text-align: right;\">\n",
       "      <th></th>\n",
       "      <th>Coupler_System</th>\n",
       "      <th>YearMade</th>\n",
       "      <th>ProductSize</th>\n",
       "      <th>fiProductClassDesc</th>\n",
       "      <th>ModelID</th>\n",
       "      <th>sale_Elapsed</th>\n",
       "      <th>Enclosure</th>\n",
       "      <th>fiModelDesc</th>\n",
       "      <th>fiSecondaryDesc</th>\n",
       "      <th>SalesID</th>\n",
       "      <th>fiModelDescriptor</th>\n",
       "      <th>MachineID</th>\n",
       "      <th>state</th>\n",
       "      <th>sale_Day</th>\n",
       "      <th>sale_Dayofyear</th>\n",
       "    </tr>\n",
       "  </thead>\n",
       "  <tbody>\n",
       "    <tr>\n",
       "      <th>0</th>\n",
       "      <td>0</td>\n",
       "      <td>2004</td>\n",
       "      <td>0</td>\n",
       "      <td>59</td>\n",
       "      <td>3157</td>\n",
       "      <td>1163635200</td>\n",
       "      <td>3</td>\n",
       "      <td>950</td>\n",
       "      <td>41</td>\n",
       "      <td>1139246</td>\n",
       "      <td>0</td>\n",
       "      <td>999089</td>\n",
       "      <td>1</td>\n",
       "      <td>16</td>\n",
       "      <td>320</td>\n",
       "    </tr>\n",
       "    <tr>\n",
       "      <th>1</th>\n",
       "      <td>0</td>\n",
       "      <td>1996</td>\n",
       "      <td>4</td>\n",
       "      <td>62</td>\n",
       "      <td>77</td>\n",
       "      <td>1080259200</td>\n",
       "      <td>3</td>\n",
       "      <td>1725</td>\n",
       "      <td>55</td>\n",
       "      <td>1139248</td>\n",
       "      <td>0</td>\n",
       "      <td>117657</td>\n",
       "      <td>33</td>\n",
       "      <td>26</td>\n",
       "      <td>86</td>\n",
       "    </tr>\n",
       "    <tr>\n",
       "      <th>2</th>\n",
       "      <td>1</td>\n",
       "      <td>2001</td>\n",
       "      <td>0</td>\n",
       "      <td>39</td>\n",
       "      <td>7009</td>\n",
       "      <td>1077753600</td>\n",
       "      <td>6</td>\n",
       "      <td>331</td>\n",
       "      <td>0</td>\n",
       "      <td>1139249</td>\n",
       "      <td>0</td>\n",
       "      <td>434808</td>\n",
       "      <td>32</td>\n",
       "      <td>26</td>\n",
       "      <td>57</td>\n",
       "    </tr>\n",
       "    <tr>\n",
       "      <th>3</th>\n",
       "      <td>0</td>\n",
       "      <td>2001</td>\n",
       "      <td>6</td>\n",
       "      <td>8</td>\n",
       "      <td>332</td>\n",
       "      <td>1305763200</td>\n",
       "      <td>3</td>\n",
       "      <td>3674</td>\n",
       "      <td>0</td>\n",
       "      <td>1139251</td>\n",
       "      <td>0</td>\n",
       "      <td>1026470</td>\n",
       "      <td>44</td>\n",
       "      <td>19</td>\n",
       "      <td>139</td>\n",
       "    </tr>\n",
       "    <tr>\n",
       "      <th>4</th>\n",
       "      <td>1</td>\n",
       "      <td>2007</td>\n",
       "      <td>0</td>\n",
       "      <td>40</td>\n",
       "      <td>17311</td>\n",
       "      <td>1248307200</td>\n",
       "      <td>1</td>\n",
       "      <td>4208</td>\n",
       "      <td>0</td>\n",
       "      <td>1139253</td>\n",
       "      <td>0</td>\n",
       "      <td>1057373</td>\n",
       "      <td>32</td>\n",
       "      <td>23</td>\n",
       "      <td>204</td>\n",
       "    </tr>\n",
       "  </tbody>\n",
       "</table>\n",
       "</div>"
      ],
      "text/plain": [
       "   Coupler_System  YearMade  ProductSize  fiProductClassDesc  ModelID  \\\n",
       "0               0      2004            0                  59     3157   \n",
       "1               0      1996            4                  62       77   \n",
       "2               1      2001            0                  39     7009   \n",
       "3               0      2001            6                   8      332   \n",
       "4               1      2007            0                  40    17311   \n",
       "\n",
       "   sale_Elapsed  Enclosure  fiModelDesc  fiSecondaryDesc  SalesID  \\\n",
       "0    1163635200          3          950               41  1139246   \n",
       "1    1080259200          3         1725               55  1139248   \n",
       "2    1077753600          6          331                0  1139249   \n",
       "3    1305763200          3         3674                0  1139251   \n",
       "4    1248307200          1         4208                0  1139253   \n",
       "\n",
       "   fiModelDescriptor  MachineID  state  sale_Day  sale_Dayofyear  \n",
       "0                  0     999089      1        16             320  \n",
       "1                  0     117657     33        26              86  \n",
       "2                  0     434808     32        26              57  \n",
       "3                  0    1026470     44        19             139  \n",
       "4                  0    1057373     32        23             204  "
      ]
     },
     "execution_count": 212,
     "metadata": {},
     "output_type": "execute_result"
    }
   ],
   "source": [
    "df_keep.head()"
   ]
  },
  {
   "cell_type": "code",
   "execution_count": 224,
   "metadata": {
    "collapsed": true
   },
   "outputs": [],
   "source": [
    "random_forest = RandomForestRegressor(n_estimators=150, min_samples_leaf=3, max_features=0.5, n_jobs=-1, oob_score=True)\n",
    "x_train, x_valid = split_vals(df_keep, n_trn)\n",
    "y_train, y_valid = split_vals(sale_price, n_trn)"
   ]
  },
  {
   "cell_type": "code",
   "execution_count": 225,
   "metadata": {},
   "outputs": [
    {
     "data": {
      "text/plain": [
       "RandomForestRegressor(bootstrap=True, criterion='mse', max_depth=None,\n",
       "           max_features=0.5, max_leaf_nodes=None,\n",
       "           min_impurity_decrease=0.0, min_impurity_split=None,\n",
       "           min_samples_leaf=3, min_samples_split=2,\n",
       "           min_weight_fraction_leaf=0.0, n_estimators=150, n_jobs=-1,\n",
       "           oob_score=True, random_state=None, verbose=0, warm_start=False)"
      ]
     },
     "execution_count": 225,
     "metadata": {},
     "output_type": "execute_result"
    }
   ],
   "source": [
    "random_forest.fit(x_train, y_train)"
   ]
  },
  {
   "cell_type": "code",
   "execution_count": 226,
   "metadata": {},
   "outputs": [
    {
     "name": "stdout",
     "output_type": "stream",
     "text": [
      "RMSE train:  0.12549459565566543\n",
      "RMSE valid:  0.22683047951016366\n",
      "RF score train:  0.967085681048\n",
      "RF score valid:  0.908113693306\n",
      "RF oob:  0.91116322676\n"
     ]
    }
   ],
   "source": [
    "scores = scores.join(pd.DataFrame({\"final\": print_score(random_forest)}))"
   ]
  },
  {
   "cell_type": "code",
   "execution_count": 227,
   "metadata": {},
   "outputs": [
    {
     "data": {
      "text/html": [
       "<div>\n",
       "<style>\n",
       "    .dataframe thead tr:only-child th {\n",
       "        text-align: right;\n",
       "    }\n",
       "\n",
       "    .dataframe thead th {\n",
       "        text-align: left;\n",
       "    }\n",
       "\n",
       "    .dataframe tbody tr th {\n",
       "        vertical-align: top;\n",
       "    }\n",
       "</style>\n",
       "<table border=\"1\" class=\"dataframe\">\n",
       "  <thead>\n",
       "    <tr style=\"text-align: right;\">\n",
       "      <th></th>\n",
       "      <th>baseline</th>\n",
       "      <th>feat_importance</th>\n",
       "      <th>final</th>\n",
       "    </tr>\n",
       "  </thead>\n",
       "  <tbody>\n",
       "    <tr>\n",
       "      <th>RF oob</th>\n",
       "      <td>0.909990</td>\n",
       "      <td>0.906116</td>\n",
       "      <td>0.911163</td>\n",
       "    </tr>\n",
       "    <tr>\n",
       "      <th>RF score train</th>\n",
       "      <td>0.987465</td>\n",
       "      <td>0.986928</td>\n",
       "      <td>0.967086</td>\n",
       "    </tr>\n",
       "    <tr>\n",
       "      <th>RF score valid</th>\n",
       "      <td>0.900685</td>\n",
       "      <td>0.900477</td>\n",
       "      <td>0.908114</td>\n",
       "    </tr>\n",
       "    <tr>\n",
       "      <th>RMSE train</th>\n",
       "      <td>0.077446</td>\n",
       "      <td>0.079087</td>\n",
       "      <td>0.125495</td>\n",
       "    </tr>\n",
       "    <tr>\n",
       "      <th>RMSE valid</th>\n",
       "      <td>0.235821</td>\n",
       "      <td>0.236069</td>\n",
       "      <td>0.226830</td>\n",
       "    </tr>\n",
       "  </tbody>\n",
       "</table>\n",
       "</div>"
      ],
      "text/plain": [
       "                baseline  feat_importance     final\n",
       "RF oob          0.909990         0.906116  0.911163\n",
       "RF score train  0.987465         0.986928  0.967086\n",
       "RF score valid  0.900685         0.900477  0.908114\n",
       "RMSE train      0.077446         0.079087  0.125495\n",
       "RMSE valid      0.235821         0.236069  0.226830"
      ]
     },
     "execution_count": 227,
     "metadata": {},
     "output_type": "execute_result"
    }
   ],
   "source": [
    "scores"
   ]
  },
  {
   "cell_type": "markdown",
   "metadata": {
    "collapsed": true
   },
   "source": [
    "# Confidence based on tree variance"
   ]
  },
  {
   "cell_type": "code",
   "execution_count": null,
   "metadata": {
    "collapsed": true
   },
   "outputs": [],
   "source": []
  }
 ],
 "metadata": {
  "kernelspec": {
   "display_name": "Python 3",
   "language": "python",
   "name": "python3"
  },
  "language_info": {
   "codemirror_mode": {
    "name": "ipython",
    "version": 3
   },
   "file_extension": ".py",
   "mimetype": "text/x-python",
   "name": "python",
   "nbconvert_exporter": "python",
   "pygments_lexer": "ipython3",
   "version": "3.6.3"
  }
 },
 "nbformat": 4,
 "nbformat_minor": 2
}
